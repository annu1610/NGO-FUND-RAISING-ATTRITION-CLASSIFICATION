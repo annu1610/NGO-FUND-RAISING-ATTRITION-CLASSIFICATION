{
 "cells": [
  {
   "cell_type": "markdown",
   "metadata": {},
   "source": [
    "# NGO-FUND RAISING ATTRITION"
   ]
  },
  {
   "cell_type": "markdown",
   "metadata": {},
   "source": [
    "**Objective:To determine churn probability of customers from the base table**"
   ]
  },
  {
   "cell_type": "code",
   "execution_count": 1,
   "metadata": {},
   "outputs": [],
   "source": [
    "import pandas as pd\n",
    "import numpy as np"
   ]
  },
  {
   "cell_type": "code",
   "execution_count": 2,
   "metadata": {},
   "outputs": [
    {
     "data": {
      "text/html": [
       "<div>\n",
       "<style scoped>\n",
       "    .dataframe tbody tr th:only-of-type {\n",
       "        vertical-align: middle;\n",
       "    }\n",
       "\n",
       "    .dataframe tbody tr th {\n",
       "        vertical-align: top;\n",
       "    }\n",
       "\n",
       "    .dataframe thead th {\n",
       "        text-align: right;\n",
       "    }\n",
       "</style>\n",
       "<table border=\"1\" class=\"dataframe\">\n",
       "  <thead>\n",
       "    <tr style=\"text-align: right;\">\n",
       "      <th></th>\n",
       "      <th>CLASCODE</th>\n",
       "      <th>CLASDESC</th>\n",
       "    </tr>\n",
       "  </thead>\n",
       "  <tbody>\n",
       "    <tr>\n",
       "      <th>0</th>\n",
       "      <td>b'CT'</td>\n",
       "      <td>b'CTS-item'</td>\n",
       "    </tr>\n",
       "    <tr>\n",
       "      <th>1</th>\n",
       "      <td>b'RI'</td>\n",
       "      <td>b'Request for information'</td>\n",
       "    </tr>\n",
       "    <tr>\n",
       "      <th>2</th>\n",
       "      <td>b'CM'</td>\n",
       "      <td>b'Complaint'</td>\n",
       "    </tr>\n",
       "    <tr>\n",
       "      <th>3</th>\n",
       "      <td>b'TA'</td>\n",
       "      <td>b'Threath / Accusation'</td>\n",
       "    </tr>\n",
       "    <tr>\n",
       "      <th>4</th>\n",
       "      <td>b'AK'</td>\n",
       "      <td>b'Acknowledgement'</td>\n",
       "    </tr>\n",
       "    <tr>\n",
       "      <th>5</th>\n",
       "      <td>b'RM'</td>\n",
       "      <td>b'Reminder'</td>\n",
       "    </tr>\n",
       "    <tr>\n",
       "      <th>6</th>\n",
       "      <td>b'ID'</td>\n",
       "      <td>b'Information delivery'</td>\n",
       "    </tr>\n",
       "    <tr>\n",
       "      <th>7</th>\n",
       "      <td>b'AN'</td>\n",
       "      <td>b'Answer'</td>\n",
       "    </tr>\n",
       "  </tbody>\n",
       "</table>\n",
       "</div>"
      ],
      "text/plain": [
       "  CLASCODE                    CLASDESC\n",
       "0    b'CT'                 b'CTS-item'\n",
       "1    b'RI'  b'Request for information'\n",
       "2    b'CM'                b'Complaint'\n",
       "3    b'TA'     b'Threath / Accusation'\n",
       "4    b'AK'          b'Acknowledgement'\n",
       "5    b'RM'                 b'Reminder'\n",
       "6    b'ID'     b'Information delivery'\n",
       "7    b'AN'                   b'Answer'"
      ]
     },
     "execution_count": 2,
     "metadata": {},
     "output_type": "execute_result"
    }
   ],
   "source": [
    "comclas=pd.read_sas('comclas.sas7bdat')\n",
    "comclas"
   ]
  },
  {
   "cell_type": "markdown",
   "metadata": {},
   "source": [
    "**Removing prefix from columns of given data**"
   ]
  },
  {
   "cell_type": "code",
   "execution_count": 3,
   "metadata": {},
   "outputs": [],
   "source": [
    "for col in comclas:\n",
    "    comclas[col]=comclas[col].str.decode('utf-8')"
   ]
  },
  {
   "cell_type": "code",
   "execution_count": 4,
   "metadata": {},
   "outputs": [
    {
     "data": {
      "text/html": [
       "<div>\n",
       "<style scoped>\n",
       "    .dataframe tbody tr th:only-of-type {\n",
       "        vertical-align: middle;\n",
       "    }\n",
       "\n",
       "    .dataframe tbody tr th {\n",
       "        vertical-align: top;\n",
       "    }\n",
       "\n",
       "    .dataframe thead th {\n",
       "        text-align: right;\n",
       "    }\n",
       "</style>\n",
       "<table border=\"1\" class=\"dataframe\">\n",
       "  <thead>\n",
       "    <tr style=\"text-align: right;\">\n",
       "      <th></th>\n",
       "      <th>CLASCODE</th>\n",
       "      <th>CLASDESC</th>\n",
       "    </tr>\n",
       "  </thead>\n",
       "  <tbody>\n",
       "    <tr>\n",
       "      <th>0</th>\n",
       "      <td>CT</td>\n",
       "      <td>CTS-item</td>\n",
       "    </tr>\n",
       "    <tr>\n",
       "      <th>1</th>\n",
       "      <td>RI</td>\n",
       "      <td>Request for information</td>\n",
       "    </tr>\n",
       "    <tr>\n",
       "      <th>2</th>\n",
       "      <td>CM</td>\n",
       "      <td>Complaint</td>\n",
       "    </tr>\n",
       "    <tr>\n",
       "      <th>3</th>\n",
       "      <td>TA</td>\n",
       "      <td>Threath / Accusation</td>\n",
       "    </tr>\n",
       "    <tr>\n",
       "      <th>4</th>\n",
       "      <td>AK</td>\n",
       "      <td>Acknowledgement</td>\n",
       "    </tr>\n",
       "    <tr>\n",
       "      <th>5</th>\n",
       "      <td>RM</td>\n",
       "      <td>Reminder</td>\n",
       "    </tr>\n",
       "    <tr>\n",
       "      <th>6</th>\n",
       "      <td>ID</td>\n",
       "      <td>Information delivery</td>\n",
       "    </tr>\n",
       "    <tr>\n",
       "      <th>7</th>\n",
       "      <td>AN</td>\n",
       "      <td>Answer</td>\n",
       "    </tr>\n",
       "  </tbody>\n",
       "</table>\n",
       "</div>"
      ],
      "text/plain": [
       "  CLASCODE                 CLASDESC\n",
       "0       CT                 CTS-item\n",
       "1       RI  Request for information\n",
       "2       CM                Complaint\n",
       "3       TA     Threath / Accusation\n",
       "4       AK          Acknowledgement\n",
       "5       RM                 Reminder\n",
       "6       ID     Information delivery\n",
       "7       AN                   Answer"
      ]
     },
     "execution_count": 4,
     "metadata": {},
     "output_type": "execute_result"
    }
   ],
   "source": [
    "comclas"
   ]
  },
  {
   "cell_type": "code",
   "execution_count": 5,
   "metadata": {},
   "outputs": [
    {
     "data": {
      "text/html": [
       "<div>\n",
       "<style scoped>\n",
       "    .dataframe tbody tr th:only-of-type {\n",
       "        vertical-align: middle;\n",
       "    }\n",
       "\n",
       "    .dataframe tbody tr th {\n",
       "        vertical-align: top;\n",
       "    }\n",
       "\n",
       "    .dataframe thead th {\n",
       "        text-align: right;\n",
       "    }\n",
       "</style>\n",
       "<table border=\"1\" class=\"dataframe\">\n",
       "  <thead>\n",
       "    <tr style=\"text-align: right;\">\n",
       "      <th></th>\n",
       "      <th>MNTOPCODE</th>\n",
       "      <th>MNTOPDESC</th>\n",
       "    </tr>\n",
       "  </thead>\n",
       "  <tbody>\n",
       "    <tr>\n",
       "      <th>0</th>\n",
       "      <td>b'CAN'</td>\n",
       "      <td>b'Cancellations/replacements'</td>\n",
       "    </tr>\n",
       "    <tr>\n",
       "      <th>1</th>\n",
       "      <td>b'DIS'</td>\n",
       "      <td>b'Discontinuations'</td>\n",
       "    </tr>\n",
       "    <tr>\n",
       "      <th>2</th>\n",
       "      <td>b'MKT'</td>\n",
       "      <td>b'Marketing - Enquiries'</td>\n",
       "    </tr>\n",
       "    <tr>\n",
       "      <th>3</th>\n",
       "      <td>b'GEN'</td>\n",
       "      <td>b'General'</td>\n",
       "    </tr>\n",
       "    <tr>\n",
       "      <th>4</th>\n",
       "      <td>b'NEW'</td>\n",
       "      <td>b'New relations'</td>\n",
       "    </tr>\n",
       "  </tbody>\n",
       "</table>\n",
       "</div>"
      ],
      "text/plain": [
       "  MNTOPCODE                      MNTOPDESC\n",
       "0    b'CAN'  b'Cancellations/replacements'\n",
       "1    b'DIS'            b'Discontinuations'\n",
       "2    b'MKT'       b'Marketing - Enquiries'\n",
       "3    b'GEN'                     b'General'\n",
       "4    b'NEW'               b'New relations'"
      ]
     },
     "execution_count": 5,
     "metadata": {},
     "output_type": "execute_result"
    }
   ],
   "source": [
    "commaint=pd.read_sas('commaint.sas7bdat')\n",
    "commaint.head()"
   ]
  },
  {
   "cell_type": "code",
   "execution_count": 6,
   "metadata": {},
   "outputs": [],
   "source": [
    "for col in commaint:\n",
    "    commaint[col]=commaint[col].str.decode('utf-8')\n",
    "    "
   ]
  },
  {
   "cell_type": "code",
   "execution_count": 7,
   "metadata": {},
   "outputs": [
    {
     "data": {
      "text/html": [
       "<div>\n",
       "<style scoped>\n",
       "    .dataframe tbody tr th:only-of-type {\n",
       "        vertical-align: middle;\n",
       "    }\n",
       "\n",
       "    .dataframe tbody tr th {\n",
       "        vertical-align: top;\n",
       "    }\n",
       "\n",
       "    .dataframe thead th {\n",
       "        text-align: right;\n",
       "    }\n",
       "</style>\n",
       "<table border=\"1\" class=\"dataframe\">\n",
       "  <thead>\n",
       "    <tr style=\"text-align: right;\">\n",
       "      <th></th>\n",
       "      <th>MNTOPCODE</th>\n",
       "      <th>MNTOPDESC</th>\n",
       "    </tr>\n",
       "  </thead>\n",
       "  <tbody>\n",
       "    <tr>\n",
       "      <th>0</th>\n",
       "      <td>CAN</td>\n",
       "      <td>Cancellations/replacements</td>\n",
       "    </tr>\n",
       "    <tr>\n",
       "      <th>1</th>\n",
       "      <td>DIS</td>\n",
       "      <td>Discontinuations</td>\n",
       "    </tr>\n",
       "    <tr>\n",
       "      <th>2</th>\n",
       "      <td>MKT</td>\n",
       "      <td>Marketing - Enquiries</td>\n",
       "    </tr>\n",
       "    <tr>\n",
       "      <th>3</th>\n",
       "      <td>GEN</td>\n",
       "      <td>General</td>\n",
       "    </tr>\n",
       "    <tr>\n",
       "      <th>4</th>\n",
       "      <td>NEW</td>\n",
       "      <td>New relations</td>\n",
       "    </tr>\n",
       "  </tbody>\n",
       "</table>\n",
       "</div>"
      ],
      "text/plain": [
       "  MNTOPCODE                   MNTOPDESC\n",
       "0       CAN  Cancellations/replacements\n",
       "1       DIS            Discontinuations\n",
       "2       MKT       Marketing - Enquiries\n",
       "3       GEN                     General\n",
       "4       NEW               New relations"
      ]
     },
     "execution_count": 7,
     "metadata": {},
     "output_type": "execute_result"
    }
   ],
   "source": [
    "commaint.head()"
   ]
  },
  {
   "cell_type": "code",
   "execution_count": 8,
   "metadata": {},
   "outputs": [
    {
     "data": {
      "text/html": [
       "<div>\n",
       "<style scoped>\n",
       "    .dataframe tbody tr th:only-of-type {\n",
       "        vertical-align: middle;\n",
       "    }\n",
       "\n",
       "    .dataframe tbody tr th {\n",
       "        vertical-align: top;\n",
       "    }\n",
       "\n",
       "    .dataframe thead th {\n",
       "        text-align: right;\n",
       "    }\n",
       "</style>\n",
       "<table border=\"1\" class=\"dataframe\">\n",
       "  <thead>\n",
       "    <tr style=\"text-align: right;\">\n",
       "      <th></th>\n",
       "      <th>MEDIUMCODE</th>\n",
       "      <th>MEDIUMDESC</th>\n",
       "    </tr>\n",
       "  </thead>\n",
       "  <tbody>\n",
       "    <tr>\n",
       "      <th>0</th>\n",
       "      <td>b'FF'</td>\n",
       "      <td>b'Face to Face contact'</td>\n",
       "    </tr>\n",
       "    <tr>\n",
       "      <th>1</th>\n",
       "      <td>b'FX'</td>\n",
       "      <td>b'Fax'</td>\n",
       "    </tr>\n",
       "    <tr>\n",
       "      <th>2</th>\n",
       "      <td>b'TX'</td>\n",
       "      <td>b'Telex'</td>\n",
       "    </tr>\n",
       "    <tr>\n",
       "      <th>3</th>\n",
       "      <td>b'EM'</td>\n",
       "      <td>b'Electronic Mail'</td>\n",
       "    </tr>\n",
       "    <tr>\n",
       "      <th>4</th>\n",
       "      <td>b'TE'</td>\n",
       "      <td>b'Telephone call'</td>\n",
       "    </tr>\n",
       "  </tbody>\n",
       "</table>\n",
       "</div>"
      ],
      "text/plain": [
       "  MEDIUMCODE               MEDIUMDESC\n",
       "0      b'FF'  b'Face to Face contact'\n",
       "1      b'FX'                   b'Fax'\n",
       "2      b'TX'                 b'Telex'\n",
       "3      b'EM'       b'Electronic Mail'\n",
       "4      b'TE'        b'Telephone call'"
      ]
     },
     "execution_count": 8,
     "metadata": {},
     "output_type": "execute_result"
    }
   ],
   "source": [
    "commediu=pd.read_sas('commediu.sas7bdat')\n",
    "commediu.head()"
   ]
  },
  {
   "cell_type": "code",
   "execution_count": 9,
   "metadata": {},
   "outputs": [],
   "source": [
    "for col in commediu:\n",
    "    commediu[col]=commediu[col].str.decode('utf-8')"
   ]
  },
  {
   "cell_type": "code",
   "execution_count": 10,
   "metadata": {},
   "outputs": [
    {
     "data": {
      "text/html": [
       "<div>\n",
       "<style scoped>\n",
       "    .dataframe tbody tr th:only-of-type {\n",
       "        vertical-align: middle;\n",
       "    }\n",
       "\n",
       "    .dataframe tbody tr th {\n",
       "        vertical-align: top;\n",
       "    }\n",
       "\n",
       "    .dataframe thead th {\n",
       "        text-align: right;\n",
       "    }\n",
       "</style>\n",
       "<table border=\"1\" class=\"dataframe\">\n",
       "  <thead>\n",
       "    <tr style=\"text-align: right;\">\n",
       "      <th></th>\n",
       "      <th>MEDIUMCODE</th>\n",
       "      <th>MEDIUMDESC</th>\n",
       "    </tr>\n",
       "  </thead>\n",
       "  <tbody>\n",
       "    <tr>\n",
       "      <th>0</th>\n",
       "      <td>FF</td>\n",
       "      <td>Face to Face contact</td>\n",
       "    </tr>\n",
       "    <tr>\n",
       "      <th>1</th>\n",
       "      <td>FX</td>\n",
       "      <td>Fax</td>\n",
       "    </tr>\n",
       "    <tr>\n",
       "      <th>2</th>\n",
       "      <td>TX</td>\n",
       "      <td>Telex</td>\n",
       "    </tr>\n",
       "    <tr>\n",
       "      <th>3</th>\n",
       "      <td>EM</td>\n",
       "      <td>Electronic Mail</td>\n",
       "    </tr>\n",
       "    <tr>\n",
       "      <th>4</th>\n",
       "      <td>TE</td>\n",
       "      <td>Telephone call</td>\n",
       "    </tr>\n",
       "  </tbody>\n",
       "</table>\n",
       "</div>"
      ],
      "text/plain": [
       "  MEDIUMCODE            MEDIUMDESC\n",
       "0         FF  Face to Face contact\n",
       "1         FX                   Fax\n",
       "2         TX                 Telex\n",
       "3         EM       Electronic Mail\n",
       "4         TE        Telephone call"
      ]
     },
     "execution_count": 10,
     "metadata": {},
     "output_type": "execute_result"
    }
   ],
   "source": [
    "commediu.head()"
   ]
  },
  {
   "cell_type": "code",
   "execution_count": 11,
   "metadata": {
    "scrolled": true
   },
   "outputs": [
    {
     "data": {
      "text/html": [
       "<div>\n",
       "<style scoped>\n",
       "    .dataframe tbody tr th:only-of-type {\n",
       "        vertical-align: middle;\n",
       "    }\n",
       "\n",
       "    .dataframe tbody tr th {\n",
       "        vertical-align: top;\n",
       "    }\n",
       "\n",
       "    .dataframe thead th {\n",
       "        text-align: right;\n",
       "    }\n",
       "</style>\n",
       "<table border=\"1\" class=\"dataframe\">\n",
       "  <thead>\n",
       "    <tr style=\"text-align: right;\">\n",
       "      <th></th>\n",
       "      <th>CONTID</th>\n",
       "      <th>MEDIUMCODE</th>\n",
       "      <th>MNTOPCODE</th>\n",
       "      <th>CLASCODE</th>\n",
       "      <th>EXTRELNO</th>\n",
       "      <th>CONTDIREC</th>\n",
       "      <th>CONTDATE</th>\n",
       "    </tr>\n",
       "  </thead>\n",
       "  <tbody>\n",
       "    <tr>\n",
       "      <th>0</th>\n",
       "      <td>b'000405402'</td>\n",
       "      <td>b'CI'</td>\n",
       "      <td>b'CTS'</td>\n",
       "      <td>b'CT'</td>\n",
       "      <td>b'0000020'</td>\n",
       "      <td>b'O'</td>\n",
       "      <td>1994-05-09</td>\n",
       "    </tr>\n",
       "    <tr>\n",
       "      <th>1</th>\n",
       "      <td>b'000430904'</td>\n",
       "      <td>b'CI'</td>\n",
       "      <td>b'CTS'</td>\n",
       "      <td>b'CT'</td>\n",
       "      <td>b'0000020'</td>\n",
       "      <td>b'O'</td>\n",
       "      <td>1994-06-14</td>\n",
       "    </tr>\n",
       "    <tr>\n",
       "      <th>2</th>\n",
       "      <td>b'000592732'</td>\n",
       "      <td>b'CI'</td>\n",
       "      <td>b'CTS'</td>\n",
       "      <td>b'CT'</td>\n",
       "      <td>b'0000020'</td>\n",
       "      <td>b'O'</td>\n",
       "      <td>1994-10-21</td>\n",
       "    </tr>\n",
       "    <tr>\n",
       "      <th>3</th>\n",
       "      <td>b'000593375'</td>\n",
       "      <td>b'CI'</td>\n",
       "      <td>b'CTS'</td>\n",
       "      <td>b'CT'</td>\n",
       "      <td>b'0000020'</td>\n",
       "      <td>b'O'</td>\n",
       "      <td>1994-10-21</td>\n",
       "    </tr>\n",
       "    <tr>\n",
       "      <th>4</th>\n",
       "      <td>b'000618514'</td>\n",
       "      <td>b'CI'</td>\n",
       "      <td>b'CTS'</td>\n",
       "      <td>b'CT'</td>\n",
       "      <td>b'0000020'</td>\n",
       "      <td>b'O'</td>\n",
       "      <td>1994-11-28</td>\n",
       "    </tr>\n",
       "  </tbody>\n",
       "</table>\n",
       "</div>"
      ],
      "text/plain": [
       "         CONTID MEDIUMCODE MNTOPCODE CLASCODE    EXTRELNO CONTDIREC   CONTDATE\n",
       "0  b'000405402'      b'CI'    b'CTS'    b'CT'  b'0000020'      b'O' 1994-05-09\n",
       "1  b'000430904'      b'CI'    b'CTS'    b'CT'  b'0000020'      b'O' 1994-06-14\n",
       "2  b'000592732'      b'CI'    b'CTS'    b'CT'  b'0000020'      b'O' 1994-10-21\n",
       "3  b'000593375'      b'CI'    b'CTS'    b'CT'  b'0000020'      b'O' 1994-10-21\n",
       "4  b'000618514'      b'CI'    b'CTS'    b'CT'  b'0000020'      b'O' 1994-11-28"
      ]
     },
     "execution_count": 11,
     "metadata": {},
     "output_type": "execute_result"
    }
   ],
   "source": [
    "communication=pd.read_sas('communication.sas7bdat')\n",
    "communication.head()"
   ]
  },
  {
   "cell_type": "code",
   "execution_count": 12,
   "metadata": {},
   "outputs": [],
   "source": [
    "for col in communication.columns:\n",
    "    if col != 'CONTDATE':\n",
    "        communication[col]=communication[col].str.decode('utf-8')   "
   ]
  },
  {
   "cell_type": "code",
   "execution_count": 13,
   "metadata": {},
   "outputs": [
    {
     "data": {
      "text/html": [
       "<div>\n",
       "<style scoped>\n",
       "    .dataframe tbody tr th:only-of-type {\n",
       "        vertical-align: middle;\n",
       "    }\n",
       "\n",
       "    .dataframe tbody tr th {\n",
       "        vertical-align: top;\n",
       "    }\n",
       "\n",
       "    .dataframe thead th {\n",
       "        text-align: right;\n",
       "    }\n",
       "</style>\n",
       "<table border=\"1\" class=\"dataframe\">\n",
       "  <thead>\n",
       "    <tr style=\"text-align: right;\">\n",
       "      <th></th>\n",
       "      <th>CONTID</th>\n",
       "      <th>MEDIUMCODE</th>\n",
       "      <th>MNTOPCODE</th>\n",
       "      <th>CLASCODE</th>\n",
       "      <th>EXTRELNO</th>\n",
       "      <th>CONTDIREC</th>\n",
       "      <th>CONTDATE</th>\n",
       "    </tr>\n",
       "  </thead>\n",
       "  <tbody>\n",
       "    <tr>\n",
       "      <th>0</th>\n",
       "      <td>000405402</td>\n",
       "      <td>CI</td>\n",
       "      <td>CTS</td>\n",
       "      <td>CT</td>\n",
       "      <td>0000020</td>\n",
       "      <td>O</td>\n",
       "      <td>1994-05-09</td>\n",
       "    </tr>\n",
       "    <tr>\n",
       "      <th>1</th>\n",
       "      <td>000430904</td>\n",
       "      <td>CI</td>\n",
       "      <td>CTS</td>\n",
       "      <td>CT</td>\n",
       "      <td>0000020</td>\n",
       "      <td>O</td>\n",
       "      <td>1994-06-14</td>\n",
       "    </tr>\n",
       "    <tr>\n",
       "      <th>2</th>\n",
       "      <td>000592732</td>\n",
       "      <td>CI</td>\n",
       "      <td>CTS</td>\n",
       "      <td>CT</td>\n",
       "      <td>0000020</td>\n",
       "      <td>O</td>\n",
       "      <td>1994-10-21</td>\n",
       "    </tr>\n",
       "    <tr>\n",
       "      <th>3</th>\n",
       "      <td>000593375</td>\n",
       "      <td>CI</td>\n",
       "      <td>CTS</td>\n",
       "      <td>CT</td>\n",
       "      <td>0000020</td>\n",
       "      <td>O</td>\n",
       "      <td>1994-10-21</td>\n",
       "    </tr>\n",
       "    <tr>\n",
       "      <th>4</th>\n",
       "      <td>000618514</td>\n",
       "      <td>CI</td>\n",
       "      <td>CTS</td>\n",
       "      <td>CT</td>\n",
       "      <td>0000020</td>\n",
       "      <td>O</td>\n",
       "      <td>1994-11-28</td>\n",
       "    </tr>\n",
       "  </tbody>\n",
       "</table>\n",
       "</div>"
      ],
      "text/plain": [
       "      CONTID MEDIUMCODE MNTOPCODE CLASCODE EXTRELNO CONTDIREC   CONTDATE\n",
       "0  000405402         CI       CTS       CT  0000020         O 1994-05-09\n",
       "1  000430904         CI       CTS       CT  0000020         O 1994-06-14\n",
       "2  000592732         CI       CTS       CT  0000020         O 1994-10-21\n",
       "3  000593375         CI       CTS       CT  0000020         O 1994-10-21\n",
       "4  000618514         CI       CTS       CT  0000020         O 1994-11-28"
      ]
     },
     "execution_count": 13,
     "metadata": {},
     "output_type": "execute_result"
    }
   ],
   "source": [
    "communication.head()"
   ]
  },
  {
   "cell_type": "code",
   "execution_count": 14,
   "metadata": {},
   "outputs": [
    {
     "data": {
      "text/plain": [
       "CT    459032\n",
       "ID    202886\n",
       "AN     37958\n",
       "RI     23780\n",
       "AK     18308\n",
       "PM     10619\n",
       "RM      8558\n",
       "CM      2304\n",
       "NS       124\n",
       "Name: CLASCODE, dtype: int64"
      ]
     },
     "execution_count": 14,
     "metadata": {},
     "output_type": "execute_result"
    }
   ],
   "source": [
    "communication.CLASCODE.value_counts()"
   ]
  },
  {
   "cell_type": "code",
   "execution_count": 15,
   "metadata": {},
   "outputs": [
    {
     "data": {
      "text/html": [
       "<div>\n",
       "<style scoped>\n",
       "    .dataframe tbody tr th:only-of-type {\n",
       "        vertical-align: middle;\n",
       "    }\n",
       "\n",
       "    .dataframe tbody tr th {\n",
       "        vertical-align: top;\n",
       "    }\n",
       "\n",
       "    .dataframe thead th {\n",
       "        text-align: right;\n",
       "    }\n",
       "</style>\n",
       "<table border=\"1\" class=\"dataframe\">\n",
       "  <thead>\n",
       "    <tr style=\"text-align: right;\">\n",
       "      <th></th>\n",
       "      <th>EXTRELNO</th>\n",
       "      <th>EXRELACTCD</th>\n",
       "      <th>EXTRELSTDT</th>\n",
       "      <th>EXRELDATEN</th>\n",
       "    </tr>\n",
       "  </thead>\n",
       "  <tbody>\n",
       "    <tr>\n",
       "      <th>0</th>\n",
       "      <td>b'0026414'</td>\n",
       "      <td>b'CT'</td>\n",
       "      <td>1995-02-02</td>\n",
       "      <td>NaT</td>\n",
       "    </tr>\n",
       "    <tr>\n",
       "      <th>1</th>\n",
       "      <td>b'0026419'</td>\n",
       "      <td>b'FP'</td>\n",
       "      <td>1992-03-01</td>\n",
       "      <td>NaT</td>\n",
       "    </tr>\n",
       "    <tr>\n",
       "      <th>2</th>\n",
       "      <td>b'0026424'</td>\n",
       "      <td>b'FP'</td>\n",
       "      <td>1992-03-01</td>\n",
       "      <td>1996-12-24</td>\n",
       "    </tr>\n",
       "    <tr>\n",
       "      <th>3</th>\n",
       "      <td>b'0026430'</td>\n",
       "      <td>b'FP'</td>\n",
       "      <td>1992-03-01</td>\n",
       "      <td>2006-01-31</td>\n",
       "    </tr>\n",
       "    <tr>\n",
       "      <th>4</th>\n",
       "      <td>b'0026430'</td>\n",
       "      <td>b'CT'</td>\n",
       "      <td>1997-03-07</td>\n",
       "      <td>NaT</td>\n",
       "    </tr>\n",
       "  </tbody>\n",
       "</table>\n",
       "</div>"
      ],
      "text/plain": [
       "     EXTRELNO EXRELACTCD EXTRELSTDT EXRELDATEN\n",
       "0  b'0026414'      b'CT' 1995-02-02        NaT\n",
       "1  b'0026419'      b'FP' 1992-03-01        NaT\n",
       "2  b'0026424'      b'FP' 1992-03-01 1996-12-24\n",
       "3  b'0026430'      b'FP' 1992-03-01 2006-01-31\n",
       "4  b'0026430'      b'CT' 1997-03-07        NaT"
      ]
     },
     "execution_count": 15,
     "metadata": {},
     "output_type": "execute_result"
    }
   ],
   "source": [
    "extrel=pd.read_sas('extrel.sas7bdat')\n",
    "extrel.head()"
   ]
  },
  {
   "cell_type": "code",
   "execution_count": 16,
   "metadata": {},
   "outputs": [],
   "source": [
    "extrel['EXTRELNO']=extrel.iloc[:,0].str.decode('utf-8')\n",
    "extrel['EXRELACTCD']=extrel.iloc[:,1].str.decode('utf-8')"
   ]
  },
  {
   "cell_type": "code",
   "execution_count": 17,
   "metadata": {},
   "outputs": [
    {
     "data": {
      "text/html": [
       "<div>\n",
       "<style scoped>\n",
       "    .dataframe tbody tr th:only-of-type {\n",
       "        vertical-align: middle;\n",
       "    }\n",
       "\n",
       "    .dataframe tbody tr th {\n",
       "        vertical-align: top;\n",
       "    }\n",
       "\n",
       "    .dataframe thead th {\n",
       "        text-align: right;\n",
       "    }\n",
       "</style>\n",
       "<table border=\"1\" class=\"dataframe\">\n",
       "  <thead>\n",
       "    <tr style=\"text-align: right;\">\n",
       "      <th></th>\n",
       "      <th>EXTRELNO</th>\n",
       "      <th>EXRELACTCD</th>\n",
       "      <th>EXTRELSTDT</th>\n",
       "      <th>EXRELDATEN</th>\n",
       "    </tr>\n",
       "  </thead>\n",
       "  <tbody>\n",
       "    <tr>\n",
       "      <th>0</th>\n",
       "      <td>0026414</td>\n",
       "      <td>CT</td>\n",
       "      <td>1995-02-02</td>\n",
       "      <td>NaT</td>\n",
       "    </tr>\n",
       "    <tr>\n",
       "      <th>1</th>\n",
       "      <td>0026419</td>\n",
       "      <td>FP</td>\n",
       "      <td>1992-03-01</td>\n",
       "      <td>NaT</td>\n",
       "    </tr>\n",
       "    <tr>\n",
       "      <th>2</th>\n",
       "      <td>0026424</td>\n",
       "      <td>FP</td>\n",
       "      <td>1992-03-01</td>\n",
       "      <td>1996-12-24</td>\n",
       "    </tr>\n",
       "    <tr>\n",
       "      <th>3</th>\n",
       "      <td>0026430</td>\n",
       "      <td>FP</td>\n",
       "      <td>1992-03-01</td>\n",
       "      <td>2006-01-31</td>\n",
       "    </tr>\n",
       "    <tr>\n",
       "      <th>4</th>\n",
       "      <td>0026430</td>\n",
       "      <td>CT</td>\n",
       "      <td>1997-03-07</td>\n",
       "      <td>NaT</td>\n",
       "    </tr>\n",
       "  </tbody>\n",
       "</table>\n",
       "</div>"
      ],
      "text/plain": [
       "  EXTRELNO EXRELACTCD EXTRELSTDT EXRELDATEN\n",
       "0  0026414         CT 1995-02-02        NaT\n",
       "1  0026419         FP 1992-03-01        NaT\n",
       "2  0026424         FP 1992-03-01 1996-12-24\n",
       "3  0026430         FP 1992-03-01 2006-01-31\n",
       "4  0026430         CT 1997-03-07        NaT"
      ]
     },
     "execution_count": 17,
     "metadata": {},
     "output_type": "execute_result"
    }
   ],
   "source": [
    "extrel.head()"
   ]
  },
  {
   "cell_type": "code",
   "execution_count": 18,
   "metadata": {},
   "outputs": [
    {
     "data": {
      "text/html": [
       "<div>\n",
       "<style scoped>\n",
       "    .dataframe tbody tr th:only-of-type {\n",
       "        vertical-align: middle;\n",
       "    }\n",
       "\n",
       "    .dataframe tbody tr th {\n",
       "        vertical-align: top;\n",
       "    }\n",
       "\n",
       "    .dataframe thead th {\n",
       "        text-align: right;\n",
       "    }\n",
       "</style>\n",
       "<table border=\"1\" class=\"dataframe\">\n",
       "  <thead>\n",
       "    <tr style=\"text-align: right;\">\n",
       "      <th></th>\n",
       "      <th>EXRELACTCD</th>\n",
       "      <th>EXRELACTDE</th>\n",
       "    </tr>\n",
       "  </thead>\n",
       "  <tbody>\n",
       "    <tr>\n",
       "      <th>0</th>\n",
       "      <td>b'FP'</td>\n",
       "      <td>b'CommitmentDo'</td>\n",
       "    </tr>\n",
       "    <tr>\n",
       "      <th>1</th>\n",
       "      <td>b'PS'</td>\n",
       "      <td>b'Prospect'</td>\n",
       "    </tr>\n",
       "    <tr>\n",
       "      <th>2</th>\n",
       "      <td>b'PF'</td>\n",
       "      <td>b'Prosp Fundra'</td>\n",
       "    </tr>\n",
       "    <tr>\n",
       "      <th>3</th>\n",
       "      <td>b'PP'</td>\n",
       "      <td>b'Prosp Promot'</td>\n",
       "    </tr>\n",
       "    <tr>\n",
       "      <th>4</th>\n",
       "      <td>b'GR'</td>\n",
       "      <td>b'Grantor'</td>\n",
       "    </tr>\n",
       "  </tbody>\n",
       "</table>\n",
       "</div>"
      ],
      "text/plain": [
       "  EXRELACTCD       EXRELACTDE\n",
       "0      b'FP'  b'CommitmentDo'\n",
       "1      b'PS'      b'Prospect'\n",
       "2      b'PF'  b'Prosp Fundra'\n",
       "3      b'PP'  b'Prosp Promot'\n",
       "4      b'GR'       b'Grantor'"
      ]
     },
     "execution_count": 18,
     "metadata": {},
     "output_type": "execute_result"
    }
   ],
   "source": [
    "extrelty=pd.read_sas('extrelty.sas7bdat')\n",
    "extrelty.head()"
   ]
  },
  {
   "cell_type": "code",
   "execution_count": 19,
   "metadata": {},
   "outputs": [],
   "source": [
    "for col in extrelty:\n",
    "    extrelty[col]=extrelty[col].str.decode('utf-8')"
   ]
  },
  {
   "cell_type": "code",
   "execution_count": 20,
   "metadata": {},
   "outputs": [
    {
     "data": {
      "text/html": [
       "<div>\n",
       "<style scoped>\n",
       "    .dataframe tbody tr th:only-of-type {\n",
       "        vertical-align: middle;\n",
       "    }\n",
       "\n",
       "    .dataframe tbody tr th {\n",
       "        vertical-align: top;\n",
       "    }\n",
       "\n",
       "    .dataframe thead th {\n",
       "        text-align: right;\n",
       "    }\n",
       "</style>\n",
       "<table border=\"1\" class=\"dataframe\">\n",
       "  <thead>\n",
       "    <tr style=\"text-align: right;\">\n",
       "      <th></th>\n",
       "      <th>EXRELACTCD</th>\n",
       "      <th>EXRELACTDE</th>\n",
       "    </tr>\n",
       "  </thead>\n",
       "  <tbody>\n",
       "    <tr>\n",
       "      <th>0</th>\n",
       "      <td>FP</td>\n",
       "      <td>CommitmentDo</td>\n",
       "    </tr>\n",
       "    <tr>\n",
       "      <th>1</th>\n",
       "      <td>PS</td>\n",
       "      <td>Prospect</td>\n",
       "    </tr>\n",
       "    <tr>\n",
       "      <th>2</th>\n",
       "      <td>PF</td>\n",
       "      <td>Prosp Fundra</td>\n",
       "    </tr>\n",
       "    <tr>\n",
       "      <th>3</th>\n",
       "      <td>PP</td>\n",
       "      <td>Prosp Promot</td>\n",
       "    </tr>\n",
       "    <tr>\n",
       "      <th>4</th>\n",
       "      <td>GR</td>\n",
       "      <td>Grantor</td>\n",
       "    </tr>\n",
       "  </tbody>\n",
       "</table>\n",
       "</div>"
      ],
      "text/plain": [
       "  EXRELACTCD    EXRELACTDE\n",
       "0         FP  CommitmentDo\n",
       "1         PS      Prospect\n",
       "2         PF  Prosp Fundra\n",
       "3         PP  Prosp Promot\n",
       "4         GR       Grantor"
      ]
     },
     "execution_count": 20,
     "metadata": {},
     "output_type": "execute_result"
    }
   ],
   "source": [
    "extrelty.head()"
   ]
  },
  {
   "cell_type": "code",
   "execution_count": 21,
   "metadata": {},
   "outputs": [
    {
     "data": {
      "text/html": [
       "<div>\n",
       "<style scoped>\n",
       "    .dataframe tbody tr th:only-of-type {\n",
       "        vertical-align: middle;\n",
       "    }\n",
       "\n",
       "    .dataframe tbody tr th {\n",
       "        vertical-align: top;\n",
       "    }\n",
       "\n",
       "    .dataframe thead th {\n",
       "        text-align: right;\n",
       "    }\n",
       "</style>\n",
       "<table border=\"1\" class=\"dataframe\">\n",
       "  <thead>\n",
       "    <tr style=\"text-align: right;\">\n",
       "      <th></th>\n",
       "      <th>EXTRELNO</th>\n",
       "      <th>NAME1TITLE</th>\n",
       "      <th>POSTCODE</th>\n",
       "      <th>LANGUACODE</th>\n",
       "    </tr>\n",
       "  </thead>\n",
       "  <tbody>\n",
       "    <tr>\n",
       "      <th>0</th>\n",
       "      <td>b'0000019'</td>\n",
       "      <td>b'HR'</td>\n",
       "      <td>b'2500'</td>\n",
       "      <td>b'NL'</td>\n",
       "    </tr>\n",
       "    <tr>\n",
       "      <th>1</th>\n",
       "      <td>b'0000020'</td>\n",
       "      <td>b'HR'</td>\n",
       "      <td>b'9550'</td>\n",
       "      <td>b'NL'</td>\n",
       "    </tr>\n",
       "    <tr>\n",
       "      <th>2</th>\n",
       "      <td>b'0000035'</td>\n",
       "      <td>b'HM'</td>\n",
       "      <td>b'2150'</td>\n",
       "      <td>b'NL'</td>\n",
       "    </tr>\n",
       "    <tr>\n",
       "      <th>3</th>\n",
       "      <td>b'0000042'</td>\n",
       "      <td>b'FA'</td>\n",
       "      <td>b'3012'</td>\n",
       "      <td>b'NL'</td>\n",
       "    </tr>\n",
       "    <tr>\n",
       "      <th>4</th>\n",
       "      <td>b'0000043'</td>\n",
       "      <td>b'MW'</td>\n",
       "      <td>b'3000'</td>\n",
       "      <td>b'NL'</td>\n",
       "    </tr>\n",
       "  </tbody>\n",
       "</table>\n",
       "</div>"
      ],
      "text/plain": [
       "     EXTRELNO NAME1TITLE POSTCODE LANGUACODE\n",
       "0  b'0000019'      b'HR'  b'2500'      b'NL'\n",
       "1  b'0000020'      b'HR'  b'9550'      b'NL'\n",
       "2  b'0000035'      b'HM'  b'2150'      b'NL'\n",
       "3  b'0000042'      b'FA'  b'3012'      b'NL'\n",
       "4  b'0000043'      b'MW'  b'3000'      b'NL'"
      ]
     },
     "execution_count": 21,
     "metadata": {},
     "output_type": "execute_result"
    }
   ],
   "source": [
    "nameaddr=pd.read_sas('nameaddr.sas7bdat')\n",
    "nameaddr.head()"
   ]
  },
  {
   "cell_type": "code",
   "execution_count": 22,
   "metadata": {},
   "outputs": [],
   "source": [
    "for col in nameaddr:\n",
    "    nameaddr[col]=nameaddr[col].str.decode('utf-8')"
   ]
  },
  {
   "cell_type": "code",
   "execution_count": 23,
   "metadata": {},
   "outputs": [
    {
     "data": {
      "text/html": [
       "<div>\n",
       "<style scoped>\n",
       "    .dataframe tbody tr th:only-of-type {\n",
       "        vertical-align: middle;\n",
       "    }\n",
       "\n",
       "    .dataframe tbody tr th {\n",
       "        vertical-align: top;\n",
       "    }\n",
       "\n",
       "    .dataframe thead th {\n",
       "        text-align: right;\n",
       "    }\n",
       "</style>\n",
       "<table border=\"1\" class=\"dataframe\">\n",
       "  <thead>\n",
       "    <tr style=\"text-align: right;\">\n",
       "      <th></th>\n",
       "      <th>EXTRELNO</th>\n",
       "      <th>NAME1TITLE</th>\n",
       "      <th>POSTCODE</th>\n",
       "      <th>LANGUACODE</th>\n",
       "    </tr>\n",
       "  </thead>\n",
       "  <tbody>\n",
       "    <tr>\n",
       "      <th>0</th>\n",
       "      <td>0000019</td>\n",
       "      <td>HR</td>\n",
       "      <td>2500</td>\n",
       "      <td>NL</td>\n",
       "    </tr>\n",
       "    <tr>\n",
       "      <th>1</th>\n",
       "      <td>0000020</td>\n",
       "      <td>HR</td>\n",
       "      <td>9550</td>\n",
       "      <td>NL</td>\n",
       "    </tr>\n",
       "    <tr>\n",
       "      <th>2</th>\n",
       "      <td>0000035</td>\n",
       "      <td>HM</td>\n",
       "      <td>2150</td>\n",
       "      <td>NL</td>\n",
       "    </tr>\n",
       "    <tr>\n",
       "      <th>3</th>\n",
       "      <td>0000042</td>\n",
       "      <td>FA</td>\n",
       "      <td>3012</td>\n",
       "      <td>NL</td>\n",
       "    </tr>\n",
       "    <tr>\n",
       "      <th>4</th>\n",
       "      <td>0000043</td>\n",
       "      <td>MW</td>\n",
       "      <td>3000</td>\n",
       "      <td>NL</td>\n",
       "    </tr>\n",
       "  </tbody>\n",
       "</table>\n",
       "</div>"
      ],
      "text/plain": [
       "  EXTRELNO NAME1TITLE POSTCODE LANGUACODE\n",
       "0  0000019         HR     2500         NL\n",
       "1  0000020         HR     9550         NL\n",
       "2  0000035         HM     2150         NL\n",
       "3  0000042         FA     3012         NL\n",
       "4  0000043         MW     3000         NL"
      ]
     },
     "execution_count": 23,
     "metadata": {},
     "output_type": "execute_result"
    }
   ],
   "source": [
    "nameaddr.head()"
   ]
  },
  {
   "cell_type": "code",
   "execution_count": 24,
   "metadata": {},
   "outputs": [
    {
     "data": {
      "text/plain": [
       "NL    21437\n",
       "FR     2743\n",
       "EN        6\n",
       "Name: LANGUACODE, dtype: int64"
      ]
     },
     "execution_count": 24,
     "metadata": {},
     "output_type": "execute_result"
    }
   ],
   "source": [
    "nameaddr.LANGUACODE.value_counts()"
   ]
  },
  {
   "cell_type": "code",
   "execution_count": 25,
   "metadata": {},
   "outputs": [
    {
     "data": {
      "text/html": [
       "<div>\n",
       "<style scoped>\n",
       "    .dataframe tbody tr th:only-of-type {\n",
       "        vertical-align: middle;\n",
       "    }\n",
       "\n",
       "    .dataframe tbody tr th {\n",
       "        vertical-align: top;\n",
       "    }\n",
       "\n",
       "    .dataframe thead th {\n",
       "        text-align: right;\n",
       "    }\n",
       "</style>\n",
       "<table border=\"1\" class=\"dataframe\">\n",
       "  <thead>\n",
       "    <tr style=\"text-align: right;\">\n",
       "      <th></th>\n",
       "      <th>PID</th>\n",
       "      <th>PDATE</th>\n",
       "      <th>PAMT</th>\n",
       "      <th>EXTRELNO</th>\n",
       "      <th>PAYTYPECD</th>\n",
       "      <th>STATUS</th>\n",
       "    </tr>\n",
       "  </thead>\n",
       "  <tbody>\n",
       "    <tr>\n",
       "      <th>0</th>\n",
       "      <td>38.0</td>\n",
       "      <td>1993-12-31</td>\n",
       "      <td>9.57</td>\n",
       "      <td>b'0000019'</td>\n",
       "      <td>b'X'</td>\n",
       "      <td>b'CO'</td>\n",
       "    </tr>\n",
       "    <tr>\n",
       "      <th>1</th>\n",
       "      <td>39.0</td>\n",
       "      <td>1993-12-31</td>\n",
       "      <td>41.32</td>\n",
       "      <td>b'0000020'</td>\n",
       "      <td>b'X'</td>\n",
       "      <td>b'CO'</td>\n",
       "    </tr>\n",
       "    <tr>\n",
       "      <th>2</th>\n",
       "      <td>40.0</td>\n",
       "      <td>1993-12-31</td>\n",
       "      <td>13.10</td>\n",
       "      <td>b'0000020'</td>\n",
       "      <td>b'X'</td>\n",
       "      <td>b'CO'</td>\n",
       "    </tr>\n",
       "    <tr>\n",
       "      <th>3</th>\n",
       "      <td>54091.0</td>\n",
       "      <td>1994-01-01</td>\n",
       "      <td>2.02</td>\n",
       "      <td>b'0000020'</td>\n",
       "      <td>b'X'</td>\n",
       "      <td>b'CO'</td>\n",
       "    </tr>\n",
       "    <tr>\n",
       "      <th>4</th>\n",
       "      <td>104480.0</td>\n",
       "      <td>1994-05-19</td>\n",
       "      <td>0.50</td>\n",
       "      <td>b'0000020'</td>\n",
       "      <td>b'D'</td>\n",
       "      <td>b'OK'</td>\n",
       "    </tr>\n",
       "  </tbody>\n",
       "</table>\n",
       "</div>"
      ],
      "text/plain": [
       "        PID      PDATE   PAMT    EXTRELNO PAYTYPECD STATUS\n",
       "0      38.0 1993-12-31   9.57  b'0000019'      b'X'  b'CO'\n",
       "1      39.0 1993-12-31  41.32  b'0000020'      b'X'  b'CO'\n",
       "2      40.0 1993-12-31  13.10  b'0000020'      b'X'  b'CO'\n",
       "3   54091.0 1994-01-01   2.02  b'0000020'      b'X'  b'CO'\n",
       "4  104480.0 1994-05-19   0.50  b'0000020'      b'D'  b'OK'"
      ]
     },
     "execution_count": 25,
     "metadata": {},
     "output_type": "execute_result"
    }
   ],
   "source": [
    "payhistory=pd.read_sas('payhistory.sas7bdat')\n",
    "payhistory.head()"
   ]
  },
  {
   "cell_type": "code",
   "execution_count": 26,
   "metadata": {},
   "outputs": [],
   "source": [
    "payhistory['EXTRELNO']=payhistory.iloc[:,3].str.decode('utf-8')\n",
    "payhistory['PAYTYPECD']=payhistory.iloc[:,4].str.decode('utf-8')\n",
    "payhistory['STATUS']=payhistory.iloc[:,5].str.decode('utf-8')"
   ]
  },
  {
   "cell_type": "code",
   "execution_count": 27,
   "metadata": {},
   "outputs": [
    {
     "data": {
      "text/html": [
       "<div>\n",
       "<style scoped>\n",
       "    .dataframe tbody tr th:only-of-type {\n",
       "        vertical-align: middle;\n",
       "    }\n",
       "\n",
       "    .dataframe tbody tr th {\n",
       "        vertical-align: top;\n",
       "    }\n",
       "\n",
       "    .dataframe thead th {\n",
       "        text-align: right;\n",
       "    }\n",
       "</style>\n",
       "<table border=\"1\" class=\"dataframe\">\n",
       "  <thead>\n",
       "    <tr style=\"text-align: right;\">\n",
       "      <th></th>\n",
       "      <th>PID</th>\n",
       "      <th>PDATE</th>\n",
       "      <th>PAMT</th>\n",
       "      <th>EXTRELNO</th>\n",
       "      <th>PAYTYPECD</th>\n",
       "      <th>STATUS</th>\n",
       "    </tr>\n",
       "  </thead>\n",
       "  <tbody>\n",
       "    <tr>\n",
       "      <th>0</th>\n",
       "      <td>38.0</td>\n",
       "      <td>1993-12-31</td>\n",
       "      <td>9.57</td>\n",
       "      <td>0000019</td>\n",
       "      <td>X</td>\n",
       "      <td>CO</td>\n",
       "    </tr>\n",
       "    <tr>\n",
       "      <th>1</th>\n",
       "      <td>39.0</td>\n",
       "      <td>1993-12-31</td>\n",
       "      <td>41.32</td>\n",
       "      <td>0000020</td>\n",
       "      <td>X</td>\n",
       "      <td>CO</td>\n",
       "    </tr>\n",
       "    <tr>\n",
       "      <th>2</th>\n",
       "      <td>40.0</td>\n",
       "      <td>1993-12-31</td>\n",
       "      <td>13.10</td>\n",
       "      <td>0000020</td>\n",
       "      <td>X</td>\n",
       "      <td>CO</td>\n",
       "    </tr>\n",
       "    <tr>\n",
       "      <th>3</th>\n",
       "      <td>54091.0</td>\n",
       "      <td>1994-01-01</td>\n",
       "      <td>2.02</td>\n",
       "      <td>0000020</td>\n",
       "      <td>X</td>\n",
       "      <td>CO</td>\n",
       "    </tr>\n",
       "    <tr>\n",
       "      <th>4</th>\n",
       "      <td>104480.0</td>\n",
       "      <td>1994-05-19</td>\n",
       "      <td>0.50</td>\n",
       "      <td>0000020</td>\n",
       "      <td>D</td>\n",
       "      <td>OK</td>\n",
       "    </tr>\n",
       "  </tbody>\n",
       "</table>\n",
       "</div>"
      ],
      "text/plain": [
       "        PID      PDATE   PAMT EXTRELNO PAYTYPECD STATUS\n",
       "0      38.0 1993-12-31   9.57  0000019         X     CO\n",
       "1      39.0 1993-12-31  41.32  0000020         X     CO\n",
       "2      40.0 1993-12-31  13.10  0000020         X     CO\n",
       "3   54091.0 1994-01-01   2.02  0000020         X     CO\n",
       "4  104480.0 1994-05-19   0.50  0000020         D     OK"
      ]
     },
     "execution_count": 27,
     "metadata": {},
     "output_type": "execute_result"
    }
   ],
   "source": [
    "payhistory.head()"
   ]
  },
  {
   "cell_type": "code",
   "execution_count": 28,
   "metadata": {},
   "outputs": [
    {
     "data": {
      "text/plain": [
       "PID              0\n",
       "PDATE            0\n",
       "PAMT             0\n",
       "EXTRELNO         0\n",
       "PAYTYPECD    18174\n",
       "STATUS           1\n",
       "dtype: int64"
      ]
     },
     "execution_count": 28,
     "metadata": {},
     "output_type": "execute_result"
    }
   ],
   "source": [
    "payhistory.isnull().sum()"
   ]
  },
  {
   "cell_type": "code",
   "execution_count": 29,
   "metadata": {},
   "outputs": [
    {
     "name": "stdout",
     "output_type": "stream",
     "text": [
      "<class 'pandas.core.frame.DataFrame'>\n",
      "RangeIndex: 8 entries, 0 to 7\n",
      "Data columns (total 2 columns):\n",
      "CLASCODE    8 non-null object\n",
      "CLASDESC    8 non-null object\n",
      "dtypes: object(2)\n",
      "memory usage: 256.0+ bytes\n",
      "None\n",
      "<class 'pandas.core.frame.DataFrame'>\n",
      "RangeIndex: 30 entries, 0 to 29\n",
      "Data columns (total 2 columns):\n",
      "MNTOPCODE    30 non-null object\n",
      "MNTOPDESC    30 non-null object\n",
      "dtypes: object(2)\n",
      "memory usage: 608.0+ bytes\n",
      "None\n",
      "<class 'pandas.core.frame.DataFrame'>\n",
      "RangeIndex: 16 entries, 0 to 15\n",
      "Data columns (total 2 columns):\n",
      "MEDIUMCODE    16 non-null object\n",
      "MEDIUMDESC    16 non-null object\n",
      "dtypes: object(2)\n",
      "memory usage: 384.0+ bytes\n",
      "None\n",
      "<class 'pandas.core.frame.DataFrame'>\n",
      "RangeIndex: 763569 entries, 0 to 763568\n",
      "Data columns (total 7 columns):\n",
      "CONTID        763569 non-null object\n",
      "MEDIUMCODE    763569 non-null object\n",
      "MNTOPCODE     763569 non-null object\n",
      "CLASCODE      763569 non-null object\n",
      "EXTRELNO      763569 non-null object\n",
      "CONTDIREC     763569 non-null object\n",
      "CONTDATE      763569 non-null datetime64[ns]\n",
      "dtypes: datetime64[ns](1), object(6)\n",
      "memory usage: 40.8+ MB\n",
      "None\n"
     ]
    }
   ],
   "source": [
    "print(comclas.info())\n",
    "print(commaint.info())\n",
    "print(commediu.info())\n",
    "print(communication.info())"
   ]
  },
  {
   "cell_type": "code",
   "execution_count": 30,
   "metadata": {},
   "outputs": [
    {
     "name": "stdout",
     "output_type": "stream",
     "text": [
      "<class 'pandas.core.frame.DataFrame'>\n",
      "RangeIndex: 26689 entries, 0 to 26688\n",
      "Data columns (total 4 columns):\n",
      "EXTRELNO      26689 non-null object\n",
      "EXRELACTCD    26689 non-null object\n",
      "EXTRELSTDT    26689 non-null datetime64[ns]\n",
      "EXRELDATEN    10168 non-null datetime64[ns]\n",
      "dtypes: datetime64[ns](2), object(2)\n",
      "memory usage: 834.2+ KB\n",
      "None\n",
      "<class 'pandas.core.frame.DataFrame'>\n",
      "RangeIndex: 26 entries, 0 to 25\n",
      "Data columns (total 2 columns):\n",
      "EXRELACTCD    26 non-null object\n",
      "EXRELACTDE    26 non-null object\n",
      "dtypes: object(2)\n",
      "memory usage: 544.0+ bytes\n",
      "None\n"
     ]
    }
   ],
   "source": [
    "print(extrel.info())\n",
    "print(extrelty.info())"
   ]
  },
  {
   "cell_type": "code",
   "execution_count": 31,
   "metadata": {},
   "outputs": [
    {
     "name": "stdout",
     "output_type": "stream",
     "text": [
      "<class 'pandas.core.frame.DataFrame'>\n",
      "RangeIndex: 24186 entries, 0 to 24185\n",
      "Data columns (total 4 columns):\n",
      "EXTRELNO      24186 non-null object\n",
      "NAME1TITLE    23593 non-null object\n",
      "POSTCODE      24034 non-null object\n",
      "LANGUACODE    24186 non-null object\n",
      "dtypes: object(4)\n",
      "memory usage: 755.9+ KB\n",
      "None\n"
     ]
    }
   ],
   "source": [
    "print(nameaddr.info())"
   ]
  },
  {
   "cell_type": "code",
   "execution_count": 32,
   "metadata": {},
   "outputs": [
    {
     "name": "stdout",
     "output_type": "stream",
     "text": [
      "<class 'pandas.core.frame.DataFrame'>\n",
      "RangeIndex: 1205720 entries, 0 to 1205719\n",
      "Data columns (total 6 columns):\n",
      "PID          1205720 non-null float64\n",
      "PDATE        1205720 non-null datetime64[ns]\n",
      "PAMT         1205720 non-null float64\n",
      "EXTRELNO     1205720 non-null object\n",
      "PAYTYPECD    1187546 non-null object\n",
      "STATUS       1205719 non-null object\n",
      "dtypes: datetime64[ns](1), float64(2), object(3)\n",
      "memory usage: 55.2+ MB\n",
      "None\n"
     ]
    }
   ],
   "source": [
    "print(payhistory.info())"
   ]
  },
  {
   "cell_type": "markdown",
   "metadata": {},
   "source": [
    "# List of Qualified Customers"
   ]
  },
  {
   "cell_type": "raw",
   "metadata": {},
   "source": [
    "1. Defining the Time Window\n",
    "\n",
    "         -End of dependent window = 31 December 2006\n",
    "         -Start of dependent window = 1 January 2006\n",
    "         -End of independent window = 31 December 2005\n",
    "         "
   ]
  },
  {
   "cell_type": "code",
   "execution_count": 33,
   "metadata": {},
   "outputs": [],
   "source": [
    "end_DW=np.datetime64('2006-12-31')\n",
    "start_DW=np.datetime64('2006-01-01')\n",
    "end_IW=np.datetime64('2005-12-03')"
   ]
  },
  {
   "cell_type": "raw",
   "metadata": {},
   "source": [
    "2. subset the extrel dataset according to the appropriate timewindow and only select donors with a commitment.\n",
    "\n",
    "                    - select qualified customers for the basetable\n",
    "                      Donor is active if it follows:\n",
    "                      i) Activity of the donor = 'FP'\n",
    "                      ii)start date before end of independent window(IW) i.e.,3                                December 2005\n",
    "                      iii) end date after start of dependent window(DW) i.e., 1                                January 2006[means he was active during IW] or                                  missing[means still a donor]"
   ]
  },
  {
   "cell_type": "code",
   "execution_count": 34,
   "metadata": {},
   "outputs": [
    {
     "data": {
      "text/html": [
       "<div>\n",
       "<style scoped>\n",
       "    .dataframe tbody tr th:only-of-type {\n",
       "        vertical-align: middle;\n",
       "    }\n",
       "\n",
       "    .dataframe tbody tr th {\n",
       "        vertical-align: top;\n",
       "    }\n",
       "\n",
       "    .dataframe thead th {\n",
       "        text-align: right;\n",
       "    }\n",
       "</style>\n",
       "<table border=\"1\" class=\"dataframe\">\n",
       "  <thead>\n",
       "    <tr style=\"text-align: right;\">\n",
       "      <th></th>\n",
       "      <th>EXTRELNO</th>\n",
       "      <th>EXRELACTCD</th>\n",
       "      <th>EXTRELSTDT</th>\n",
       "      <th>EXRELDATEN</th>\n",
       "    </tr>\n",
       "  </thead>\n",
       "  <tbody>\n",
       "    <tr>\n",
       "      <th>1</th>\n",
       "      <td>0026419</td>\n",
       "      <td>FP</td>\n",
       "      <td>1992-03-01</td>\n",
       "      <td>NaT</td>\n",
       "    </tr>\n",
       "    <tr>\n",
       "      <th>3</th>\n",
       "      <td>0026430</td>\n",
       "      <td>FP</td>\n",
       "      <td>1992-03-01</td>\n",
       "      <td>2006-01-31</td>\n",
       "    </tr>\n",
       "    <tr>\n",
       "      <th>5</th>\n",
       "      <td>0026431</td>\n",
       "      <td>FP</td>\n",
       "      <td>1992-03-01</td>\n",
       "      <td>NaT</td>\n",
       "    </tr>\n",
       "    <tr>\n",
       "      <th>7</th>\n",
       "      <td>0026443</td>\n",
       "      <td>FP</td>\n",
       "      <td>1992-03-01</td>\n",
       "      <td>NaT</td>\n",
       "    </tr>\n",
       "    <tr>\n",
       "      <th>8</th>\n",
       "      <td>0026444</td>\n",
       "      <td>FP</td>\n",
       "      <td>1992-03-01</td>\n",
       "      <td>NaT</td>\n",
       "    </tr>\n",
       "  </tbody>\n",
       "</table>\n",
       "</div>"
      ],
      "text/plain": [
       "  EXTRELNO EXRELACTCD EXTRELSTDT EXRELDATEN\n",
       "1  0026419         FP 1992-03-01        NaT\n",
       "3  0026430         FP 1992-03-01 2006-01-31\n",
       "5  0026431         FP 1992-03-01        NaT\n",
       "7  0026443         FP 1992-03-01        NaT\n",
       "8  0026444         FP 1992-03-01        NaT"
      ]
     },
     "execution_count": 34,
     "metadata": {},
     "output_type": "execute_result"
    }
   ],
   "source": [
    "customer = extrel[(extrel['EXRELACTCD']=='FP') &\n",
    "                 (extrel['EXTRELSTDT']<'2005-12-31') &\n",
    "                  ((extrel['EXRELDATEN'].isnull()) |\n",
    "                 (extrel['EXRELDATEN']>'2006-01-01'))]\n",
    "customer.head()"
   ]
  },
  {
   "cell_type": "code",
   "execution_count": 35,
   "metadata": {},
   "outputs": [
    {
     "data": {
      "text/plain": [
       "EXTRELNO         0\n",
       "EXRELACTCD       0\n",
       "EXTRELSTDT       0\n",
       "EXRELDATEN    6675\n",
       "dtype: int64"
      ]
     },
     "execution_count": 35,
     "metadata": {},
     "output_type": "execute_result"
    }
   ],
   "source": [
    "customer.isnull().sum()"
   ]
  },
  {
   "cell_type": "markdown",
   "metadata": {},
   "source": [
    "# Create Independent [PREDICATOR] Variables:"
   ]
  },
  {
   "cell_type": "markdown",
   "metadata": {},
   "source": [
    "NOTE: only use data from the independent window to create the predicator variables.\n",
    "**Independent Window are: extrel,communication,nameaddr,payhistory**\n",
    "\n",
    "Possible predicator variables for churn are:\n",
    "        \n",
    "        -Recency\n",
    "        -Frequency\n",
    "        -Total & Average donation per donor(Monetry Value)\n",
    "        -Pay Type per Customer =>Create a new variable whether a donor ever \n",
    "         used sendout,order,own initiative & unknown\n",
    "        -Prefered Mailing Language\n",
    "        -Dummy whether Communication direction was ever incoming i.e.,\n",
    "         Last date of communication \n",
    "        -Dummy whether the donor made a complaint\n",
    "        -Payment Information i.e., Last date of payment\n"
   ]
  },
  {
   "cell_type": "raw",
   "metadata": {},
   "source": [
    "-Recency = the last/recent purchase was made by a customer\n",
    "-Frequency = how often customer makes a purchase\n",
    "-Monetry Value = how much money spend by customer on purchase"
   ]
  },
  {
   "cell_type": "code",
   "execution_count": 36,
   "metadata": {},
   "outputs": [],
   "source": [
    "# Latest date\n",
    "import datetime as dt\n",
    "recent_date=dt.datetime(2007,2,2) "
   ]
  },
  {
   "cell_type": "markdown",
   "metadata": {},
   "source": [
    "# Recency"
   ]
  },
  {
   "cell_type": "code",
   "execution_count": 37,
   "metadata": {},
   "outputs": [
    {
     "data": {
      "text/html": [
       "<div>\n",
       "<style scoped>\n",
       "    .dataframe tbody tr th:only-of-type {\n",
       "        vertical-align: middle;\n",
       "    }\n",
       "\n",
       "    .dataframe tbody tr th {\n",
       "        vertical-align: top;\n",
       "    }\n",
       "\n",
       "    .dataframe thead th {\n",
       "        text-align: right;\n",
       "    }\n",
       "</style>\n",
       "<table border=\"1\" class=\"dataframe\">\n",
       "  <thead>\n",
       "    <tr style=\"text-align: right;\">\n",
       "      <th></th>\n",
       "      <th>Recency</th>\n",
       "    </tr>\n",
       "    <tr>\n",
       "      <th>EXTRELNO</th>\n",
       "      <th></th>\n",
       "    </tr>\n",
       "  </thead>\n",
       "  <tbody>\n",
       "    <tr>\n",
       "      <th>0000019</th>\n",
       "      <td>4781</td>\n",
       "    </tr>\n",
       "    <tr>\n",
       "      <th>0000020</th>\n",
       "      <td>16</td>\n",
       "    </tr>\n",
       "    <tr>\n",
       "      <th>0000035</th>\n",
       "      <td>16</td>\n",
       "    </tr>\n",
       "    <tr>\n",
       "      <th>0000042</th>\n",
       "      <td>2201</td>\n",
       "    </tr>\n",
       "    <tr>\n",
       "      <th>0000043</th>\n",
       "      <td>1299</td>\n",
       "    </tr>\n",
       "  </tbody>\n",
       "</table>\n",
       "</div>"
      ],
      "text/plain": [
       "          Recency\n",
       "EXTRELNO         \n",
       "0000019      4781\n",
       "0000020        16\n",
       "0000035        16\n",
       "0000042      2201\n",
       "0000043      1299"
      ]
     },
     "execution_count": 37,
     "metadata": {},
     "output_type": "execute_result"
    }
   ],
   "source": [
    "p1=pd.DataFrame(payhistory.groupby('EXTRELNO').agg({'PDATE': lambda x: (recent_date-x.max()).days}))\n",
    "p1.columns=['Recency']\n",
    "p1.head()"
   ]
  },
  {
   "cell_type": "markdown",
   "metadata": {},
   "source": [
    "# Frequency"
   ]
  },
  {
   "cell_type": "code",
   "execution_count": 38,
   "metadata": {},
   "outputs": [
    {
     "data": {
      "text/html": [
       "<div>\n",
       "<style scoped>\n",
       "    .dataframe tbody tr th:only-of-type {\n",
       "        vertical-align: middle;\n",
       "    }\n",
       "\n",
       "    .dataframe tbody tr th {\n",
       "        vertical-align: top;\n",
       "    }\n",
       "\n",
       "    .dataframe thead th {\n",
       "        text-align: right;\n",
       "    }\n",
       "</style>\n",
       "<table border=\"1\" class=\"dataframe\">\n",
       "  <thead>\n",
       "    <tr style=\"text-align: right;\">\n",
       "      <th></th>\n",
       "      <th>Frequency</th>\n",
       "    </tr>\n",
       "    <tr>\n",
       "      <th>EXTRELNO</th>\n",
       "      <th></th>\n",
       "    </tr>\n",
       "  </thead>\n",
       "  <tbody>\n",
       "    <tr>\n",
       "      <th>0000019</th>\n",
       "      <td>1</td>\n",
       "    </tr>\n",
       "    <tr>\n",
       "      <th>0000020</th>\n",
       "      <td>158</td>\n",
       "    </tr>\n",
       "    <tr>\n",
       "      <th>0000035</th>\n",
       "      <td>155</td>\n",
       "    </tr>\n",
       "    <tr>\n",
       "      <th>0000042</th>\n",
       "      <td>85</td>\n",
       "    </tr>\n",
       "    <tr>\n",
       "      <th>0000043</th>\n",
       "      <td>229</td>\n",
       "    </tr>\n",
       "  </tbody>\n",
       "</table>\n",
       "</div>"
      ],
      "text/plain": [
       "          Frequency\n",
       "EXTRELNO           \n",
       "0000019           1\n",
       "0000020         158\n",
       "0000035         155\n",
       "0000042          85\n",
       "0000043         229"
      ]
     },
     "execution_count": 38,
     "metadata": {},
     "output_type": "execute_result"
    }
   ],
   "source": [
    "p2=pd.DataFrame(payhistory.groupby('EXTRELNO').agg({'PDATE': lambda x: len(x)}))\n",
    "p2.columns=['Frequency']\n",
    "p2.head()"
   ]
  },
  {
   "cell_type": "markdown",
   "metadata": {},
   "source": [
    "# Total donation and average donation per donor(Monetry Value)"
   ]
  },
  {
   "cell_type": "code",
   "execution_count": 39,
   "metadata": {},
   "outputs": [
    {
     "data": {
      "text/html": [
       "<div>\n",
       "<style scoped>\n",
       "    .dataframe tbody tr th:only-of-type {\n",
       "        vertical-align: middle;\n",
       "    }\n",
       "\n",
       "    .dataframe tbody tr th {\n",
       "        vertical-align: top;\n",
       "    }\n",
       "\n",
       "    .dataframe thead th {\n",
       "        text-align: right;\n",
       "    }\n",
       "</style>\n",
       "<table border=\"1\" class=\"dataframe\">\n",
       "  <thead>\n",
       "    <tr style=\"text-align: right;\">\n",
       "      <th></th>\n",
       "      <th>Total_don</th>\n",
       "      <th>Avg_don</th>\n",
       "    </tr>\n",
       "    <tr>\n",
       "      <th>EXTRELNO</th>\n",
       "      <th></th>\n",
       "      <th></th>\n",
       "    </tr>\n",
       "  </thead>\n",
       "  <tbody>\n",
       "    <tr>\n",
       "      <th>0000019</th>\n",
       "      <td>9.57</td>\n",
       "      <td>9.570000</td>\n",
       "    </tr>\n",
       "    <tr>\n",
       "      <th>0000020</th>\n",
       "      <td>3176.97</td>\n",
       "      <td>20.107405</td>\n",
       "    </tr>\n",
       "    <tr>\n",
       "      <th>0000035</th>\n",
       "      <td>3168.40</td>\n",
       "      <td>20.441290</td>\n",
       "    </tr>\n",
       "    <tr>\n",
       "      <th>0000042</th>\n",
       "      <td>1543.03</td>\n",
       "      <td>18.153294</td>\n",
       "    </tr>\n",
       "    <tr>\n",
       "      <th>0000043</th>\n",
       "      <td>4373.24</td>\n",
       "      <td>19.097118</td>\n",
       "    </tr>\n",
       "  </tbody>\n",
       "</table>\n",
       "</div>"
      ],
      "text/plain": [
       "          Total_don    Avg_don\n",
       "EXTRELNO                      \n",
       "0000019        9.57   9.570000\n",
       "0000020     3176.97  20.107405\n",
       "0000035     3168.40  20.441290\n",
       "0000042     1543.03  18.153294\n",
       "0000043     4373.24  19.097118"
      ]
     },
     "execution_count": 39,
     "metadata": {},
     "output_type": "execute_result"
    }
   ],
   "source": [
    "p3=pd.DataFrame(payhistory.groupby('EXTRELNO')['PAMT'].agg(['sum','mean'])) \n",
    "p3.columns=['Total_don','Avg_don']\n",
    "p3.head()"
   ]
  },
  {
   "cell_type": "markdown",
   "metadata": {},
   "source": [
    "# Pay Type Per Customer"
   ]
  },
  {
   "cell_type": "raw",
   "metadata": {},
   "source": [
    "Create a new variable whether a donor ever used sendout,order,own initiative & unknown"
   ]
  },
  {
   "cell_type": "code",
   "execution_count": 40,
   "metadata": {},
   "outputs": [
    {
     "data": {
      "text/plain": [
       "True"
      ]
     },
     "execution_count": 40,
     "metadata": {},
     "output_type": "execute_result"
    }
   ],
   "source": [
    "payhistory.PAYTYPECD.isna().any()"
   ]
  },
  {
   "cell_type": "raw",
   "metadata": {},
   "source": [
    "missing Imputation of PAYTYPED custmomer then proceed further"
   ]
  },
  {
   "cell_type": "code",
   "execution_count": 41,
   "metadata": {},
   "outputs": [
    {
     "data": {
      "text/html": [
       "<div>\n",
       "<style scoped>\n",
       "    .dataframe tbody tr th:only-of-type {\n",
       "        vertical-align: middle;\n",
       "    }\n",
       "\n",
       "    .dataframe tbody tr th {\n",
       "        vertical-align: top;\n",
       "    }\n",
       "\n",
       "    .dataframe thead th {\n",
       "        text-align: right;\n",
       "    }\n",
       "</style>\n",
       "<table border=\"1\" class=\"dataframe\">\n",
       "  <thead>\n",
       "    <tr style=\"text-align: right;\">\n",
       "      <th></th>\n",
       "      <th>PID</th>\n",
       "      <th>PDATE</th>\n",
       "      <th>PAMT</th>\n",
       "      <th>EXTRELNO</th>\n",
       "      <th>PAYTYPECD</th>\n",
       "      <th>STATUS</th>\n",
       "    </tr>\n",
       "  </thead>\n",
       "  <tbody>\n",
       "    <tr>\n",
       "      <th>0</th>\n",
       "      <td>38.0</td>\n",
       "      <td>1993-12-31</td>\n",
       "      <td>9.57</td>\n",
       "      <td>0000019</td>\n",
       "      <td>X</td>\n",
       "      <td>CO</td>\n",
       "    </tr>\n",
       "    <tr>\n",
       "      <th>1</th>\n",
       "      <td>39.0</td>\n",
       "      <td>1993-12-31</td>\n",
       "      <td>41.32</td>\n",
       "      <td>0000020</td>\n",
       "      <td>X</td>\n",
       "      <td>CO</td>\n",
       "    </tr>\n",
       "    <tr>\n",
       "      <th>2</th>\n",
       "      <td>40.0</td>\n",
       "      <td>1993-12-31</td>\n",
       "      <td>13.10</td>\n",
       "      <td>0000020</td>\n",
       "      <td>X</td>\n",
       "      <td>CO</td>\n",
       "    </tr>\n",
       "    <tr>\n",
       "      <th>3</th>\n",
       "      <td>54091.0</td>\n",
       "      <td>1994-01-01</td>\n",
       "      <td>2.02</td>\n",
       "      <td>0000020</td>\n",
       "      <td>X</td>\n",
       "      <td>CO</td>\n",
       "    </tr>\n",
       "    <tr>\n",
       "      <th>4</th>\n",
       "      <td>104480.0</td>\n",
       "      <td>1994-05-19</td>\n",
       "      <td>0.50</td>\n",
       "      <td>0000020</td>\n",
       "      <td>D</td>\n",
       "      <td>OK</td>\n",
       "    </tr>\n",
       "  </tbody>\n",
       "</table>\n",
       "</div>"
      ],
      "text/plain": [
       "        PID      PDATE   PAMT EXTRELNO PAYTYPECD STATUS\n",
       "0      38.0 1993-12-31   9.57  0000019         X     CO\n",
       "1      39.0 1993-12-31  41.32  0000020         X     CO\n",
       "2      40.0 1993-12-31  13.10  0000020         X     CO\n",
       "3   54091.0 1994-01-01   2.02  0000020         X     CO\n",
       "4  104480.0 1994-05-19   0.50  0000020         D     OK"
      ]
     },
     "execution_count": 41,
     "metadata": {},
     "output_type": "execute_result"
    }
   ],
   "source": [
    "payhistory['PAYTYPECD']=payhistory['PAYTYPECD'].fillna(payhistory['PAYTYPECD'].mode()[0])\n",
    "payhistory.head()"
   ]
  },
  {
   "cell_type": "code",
   "execution_count": 42,
   "metadata": {},
   "outputs": [
    {
     "data": {
      "text/plain": [
       "0"
      ]
     },
     "execution_count": 42,
     "metadata": {},
     "output_type": "execute_result"
    }
   ],
   "source": [
    "payhistory.PAYTYPECD.isnull().sum()"
   ]
  },
  {
   "cell_type": "raw",
   "metadata": {},
   "source": [
    "Create dummy for PAYTYPECD"
   ]
  },
  {
   "cell_type": "code",
   "execution_count": 43,
   "metadata": {},
   "outputs": [
    {
     "data": {
      "text/html": [
       "<div>\n",
       "<style scoped>\n",
       "    .dataframe tbody tr th:only-of-type {\n",
       "        vertical-align: middle;\n",
       "    }\n",
       "\n",
       "    .dataframe tbody tr th {\n",
       "        vertical-align: top;\n",
       "    }\n",
       "\n",
       "    .dataframe thead th {\n",
       "        text-align: right;\n",
       "    }\n",
       "</style>\n",
       "<table border=\"1\" class=\"dataframe\">\n",
       "  <thead>\n",
       "    <tr style=\"text-align: right;\">\n",
       "      <th></th>\n",
       "      <th>PAYTYPECD_E</th>\n",
       "      <th>PAYTYPECD_O</th>\n",
       "      <th>PAYTYPECD_X</th>\n",
       "    </tr>\n",
       "    <tr>\n",
       "      <th>EXTRELNO</th>\n",
       "      <th></th>\n",
       "      <th></th>\n",
       "      <th></th>\n",
       "    </tr>\n",
       "  </thead>\n",
       "  <tbody>\n",
       "    <tr>\n",
       "      <th>0000019</th>\n",
       "      <td>0.0</td>\n",
       "      <td>0.0</td>\n",
       "      <td>1.0</td>\n",
       "    </tr>\n",
       "    <tr>\n",
       "      <th>0000020</th>\n",
       "      <td>0.0</td>\n",
       "      <td>0.0</td>\n",
       "      <td>3.0</td>\n",
       "    </tr>\n",
       "    <tr>\n",
       "      <th>0000035</th>\n",
       "      <td>0.0</td>\n",
       "      <td>0.0</td>\n",
       "      <td>2.0</td>\n",
       "    </tr>\n",
       "    <tr>\n",
       "      <th>0000042</th>\n",
       "      <td>0.0</td>\n",
       "      <td>0.0</td>\n",
       "      <td>3.0</td>\n",
       "    </tr>\n",
       "    <tr>\n",
       "      <th>0000043</th>\n",
       "      <td>0.0</td>\n",
       "      <td>0.0</td>\n",
       "      <td>5.0</td>\n",
       "    </tr>\n",
       "  </tbody>\n",
       "</table>\n",
       "</div>"
      ],
      "text/plain": [
       "          PAYTYPECD_E  PAYTYPECD_O  PAYTYPECD_X\n",
       "EXTRELNO                                       \n",
       "0000019           0.0          0.0          1.0\n",
       "0000020           0.0          0.0          3.0\n",
       "0000035           0.0          0.0          2.0\n",
       "0000042           0.0          0.0          3.0\n",
       "0000043           0.0          0.0          5.0"
      ]
     },
     "execution_count": 43,
     "metadata": {},
     "output_type": "execute_result"
    }
   ],
   "source": [
    "p4=pd.get_dummies(data=payhistory,columns=['PAYTYPECD'],prefix=['PAYTYPECD'],drop_first=True)\n",
    "p4=p4[['EXTRELNO','PAYTYPECD_E','PAYTYPECD_O','PAYTYPECD_X']]\n",
    "p4.set_index('EXTRELNO',inplace=True)\n",
    "p4=p4.groupby(['EXTRELNO']).sum()\n",
    "p4.head()"
   ]
  },
  {
   "cell_type": "code",
   "execution_count": 44,
   "metadata": {},
   "outputs": [],
   "source": [
    "for col in p4.columns:\n",
    "    p4[col]= np.where(p4[col]==0,0,1)"
   ]
  },
  {
   "cell_type": "code",
   "execution_count": 45,
   "metadata": {},
   "outputs": [
    {
     "data": {
      "text/html": [
       "<div>\n",
       "<style scoped>\n",
       "    .dataframe tbody tr th:only-of-type {\n",
       "        vertical-align: middle;\n",
       "    }\n",
       "\n",
       "    .dataframe tbody tr th {\n",
       "        vertical-align: top;\n",
       "    }\n",
       "\n",
       "    .dataframe thead th {\n",
       "        text-align: right;\n",
       "    }\n",
       "</style>\n",
       "<table border=\"1\" class=\"dataframe\">\n",
       "  <thead>\n",
       "    <tr style=\"text-align: right;\">\n",
       "      <th></th>\n",
       "      <th>PAYTYPECD_E</th>\n",
       "      <th>PAYTYPECD_O</th>\n",
       "      <th>PAYTYPECD_X</th>\n",
       "    </tr>\n",
       "    <tr>\n",
       "      <th>EXTRELNO</th>\n",
       "      <th></th>\n",
       "      <th></th>\n",
       "      <th></th>\n",
       "    </tr>\n",
       "  </thead>\n",
       "  <tbody>\n",
       "    <tr>\n",
       "      <th>0000019</th>\n",
       "      <td>0</td>\n",
       "      <td>0</td>\n",
       "      <td>1</td>\n",
       "    </tr>\n",
       "    <tr>\n",
       "      <th>0000020</th>\n",
       "      <td>0</td>\n",
       "      <td>0</td>\n",
       "      <td>1</td>\n",
       "    </tr>\n",
       "    <tr>\n",
       "      <th>0000035</th>\n",
       "      <td>0</td>\n",
       "      <td>0</td>\n",
       "      <td>1</td>\n",
       "    </tr>\n",
       "    <tr>\n",
       "      <th>0000042</th>\n",
       "      <td>0</td>\n",
       "      <td>0</td>\n",
       "      <td>1</td>\n",
       "    </tr>\n",
       "    <tr>\n",
       "      <th>0000043</th>\n",
       "      <td>0</td>\n",
       "      <td>0</td>\n",
       "      <td>1</td>\n",
       "    </tr>\n",
       "  </tbody>\n",
       "</table>\n",
       "</div>"
      ],
      "text/plain": [
       "          PAYTYPECD_E  PAYTYPECD_O  PAYTYPECD_X\n",
       "EXTRELNO                                       \n",
       "0000019             0            0            1\n",
       "0000020             0            0            1\n",
       "0000035             0            0            1\n",
       "0000042             0            0            1\n",
       "0000043             0            0            1"
      ]
     },
     "execution_count": 45,
     "metadata": {},
     "output_type": "execute_result"
    }
   ],
   "source": [
    "p4.head()"
   ]
  },
  {
   "cell_type": "markdown",
   "metadata": {},
   "source": [
    "# Prefered Mailing Language"
   ]
  },
  {
   "cell_type": "code",
   "execution_count": 46,
   "metadata": {},
   "outputs": [
    {
     "data": {
      "text/plain": [
       "False"
      ]
     },
     "execution_count": 46,
     "metadata": {},
     "output_type": "execute_result"
    }
   ],
   "source": [
    "nameaddr.LANGUACODE.isna().any()"
   ]
  },
  {
   "cell_type": "markdown",
   "metadata": {},
   "source": [
    "create dummy for LANGUACODE"
   ]
  },
  {
   "cell_type": "code",
   "execution_count": 47,
   "metadata": {},
   "outputs": [
    {
     "data": {
      "text/html": [
       "<div>\n",
       "<style scoped>\n",
       "    .dataframe tbody tr th:only-of-type {\n",
       "        vertical-align: middle;\n",
       "    }\n",
       "\n",
       "    .dataframe tbody tr th {\n",
       "        vertical-align: top;\n",
       "    }\n",
       "\n",
       "    .dataframe thead th {\n",
       "        text-align: right;\n",
       "    }\n",
       "</style>\n",
       "<table border=\"1\" class=\"dataframe\">\n",
       "  <thead>\n",
       "    <tr style=\"text-align: right;\">\n",
       "      <th></th>\n",
       "      <th>LANGUACODE_NL</th>\n",
       "      <th>LANGUACODE_FR</th>\n",
       "    </tr>\n",
       "    <tr>\n",
       "      <th>EXTRELNO</th>\n",
       "      <th></th>\n",
       "      <th></th>\n",
       "    </tr>\n",
       "  </thead>\n",
       "  <tbody>\n",
       "    <tr>\n",
       "      <th>0000019</th>\n",
       "      <td>1</td>\n",
       "      <td>0</td>\n",
       "    </tr>\n",
       "    <tr>\n",
       "      <th>0000020</th>\n",
       "      <td>1</td>\n",
       "      <td>0</td>\n",
       "    </tr>\n",
       "    <tr>\n",
       "      <th>0000035</th>\n",
       "      <td>1</td>\n",
       "      <td>0</td>\n",
       "    </tr>\n",
       "    <tr>\n",
       "      <th>0000042</th>\n",
       "      <td>1</td>\n",
       "      <td>0</td>\n",
       "    </tr>\n",
       "    <tr>\n",
       "      <th>0000043</th>\n",
       "      <td>1</td>\n",
       "      <td>0</td>\n",
       "    </tr>\n",
       "  </tbody>\n",
       "</table>\n",
       "</div>"
      ],
      "text/plain": [
       "          LANGUACODE_NL  LANGUACODE_FR\n",
       "EXTRELNO                              \n",
       "0000019               1              0\n",
       "0000020               1              0\n",
       "0000035               1              0\n",
       "0000042               1              0\n",
       "0000043               1              0"
      ]
     },
     "execution_count": 47,
     "metadata": {},
     "output_type": "execute_result"
    }
   ],
   "source": [
    "p5=pd.get_dummies(data=nameaddr,columns=['LANGUACODE'],prefix=['LANGUACODE'],drop_first=True)\n",
    "p5=p5[['EXTRELNO','LANGUACODE_NL','LANGUACODE_FR']]\n",
    "p5.set_index('EXTRELNO',inplace=True)\n",
    "p5.head()"
   ]
  },
  {
   "cell_type": "markdown",
   "metadata": {},
   "source": [
    "# communication"
   ]
  },
  {
   "cell_type": "raw",
   "metadata": {},
   "source": [
    "-communication direction was ever incoming"
   ]
  },
  {
   "cell_type": "code",
   "execution_count": 48,
   "metadata": {},
   "outputs": [
    {
     "data": {
      "text/plain": [
       "O    733423\n",
       "I     30146\n",
       "Name: CONTDIREC, dtype: int64"
      ]
     },
     "execution_count": 48,
     "metadata": {},
     "output_type": "execute_result"
    }
   ],
   "source": [
    "communication.CONTDIREC.value_counts()"
   ]
  },
  {
   "cell_type": "code",
   "execution_count": 49,
   "metadata": {},
   "outputs": [
    {
     "data": {
      "text/plain": [
       "False"
      ]
     },
     "execution_count": 49,
     "metadata": {},
     "output_type": "execute_result"
    }
   ],
   "source": [
    "communication.CONTDIREC.isna().any()"
   ]
  },
  {
   "cell_type": "code",
   "execution_count": 50,
   "metadata": {},
   "outputs": [
    {
     "data": {
      "text/html": [
       "<div>\n",
       "<style scoped>\n",
       "    .dataframe tbody tr th:only-of-type {\n",
       "        vertical-align: middle;\n",
       "    }\n",
       "\n",
       "    .dataframe tbody tr th {\n",
       "        vertical-align: top;\n",
       "    }\n",
       "\n",
       "    .dataframe thead th {\n",
       "        text-align: right;\n",
       "    }\n",
       "</style>\n",
       "<table border=\"1\" class=\"dataframe\">\n",
       "  <thead>\n",
       "    <tr style=\"text-align: right;\">\n",
       "      <th></th>\n",
       "      <th>Incoming_Ever</th>\n",
       "    </tr>\n",
       "    <tr>\n",
       "      <th>EXTRELNO</th>\n",
       "      <th></th>\n",
       "    </tr>\n",
       "  </thead>\n",
       "  <tbody>\n",
       "    <tr>\n",
       "      <th>0000020</th>\n",
       "      <td>0</td>\n",
       "    </tr>\n",
       "    <tr>\n",
       "      <th>0000035</th>\n",
       "      <td>2</td>\n",
       "    </tr>\n",
       "    <tr>\n",
       "      <th>0000042</th>\n",
       "      <td>1</td>\n",
       "    </tr>\n",
       "    <tr>\n",
       "      <th>0000043</th>\n",
       "      <td>4</td>\n",
       "    </tr>\n",
       "    <tr>\n",
       "      <th>0000060</th>\n",
       "      <td>2</td>\n",
       "    </tr>\n",
       "  </tbody>\n",
       "</table>\n",
       "</div>"
      ],
      "text/plain": [
       "          Incoming_Ever\n",
       "EXTRELNO               \n",
       "0000020               0\n",
       "0000035               2\n",
       "0000042               1\n",
       "0000043               4\n",
       "0000060               2"
      ]
     },
     "execution_count": 50,
     "metadata": {},
     "output_type": "execute_result"
    }
   ],
   "source": [
    "p6 = pd.DataFrame({'EXTRELNO': communication.EXTRELNO,'Incoming_Ever':communication.CONTDIREC})\n",
    "p6.Incoming_Ever = np.where(p6.Incoming_Ever == 'I',1,0)\n",
    "p6.set_index('EXTRELNO',inplace=True) \n",
    "p6 = p6.groupby(['EXTRELNO']).sum()\n",
    "p6.head()"
   ]
  },
  {
   "cell_type": "code",
   "execution_count": 51,
   "metadata": {},
   "outputs": [
    {
     "data": {
      "text/html": [
       "<div>\n",
       "<style scoped>\n",
       "    .dataframe tbody tr th:only-of-type {\n",
       "        vertical-align: middle;\n",
       "    }\n",
       "\n",
       "    .dataframe tbody tr th {\n",
       "        vertical-align: top;\n",
       "    }\n",
       "\n",
       "    .dataframe thead th {\n",
       "        text-align: right;\n",
       "    }\n",
       "</style>\n",
       "<table border=\"1\" class=\"dataframe\">\n",
       "  <thead>\n",
       "    <tr style=\"text-align: right;\">\n",
       "      <th></th>\n",
       "      <th>Incoming_Ever</th>\n",
       "    </tr>\n",
       "    <tr>\n",
       "      <th>EXTRELNO</th>\n",
       "      <th></th>\n",
       "    </tr>\n",
       "  </thead>\n",
       "  <tbody>\n",
       "    <tr>\n",
       "      <th>0000020</th>\n",
       "      <td>0</td>\n",
       "    </tr>\n",
       "    <tr>\n",
       "      <th>0000035</th>\n",
       "      <td>1</td>\n",
       "    </tr>\n",
       "    <tr>\n",
       "      <th>0000042</th>\n",
       "      <td>1</td>\n",
       "    </tr>\n",
       "    <tr>\n",
       "      <th>0000043</th>\n",
       "      <td>1</td>\n",
       "    </tr>\n",
       "    <tr>\n",
       "      <th>0000060</th>\n",
       "      <td>1</td>\n",
       "    </tr>\n",
       "  </tbody>\n",
       "</table>\n",
       "</div>"
      ],
      "text/plain": [
       "          Incoming_Ever\n",
       "EXTRELNO               \n",
       "0000020               0\n",
       "0000035               1\n",
       "0000042               1\n",
       "0000043               1\n",
       "0000060               1"
      ]
     },
     "execution_count": 51,
     "metadata": {},
     "output_type": "execute_result"
    }
   ],
   "source": [
    "p6.Incoming_Ever = np.where(p6.Incoming_Ever ==0,0,1)\n",
    "p6.head()"
   ]
  },
  {
   "cell_type": "markdown",
   "metadata": {},
   "source": [
    "# complaint"
   ]
  },
  {
   "cell_type": "raw",
   "metadata": {},
   "source": [
    "- whether the donor made a complaint"
   ]
  },
  {
   "cell_type": "code",
   "execution_count": 52,
   "metadata": {},
   "outputs": [
    {
     "data": {
      "text/html": [
       "<div>\n",
       "<style scoped>\n",
       "    .dataframe tbody tr th:only-of-type {\n",
       "        vertical-align: middle;\n",
       "    }\n",
       "\n",
       "    .dataframe tbody tr th {\n",
       "        vertical-align: top;\n",
       "    }\n",
       "\n",
       "    .dataframe thead th {\n",
       "        text-align: right;\n",
       "    }\n",
       "</style>\n",
       "<table border=\"1\" class=\"dataframe\">\n",
       "  <thead>\n",
       "    <tr style=\"text-align: right;\">\n",
       "      <th></th>\n",
       "      <th>Complaint</th>\n",
       "    </tr>\n",
       "    <tr>\n",
       "      <th>EXTRELNO</th>\n",
       "      <th></th>\n",
       "    </tr>\n",
       "  </thead>\n",
       "  <tbody>\n",
       "    <tr>\n",
       "      <th>0000020</th>\n",
       "      <td>0</td>\n",
       "    </tr>\n",
       "    <tr>\n",
       "      <th>0000035</th>\n",
       "      <td>0</td>\n",
       "    </tr>\n",
       "    <tr>\n",
       "      <th>0000042</th>\n",
       "      <td>0</td>\n",
       "    </tr>\n",
       "    <tr>\n",
       "      <th>0000043</th>\n",
       "      <td>0</td>\n",
       "    </tr>\n",
       "    <tr>\n",
       "      <th>0000060</th>\n",
       "      <td>0</td>\n",
       "    </tr>\n",
       "  </tbody>\n",
       "</table>\n",
       "</div>"
      ],
      "text/plain": [
       "          Complaint\n",
       "EXTRELNO           \n",
       "0000020           0\n",
       "0000035           0\n",
       "0000042           0\n",
       "0000043           0\n",
       "0000060           0"
      ]
     },
     "execution_count": 52,
     "metadata": {},
     "output_type": "execute_result"
    }
   ],
   "source": [
    "p7=pd.DataFrame({'EXTRELNO':communication.EXTRELNO,'Complaint':communication.CLASCODE})\n",
    "p7.Complaint=np.where(p7.Complaint=='CM',1,0)\n",
    "p7.set_index('EXTRELNO',inplace=True)\n",
    "p7=p7.groupby(['EXTRELNO']).sum()\n",
    "p7.head()"
   ]
  },
  {
   "cell_type": "code",
   "execution_count": 53,
   "metadata": {},
   "outputs": [
    {
     "data": {
      "text/html": [
       "<div>\n",
       "<style scoped>\n",
       "    .dataframe tbody tr th:only-of-type {\n",
       "        vertical-align: middle;\n",
       "    }\n",
       "\n",
       "    .dataframe tbody tr th {\n",
       "        vertical-align: top;\n",
       "    }\n",
       "\n",
       "    .dataframe thead th {\n",
       "        text-align: right;\n",
       "    }\n",
       "</style>\n",
       "<table border=\"1\" class=\"dataframe\">\n",
       "  <thead>\n",
       "    <tr style=\"text-align: right;\">\n",
       "      <th></th>\n",
       "      <th>Complaint</th>\n",
       "    </tr>\n",
       "    <tr>\n",
       "      <th>EXTRELNO</th>\n",
       "      <th></th>\n",
       "    </tr>\n",
       "  </thead>\n",
       "  <tbody>\n",
       "    <tr>\n",
       "      <th>0000020</th>\n",
       "      <td>0</td>\n",
       "    </tr>\n",
       "    <tr>\n",
       "      <th>0000035</th>\n",
       "      <td>0</td>\n",
       "    </tr>\n",
       "    <tr>\n",
       "      <th>0000042</th>\n",
       "      <td>0</td>\n",
       "    </tr>\n",
       "    <tr>\n",
       "      <th>0000043</th>\n",
       "      <td>0</td>\n",
       "    </tr>\n",
       "    <tr>\n",
       "      <th>0000060</th>\n",
       "      <td>0</td>\n",
       "    </tr>\n",
       "  </tbody>\n",
       "</table>\n",
       "</div>"
      ],
      "text/plain": [
       "          Complaint\n",
       "EXTRELNO           \n",
       "0000020           0\n",
       "0000035           0\n",
       "0000042           0\n",
       "0000043           0\n",
       "0000060           0"
      ]
     },
     "execution_count": 53,
     "metadata": {},
     "output_type": "execute_result"
    }
   ],
   "source": [
    "p7.Complaint=np.where(p7.Complaint==0,0,1)\n",
    "p7.head()"
   ]
  },
  {
   "cell_type": "code",
   "execution_count": 54,
   "metadata": {},
   "outputs": [
    {
     "name": "stdout",
     "output_type": "stream",
     "text": [
      "(16308, 1)\n",
      "(16308, 1)\n",
      "(16308, 2)\n",
      "(16308, 3)\n",
      "(24186, 2)\n",
      "(21932, 1)\n",
      "(21932, 1)\n"
     ]
    }
   ],
   "source": [
    "print(p1.shape);print(p2.shape);print(p3.shape);print(p4.shape);print(p5.shape);print(p6.shape);print(p7.shape)"
   ]
  },
  {
   "cell_type": "code",
   "execution_count": 55,
   "metadata": {},
   "outputs": [
    {
     "name": "stderr",
     "output_type": "stream",
     "text": [
      "C:\\Users\\A\\Anaconda3\\lib\\site-packages\\ipykernel_launcher.py:1: FutureWarning: Sorting because non-concatenation axis is not aligned. A future version\n",
      "of pandas will change to not sort by default.\n",
      "\n",
      "To accept the future behavior, pass 'sort=False'.\n",
      "\n",
      "To retain the current behavior and silence the warning, pass 'sort=True'.\n",
      "\n",
      "  \"\"\"Entry point for launching an IPython kernel.\n"
     ]
    },
    {
     "data": {
      "text/html": [
       "<div>\n",
       "<style scoped>\n",
       "    .dataframe tbody tr th:only-of-type {\n",
       "        vertical-align: middle;\n",
       "    }\n",
       "\n",
       "    .dataframe tbody tr th {\n",
       "        vertical-align: top;\n",
       "    }\n",
       "\n",
       "    .dataframe thead th {\n",
       "        text-align: right;\n",
       "    }\n",
       "</style>\n",
       "<table border=\"1\" class=\"dataframe\">\n",
       "  <thead>\n",
       "    <tr style=\"text-align: right;\">\n",
       "      <th></th>\n",
       "      <th>Recency</th>\n",
       "      <th>Frequency</th>\n",
       "      <th>Total_don</th>\n",
       "      <th>Avg_don</th>\n",
       "      <th>PAYTYPECD_E</th>\n",
       "      <th>PAYTYPECD_O</th>\n",
       "      <th>PAYTYPECD_X</th>\n",
       "      <th>LANGUACODE_NL</th>\n",
       "      <th>LANGUACODE_FR</th>\n",
       "      <th>Incoming_Ever</th>\n",
       "      <th>Complaint</th>\n",
       "    </tr>\n",
       "  </thead>\n",
       "  <tbody>\n",
       "    <tr>\n",
       "      <th>0000019</th>\n",
       "      <td>4781.0</td>\n",
       "      <td>1.0</td>\n",
       "      <td>9.57</td>\n",
       "      <td>9.570000</td>\n",
       "      <td>0.0</td>\n",
       "      <td>0.0</td>\n",
       "      <td>1.0</td>\n",
       "      <td>1</td>\n",
       "      <td>0</td>\n",
       "      <td>NaN</td>\n",
       "      <td>NaN</td>\n",
       "    </tr>\n",
       "    <tr>\n",
       "      <th>0000020</th>\n",
       "      <td>16.0</td>\n",
       "      <td>158.0</td>\n",
       "      <td>3176.97</td>\n",
       "      <td>20.107405</td>\n",
       "      <td>0.0</td>\n",
       "      <td>0.0</td>\n",
       "      <td>1.0</td>\n",
       "      <td>1</td>\n",
       "      <td>0</td>\n",
       "      <td>0.0</td>\n",
       "      <td>0.0</td>\n",
       "    </tr>\n",
       "    <tr>\n",
       "      <th>0000035</th>\n",
       "      <td>16.0</td>\n",
       "      <td>155.0</td>\n",
       "      <td>3168.40</td>\n",
       "      <td>20.441290</td>\n",
       "      <td>0.0</td>\n",
       "      <td>0.0</td>\n",
       "      <td>1.0</td>\n",
       "      <td>1</td>\n",
       "      <td>0</td>\n",
       "      <td>1.0</td>\n",
       "      <td>0.0</td>\n",
       "    </tr>\n",
       "    <tr>\n",
       "      <th>0000042</th>\n",
       "      <td>2201.0</td>\n",
       "      <td>85.0</td>\n",
       "      <td>1543.03</td>\n",
       "      <td>18.153294</td>\n",
       "      <td>0.0</td>\n",
       "      <td>0.0</td>\n",
       "      <td>1.0</td>\n",
       "      <td>1</td>\n",
       "      <td>0</td>\n",
       "      <td>1.0</td>\n",
       "      <td>0.0</td>\n",
       "    </tr>\n",
       "    <tr>\n",
       "      <th>0000043</th>\n",
       "      <td>1299.0</td>\n",
       "      <td>229.0</td>\n",
       "      <td>4373.24</td>\n",
       "      <td>19.097118</td>\n",
       "      <td>0.0</td>\n",
       "      <td>0.0</td>\n",
       "      <td>1.0</td>\n",
       "      <td>1</td>\n",
       "      <td>0</td>\n",
       "      <td>1.0</td>\n",
       "      <td>0.0</td>\n",
       "    </tr>\n",
       "  </tbody>\n",
       "</table>\n",
       "</div>"
      ],
      "text/plain": [
       "         Recency  Frequency  Total_don    Avg_don  PAYTYPECD_E  PAYTYPECD_O  \\\n",
       "0000019   4781.0        1.0       9.57   9.570000          0.0          0.0   \n",
       "0000020     16.0      158.0    3176.97  20.107405          0.0          0.0   \n",
       "0000035     16.0      155.0    3168.40  20.441290          0.0          0.0   \n",
       "0000042   2201.0       85.0    1543.03  18.153294          0.0          0.0   \n",
       "0000043   1299.0      229.0    4373.24  19.097118          0.0          0.0   \n",
       "\n",
       "         PAYTYPECD_X  LANGUACODE_NL  LANGUACODE_FR  Incoming_Ever  Complaint  \n",
       "0000019          1.0              1              0            NaN        NaN  \n",
       "0000020          1.0              1              0            0.0        0.0  \n",
       "0000035          1.0              1              0            1.0        0.0  \n",
       "0000042          1.0              1              0            1.0        0.0  \n",
       "0000043          1.0              1              0            1.0        0.0  "
      ]
     },
     "execution_count": 55,
     "metadata": {},
     "output_type": "execute_result"
    }
   ],
   "source": [
    "pred=pd.concat([p1,p2,p3,p4,p5,p6,p7],axis=1)\n",
    "pred.head()"
   ]
  },
  {
   "cell_type": "code",
   "execution_count": 56,
   "metadata": {},
   "outputs": [
    {
     "data": {
      "text/plain": [
       "Recency          7878\n",
       "Frequency        7878\n",
       "Total_don        7878\n",
       "Avg_don          7878\n",
       "PAYTYPECD_E      7878\n",
       "PAYTYPECD_O      7878\n",
       "PAYTYPECD_X      7878\n",
       "LANGUACODE_NL       0\n",
       "LANGUACODE_FR       0\n",
       "Incoming_Ever    2254\n",
       "Complaint        2254\n",
       "dtype: int64"
      ]
     },
     "execution_count": 56,
     "metadata": {},
     "output_type": "execute_result"
    }
   ],
   "source": [
    "pred.isnull().sum()"
   ]
  },
  {
   "cell_type": "code",
   "execution_count": 57,
   "metadata": {},
   "outputs": [
    {
     "data": {
      "text/plain": [
       "(24186, 11)"
      ]
     },
     "execution_count": 57,
     "metadata": {},
     "output_type": "execute_result"
    }
   ],
   "source": [
    "pred.shape"
   ]
  },
  {
   "cell_type": "code",
   "execution_count": 58,
   "metadata": {},
   "outputs": [
    {
     "data": {
      "text/plain": [
       "Recency          7878\n",
       "Frequency        7878\n",
       "Total_don        7878\n",
       "Avg_don          7878\n",
       "PAYTYPECD_E      7878\n",
       "PAYTYPECD_O      7878\n",
       "PAYTYPECD_X      7878\n",
       "LANGUACODE_NL       0\n",
       "LANGUACODE_FR       0\n",
       "Incoming_Ever    2254\n",
       "Complaint        2254\n",
       "dtype: int64"
      ]
     },
     "execution_count": 58,
     "metadata": {},
     "output_type": "execute_result"
    }
   ],
   "source": [
    "pred.isnull().sum()"
   ]
  },
  {
   "cell_type": "markdown",
   "metadata": {},
   "source": [
    "# Creating Dependent variable"
   ]
  },
  {
   "cell_type": "markdown",
   "metadata": {},
   "source": [
    "-First extract year from **EXTRELSTDT** for train,validation and test data"
   ]
  },
  {
   "cell_type": "code",
   "execution_count": 59,
   "metadata": {},
   "outputs": [],
   "source": [
    "import datetime"
   ]
  },
  {
   "cell_type": "code",
   "execution_count": 60,
   "metadata": {},
   "outputs": [
    {
     "name": "stderr",
     "output_type": "stream",
     "text": [
      "C:\\Users\\A\\Anaconda3\\lib\\site-packages\\ipykernel_launcher.py:1: SettingWithCopyWarning: \n",
      "A value is trying to be set on a copy of a slice from a DataFrame.\n",
      "Try using .loc[row_indexer,col_indexer] = value instead\n",
      "\n",
      "See the caveats in the documentation: http://pandas.pydata.org/pandas-docs/stable/user_guide/indexing.html#returning-a-view-versus-a-copy\n",
      "  \"\"\"Entry point for launching an IPython kernel.\n"
     ]
    },
    {
     "data": {
      "text/html": [
       "<div>\n",
       "<style scoped>\n",
       "    .dataframe tbody tr th:only-of-type {\n",
       "        vertical-align: middle;\n",
       "    }\n",
       "\n",
       "    .dataframe tbody tr th {\n",
       "        vertical-align: top;\n",
       "    }\n",
       "\n",
       "    .dataframe thead th {\n",
       "        text-align: right;\n",
       "    }\n",
       "</style>\n",
       "<table border=\"1\" class=\"dataframe\">\n",
       "  <thead>\n",
       "    <tr style=\"text-align: right;\">\n",
       "      <th></th>\n",
       "      <th>EXTRELNO</th>\n",
       "      <th>EXRELACTCD</th>\n",
       "      <th>EXTRELSTDT</th>\n",
       "      <th>EXRELDATEN</th>\n",
       "      <th>START_YEAR</th>\n",
       "    </tr>\n",
       "  </thead>\n",
       "  <tbody>\n",
       "    <tr>\n",
       "      <th>1</th>\n",
       "      <td>0026419</td>\n",
       "      <td>FP</td>\n",
       "      <td>1992-03-01</td>\n",
       "      <td>NaT</td>\n",
       "      <td>1992</td>\n",
       "    </tr>\n",
       "    <tr>\n",
       "      <th>3</th>\n",
       "      <td>0026430</td>\n",
       "      <td>FP</td>\n",
       "      <td>1992-03-01</td>\n",
       "      <td>2006-01-31</td>\n",
       "      <td>1992</td>\n",
       "    </tr>\n",
       "    <tr>\n",
       "      <th>5</th>\n",
       "      <td>0026431</td>\n",
       "      <td>FP</td>\n",
       "      <td>1992-03-01</td>\n",
       "      <td>NaT</td>\n",
       "      <td>1992</td>\n",
       "    </tr>\n",
       "    <tr>\n",
       "      <th>7</th>\n",
       "      <td>0026443</td>\n",
       "      <td>FP</td>\n",
       "      <td>1992-03-01</td>\n",
       "      <td>NaT</td>\n",
       "      <td>1992</td>\n",
       "    </tr>\n",
       "    <tr>\n",
       "      <th>8</th>\n",
       "      <td>0026444</td>\n",
       "      <td>FP</td>\n",
       "      <td>1992-03-01</td>\n",
       "      <td>NaT</td>\n",
       "      <td>1992</td>\n",
       "    </tr>\n",
       "  </tbody>\n",
       "</table>\n",
       "</div>"
      ],
      "text/plain": [
       "  EXTRELNO EXRELACTCD EXTRELSTDT EXRELDATEN START_YEAR\n",
       "1  0026419         FP 1992-03-01        NaT       1992\n",
       "3  0026430         FP 1992-03-01 2006-01-31       1992\n",
       "5  0026431         FP 1992-03-01        NaT       1992\n",
       "7  0026443         FP 1992-03-01        NaT       1992\n",
       "8  0026444         FP 1992-03-01        NaT       1992"
      ]
     },
     "execution_count": 60,
     "metadata": {},
     "output_type": "execute_result"
    }
   ],
   "source": [
    "customer['START_YEAR']=pd.to_datetime(customer['EXTRELSTDT']).dt.to_period('Y')\n",
    "customer.head()"
   ]
  },
  {
   "cell_type": "code",
   "execution_count": 61,
   "metadata": {},
   "outputs": [
    {
     "name": "stdout",
     "output_type": "stream",
     "text": [
      "Populating the interactive namespace from numpy and matplotlib\n"
     ]
    }
   ],
   "source": [
    "import matplotlib.pyplot as plt\n",
    "%matplotlib inline\n",
    "import seaborn as sns\n",
    "%pylab inline"
   ]
  },
  {
   "cell_type": "code",
   "execution_count": 62,
   "metadata": {},
   "outputs": [
    {
     "name": "stdout",
     "output_type": "stream",
     "text": [
      "1995    874\n",
      "1993    812\n",
      "2000    783\n",
      "1994    747\n",
      "2005    529\n",
      "1999    523\n",
      "2004    520\n",
      "1992    436\n",
      "2002    391\n",
      "2001    362\n",
      "1996    346\n",
      "2003    304\n",
      "1997    283\n",
      "1998    271\n",
      "Freq: A-DEC, Name: START_YEAR, dtype: int64\n"
     ]
    },
    {
     "data": {
      "text/plain": [
       "Text(0.5,1,'Histogram of active customer')"
      ]
     },
     "execution_count": 62,
     "metadata": {},
     "output_type": "execute_result"
    },
    {
     "data": {
      "image/png": "[encoded data removed]",
      "text/plain": [
       "<Figure size 432x288 with 1 Axes>"
      ]
     },
     "metadata": {
      "needs_background": "light"
     },
     "output_type": "display_data"
    }
   ],
   "source": [
    "count=customer['START_YEAR'].value_counts()\n",
    "print(count)\n",
    "plt=count.sort_index().plot.bar()\n",
    "plt.set_xlabel('Year')\n",
    "plt.set_ylabel('Frequency')\n",
    "plt.set_title('Histogram of active customer')"
   ]
  },
  {
   "cell_type": "markdown",
   "metadata": {},
   "source": [
    "from the above histogram we can observe that: Year 1995 had **most active customer** with 874 customers and Year 1998 had **least active customer** with 271 customers"
   ]
  },
  {
   "cell_type": "raw",
   "metadata": {},
   "source": [
    "- creating churn as a dependent variable.\n",
    "   [if relationship has ended churn =1]"
   ]
  },
  {
   "cell_type": "raw",
   "metadata": {},
   "source": [
    "- if the relationship ending date (exreldaten) is non-missing & lies within the DW ,it means that account has churned"
   ]
  },
  {
   "cell_type": "code",
   "execution_count": 63,
   "metadata": {},
   "outputs": [
    {
     "data": {
      "text/plain": [
       "EXTRELNO         0\n",
       "EXRELACTCD       0\n",
       "EXTRELSTDT       0\n",
       "EXRELDATEN    6675\n",
       "START_YEAR       0\n",
       "dtype: int64"
      ]
     },
     "execution_count": 63,
     "metadata": {},
     "output_type": "execute_result"
    }
   ],
   "source": [
    "customer.isnull().sum()"
   ]
  },
  {
   "cell_type": "code",
   "execution_count": 64,
   "metadata": {},
   "outputs": [
    {
     "name": "stderr",
     "output_type": "stream",
     "text": [
      "C:\\Users\\A\\Anaconda3\\lib\\site-packages\\ipykernel_launcher.py:1: SettingWithCopyWarning: \n",
      "A value is trying to be set on a copy of a slice from a DataFrame.\n",
      "Try using .loc[row_indexer,col_indexer] = value instead\n",
      "\n",
      "See the caveats in the documentation: http://pandas.pydata.org/pandas-docs/stable/user_guide/indexing.html#returning-a-view-versus-a-copy\n",
      "  \"\"\"Entry point for launching an IPython kernel.\n"
     ]
    },
    {
     "data": {
      "text/html": [
       "<div>\n",
       "<style scoped>\n",
       "    .dataframe tbody tr th:only-of-type {\n",
       "        vertical-align: middle;\n",
       "    }\n",
       "\n",
       "    .dataframe tbody tr th {\n",
       "        vertical-align: top;\n",
       "    }\n",
       "\n",
       "    .dataframe thead th {\n",
       "        text-align: right;\n",
       "    }\n",
       "</style>\n",
       "<table border=\"1\" class=\"dataframe\">\n",
       "  <thead>\n",
       "    <tr style=\"text-align: right;\">\n",
       "      <th></th>\n",
       "      <th>EXTRELNO</th>\n",
       "      <th>EXRELACTCD</th>\n",
       "      <th>EXTRELSTDT</th>\n",
       "      <th>EXRELDATEN</th>\n",
       "      <th>START_YEAR</th>\n",
       "      <th>CHURN</th>\n",
       "    </tr>\n",
       "  </thead>\n",
       "  <tbody>\n",
       "    <tr>\n",
       "      <th>1</th>\n",
       "      <td>0026419</td>\n",
       "      <td>FP</td>\n",
       "      <td>1992-03-01</td>\n",
       "      <td>NaT</td>\n",
       "      <td>1992</td>\n",
       "      <td>0</td>\n",
       "    </tr>\n",
       "    <tr>\n",
       "      <th>3</th>\n",
       "      <td>0026430</td>\n",
       "      <td>FP</td>\n",
       "      <td>1992-03-01</td>\n",
       "      <td>2006-01-31</td>\n",
       "      <td>1992</td>\n",
       "      <td>1</td>\n",
       "    </tr>\n",
       "    <tr>\n",
       "      <th>5</th>\n",
       "      <td>0026431</td>\n",
       "      <td>FP</td>\n",
       "      <td>1992-03-01</td>\n",
       "      <td>NaT</td>\n",
       "      <td>1992</td>\n",
       "      <td>0</td>\n",
       "    </tr>\n",
       "    <tr>\n",
       "      <th>7</th>\n",
       "      <td>0026443</td>\n",
       "      <td>FP</td>\n",
       "      <td>1992-03-01</td>\n",
       "      <td>NaT</td>\n",
       "      <td>1992</td>\n",
       "      <td>0</td>\n",
       "    </tr>\n",
       "    <tr>\n",
       "      <th>8</th>\n",
       "      <td>0026444</td>\n",
       "      <td>FP</td>\n",
       "      <td>1992-03-01</td>\n",
       "      <td>NaT</td>\n",
       "      <td>1992</td>\n",
       "      <td>0</td>\n",
       "    </tr>\n",
       "  </tbody>\n",
       "</table>\n",
       "</div>"
      ],
      "text/plain": [
       "  EXTRELNO EXRELACTCD EXTRELSTDT EXRELDATEN START_YEAR  CHURN\n",
       "1  0026419         FP 1992-03-01        NaT       1992      0\n",
       "3  0026430         FP 1992-03-01 2006-01-31       1992      1\n",
       "5  0026431         FP 1992-03-01        NaT       1992      0\n",
       "7  0026443         FP 1992-03-01        NaT       1992      0\n",
       "8  0026444         FP 1992-03-01        NaT       1992      0"
      ]
     },
     "execution_count": 64,
     "metadata": {},
     "output_type": "execute_result"
    }
   ],
   "source": [
    "customer['CHURN']=np.where(customer['EXRELDATEN'].isnull(),0,1)\n",
    "customer.head()"
   ]
  },
  {
   "cell_type": "code",
   "execution_count": 65,
   "metadata": {},
   "outputs": [
    {
     "data": {
      "text/plain": [
       "0    6675\n",
       "1     506\n",
       "Name: CHURN, dtype: int64"
      ]
     },
     "execution_count": 65,
     "metadata": {},
     "output_type": "execute_result"
    }
   ],
   "source": [
    "customer.CHURN.value_counts()"
   ]
  },
  {
   "cell_type": "code",
   "execution_count": 66,
   "metadata": {},
   "outputs": [
    {
     "data": {
      "text/plain": [
       "EXTRELNO              object\n",
       "EXRELACTCD            object\n",
       "EXTRELSTDT    datetime64[ns]\n",
       "EXRELDATEN    datetime64[ns]\n",
       "START_YEAR     period[A-DEC]\n",
       "CHURN                  int32\n",
       "dtype: object"
      ]
     },
     "execution_count": 66,
     "metadata": {},
     "output_type": "execute_result"
    }
   ],
   "source": [
    "customer.dtypes"
   ]
  },
  {
   "cell_type": "code",
   "execution_count": 67,
   "metadata": {},
   "outputs": [
    {
     "data": {
      "text/html": [
       "<div>\n",
       "<style scoped>\n",
       "    .dataframe tbody tr th:only-of-type {\n",
       "        vertical-align: middle;\n",
       "    }\n",
       "\n",
       "    .dataframe tbody tr th {\n",
       "        vertical-align: top;\n",
       "    }\n",
       "\n",
       "    .dataframe thead th {\n",
       "        text-align: right;\n",
       "    }\n",
       "</style>\n",
       "<table border=\"1\" class=\"dataframe\">\n",
       "  <thead>\n",
       "    <tr style=\"text-align: right;\">\n",
       "      <th></th>\n",
       "      <th>EXRELACTCD</th>\n",
       "      <th>EXTRELSTDT</th>\n",
       "      <th>EXRELDATEN</th>\n",
       "      <th>START_YEAR</th>\n",
       "      <th>CHURN</th>\n",
       "    </tr>\n",
       "    <tr>\n",
       "      <th>EXTRELNO</th>\n",
       "      <th></th>\n",
       "      <th></th>\n",
       "      <th></th>\n",
       "      <th></th>\n",
       "      <th></th>\n",
       "    </tr>\n",
       "  </thead>\n",
       "  <tbody>\n",
       "    <tr>\n",
       "      <th>0026419</th>\n",
       "      <td>FP</td>\n",
       "      <td>1992-03-01</td>\n",
       "      <td>NaT</td>\n",
       "      <td>1992</td>\n",
       "      <td>0</td>\n",
       "    </tr>\n",
       "    <tr>\n",
       "      <th>0026430</th>\n",
       "      <td>FP</td>\n",
       "      <td>1992-03-01</td>\n",
       "      <td>2006-01-31</td>\n",
       "      <td>1992</td>\n",
       "      <td>1</td>\n",
       "    </tr>\n",
       "    <tr>\n",
       "      <th>0026431</th>\n",
       "      <td>FP</td>\n",
       "      <td>1992-03-01</td>\n",
       "      <td>NaT</td>\n",
       "      <td>1992</td>\n",
       "      <td>0</td>\n",
       "    </tr>\n",
       "    <tr>\n",
       "      <th>0026443</th>\n",
       "      <td>FP</td>\n",
       "      <td>1992-03-01</td>\n",
       "      <td>NaT</td>\n",
       "      <td>1992</td>\n",
       "      <td>0</td>\n",
       "    </tr>\n",
       "    <tr>\n",
       "      <th>0026444</th>\n",
       "      <td>FP</td>\n",
       "      <td>1992-03-01</td>\n",
       "      <td>NaT</td>\n",
       "      <td>1992</td>\n",
       "      <td>0</td>\n",
       "    </tr>\n",
       "  </tbody>\n",
       "</table>\n",
       "</div>"
      ],
      "text/plain": [
       "         EXRELACTCD EXTRELSTDT EXRELDATEN START_YEAR  CHURN\n",
       "EXTRELNO                                                   \n",
       "0026419          FP 1992-03-01        NaT       1992      0\n",
       "0026430          FP 1992-03-01 2006-01-31       1992      1\n",
       "0026431          FP 1992-03-01        NaT       1992      0\n",
       "0026443          FP 1992-03-01        NaT       1992      0\n",
       "0026444          FP 1992-03-01        NaT       1992      0"
      ]
     },
     "execution_count": 67,
     "metadata": {},
     "output_type": "execute_result"
    }
   ],
   "source": [
    "customer.set_index('EXTRELNO',inplace=True)\n",
    "customer.head()"
   ]
  },
  {
   "cell_type": "markdown",
   "metadata": {},
   "source": [
    "# Creating basetable by merging data"
   ]
  },
  {
   "cell_type": "raw",
   "metadata": {},
   "source": [
    "-  created qualified customer as 'customer' dataset from dataset extrel.\n",
    "- created independent variables from given datasets in pred dataset.\n",
    "- So, we merging  2 datasets i.e., customer & pred."
   ]
  },
  {
   "cell_type": "code",
   "execution_count": 68,
   "metadata": {},
   "outputs": [
    {
     "data": {
      "text/plain": [
       "Index(['EXRELACTCD', 'EXTRELSTDT', 'EXRELDATEN', 'START_YEAR', 'CHURN'], dtype='object')"
      ]
     },
     "execution_count": 68,
     "metadata": {},
     "output_type": "execute_result"
    }
   ],
   "source": [
    "customer.columns"
   ]
  },
  {
   "cell_type": "code",
   "execution_count": 69,
   "metadata": {},
   "outputs": [
    {
     "data": {
      "text/plain": [
       "Index(['Recency', 'Frequency', 'Total_don', 'Avg_don', 'PAYTYPECD_E',\n",
       "       'PAYTYPECD_O', 'PAYTYPECD_X', 'LANGUACODE_NL', 'LANGUACODE_FR',\n",
       "       'Incoming_Ever', 'Complaint'],\n",
       "      dtype='object')"
      ]
     },
     "execution_count": 69,
     "metadata": {},
     "output_type": "execute_result"
    }
   ],
   "source": [
    "pred.columns"
   ]
  },
  {
   "cell_type": "code",
   "execution_count": 70,
   "metadata": {},
   "outputs": [
    {
     "data": {
      "text/html": [
       "<div>\n",
       "<style scoped>\n",
       "    .dataframe tbody tr th:only-of-type {\n",
       "        vertical-align: middle;\n",
       "    }\n",
       "\n",
       "    .dataframe tbody tr th {\n",
       "        vertical-align: top;\n",
       "    }\n",
       "\n",
       "    .dataframe thead th {\n",
       "        text-align: right;\n",
       "    }\n",
       "</style>\n",
       "<table border=\"1\" class=\"dataframe\">\n",
       "  <thead>\n",
       "    <tr style=\"text-align: right;\">\n",
       "      <th></th>\n",
       "      <th>EXRELACTCD</th>\n",
       "      <th>EXTRELSTDT</th>\n",
       "      <th>EXRELDATEN</th>\n",
       "      <th>START_YEAR</th>\n",
       "      <th>CHURN</th>\n",
       "      <th>Recency</th>\n",
       "      <th>Frequency</th>\n",
       "      <th>Total_don</th>\n",
       "      <th>Avg_don</th>\n",
       "      <th>PAYTYPECD_E</th>\n",
       "      <th>PAYTYPECD_O</th>\n",
       "      <th>PAYTYPECD_X</th>\n",
       "      <th>LANGUACODE_NL</th>\n",
       "      <th>LANGUACODE_FR</th>\n",
       "      <th>Incoming_Ever</th>\n",
       "      <th>Complaint</th>\n",
       "    </tr>\n",
       "    <tr>\n",
       "      <th>EXTRELNO</th>\n",
       "      <th></th>\n",
       "      <th></th>\n",
       "      <th></th>\n",
       "      <th></th>\n",
       "      <th></th>\n",
       "      <th></th>\n",
       "      <th></th>\n",
       "      <th></th>\n",
       "      <th></th>\n",
       "      <th></th>\n",
       "      <th></th>\n",
       "      <th></th>\n",
       "      <th></th>\n",
       "      <th></th>\n",
       "      <th></th>\n",
       "      <th></th>\n",
       "    </tr>\n",
       "  </thead>\n",
       "  <tbody>\n",
       "    <tr>\n",
       "      <th>0026419</th>\n",
       "      <td>FP</td>\n",
       "      <td>1992-03-01</td>\n",
       "      <td>NaT</td>\n",
       "      <td>1992</td>\n",
       "      <td>0</td>\n",
       "      <td>31.0</td>\n",
       "      <td>69.0</td>\n",
       "      <td>3155.05</td>\n",
       "      <td>45.725362</td>\n",
       "      <td>1.0</td>\n",
       "      <td>1.0</td>\n",
       "      <td>1.0</td>\n",
       "      <td>1</td>\n",
       "      <td>0</td>\n",
       "      <td>1.0</td>\n",
       "      <td>0.0</td>\n",
       "    </tr>\n",
       "    <tr>\n",
       "      <th>0026430</th>\n",
       "      <td>FP</td>\n",
       "      <td>1992-03-01</td>\n",
       "      <td>2006-01-31</td>\n",
       "      <td>1992</td>\n",
       "      <td>1</td>\n",
       "      <td>472.0</td>\n",
       "      <td>146.0</td>\n",
       "      <td>2786.13</td>\n",
       "      <td>19.083082</td>\n",
       "      <td>0.0</td>\n",
       "      <td>1.0</td>\n",
       "      <td>1.0</td>\n",
       "      <td>1</td>\n",
       "      <td>0</td>\n",
       "      <td>1.0</td>\n",
       "      <td>1.0</td>\n",
       "    </tr>\n",
       "    <tr>\n",
       "      <th>0026431</th>\n",
       "      <td>FP</td>\n",
       "      <td>1992-03-01</td>\n",
       "      <td>NaT</td>\n",
       "      <td>1992</td>\n",
       "      <td>0</td>\n",
       "      <td>280.0</td>\n",
       "      <td>21.0</td>\n",
       "      <td>3050.61</td>\n",
       "      <td>145.267143</td>\n",
       "      <td>1.0</td>\n",
       "      <td>1.0</td>\n",
       "      <td>1.0</td>\n",
       "      <td>1</td>\n",
       "      <td>0</td>\n",
       "      <td>0.0</td>\n",
       "      <td>0.0</td>\n",
       "    </tr>\n",
       "    <tr>\n",
       "      <th>0026443</th>\n",
       "      <td>FP</td>\n",
       "      <td>1992-03-01</td>\n",
       "      <td>NaT</td>\n",
       "      <td>1992</td>\n",
       "      <td>0</td>\n",
       "      <td>16.0</td>\n",
       "      <td>156.0</td>\n",
       "      <td>3109.62</td>\n",
       "      <td>19.933462</td>\n",
       "      <td>0.0</td>\n",
       "      <td>0.0</td>\n",
       "      <td>1.0</td>\n",
       "      <td>1</td>\n",
       "      <td>0</td>\n",
       "      <td>0.0</td>\n",
       "      <td>0.0</td>\n",
       "    </tr>\n",
       "    <tr>\n",
       "      <th>0026444</th>\n",
       "      <td>FP</td>\n",
       "      <td>1992-03-01</td>\n",
       "      <td>NaT</td>\n",
       "      <td>1992</td>\n",
       "      <td>0</td>\n",
       "      <td>16.0</td>\n",
       "      <td>157.0</td>\n",
       "      <td>3092.47</td>\n",
       "      <td>19.697261</td>\n",
       "      <td>0.0</td>\n",
       "      <td>0.0</td>\n",
       "      <td>1.0</td>\n",
       "      <td>1</td>\n",
       "      <td>0</td>\n",
       "      <td>0.0</td>\n",
       "      <td>0.0</td>\n",
       "    </tr>\n",
       "  </tbody>\n",
       "</table>\n",
       "</div>"
      ],
      "text/plain": [
       "         EXRELACTCD EXTRELSTDT EXRELDATEN START_YEAR  CHURN  Recency  \\\n",
       "EXTRELNO                                                               \n",
       "0026419          FP 1992-03-01        NaT       1992      0     31.0   \n",
       "0026430          FP 1992-03-01 2006-01-31       1992      1    472.0   \n",
       "0026431          FP 1992-03-01        NaT       1992      0    280.0   \n",
       "0026443          FP 1992-03-01        NaT       1992      0     16.0   \n",
       "0026444          FP 1992-03-01        NaT       1992      0     16.0   \n",
       "\n",
       "          Frequency  Total_don     Avg_don  PAYTYPECD_E  PAYTYPECD_O  \\\n",
       "EXTRELNO                                                               \n",
       "0026419        69.0    3155.05   45.725362          1.0          1.0   \n",
       "0026430       146.0    2786.13   19.083082          0.0          1.0   \n",
       "0026431        21.0    3050.61  145.267143          1.0          1.0   \n",
       "0026443       156.0    3109.62   19.933462          0.0          0.0   \n",
       "0026444       157.0    3092.47   19.697261          0.0          0.0   \n",
       "\n",
       "          PAYTYPECD_X  LANGUACODE_NL  LANGUACODE_FR  Incoming_Ever  Complaint  \n",
       "EXTRELNO                                                                       \n",
       "0026419           1.0              1              0            1.0        0.0  \n",
       "0026430           1.0              1              0            1.0        1.0  \n",
       "0026431           1.0              1              0            0.0        0.0  \n",
       "0026443           1.0              1              0            0.0        0.0  \n",
       "0026444           1.0              1              0            0.0        0.0  "
      ]
     },
     "execution_count": 70,
     "metadata": {},
     "output_type": "execute_result"
    }
   ],
   "source": [
    "basetable=customer.merge(pred,left_index=True,right_index=True,how='left')\n",
    "basetable.head()"
   ]
  },
  {
   "cell_type": "code",
   "execution_count": 71,
   "metadata": {},
   "outputs": [
    {
     "data": {
      "text/plain": [
       "EXRELACTCD          0\n",
       "EXTRELSTDT          0\n",
       "EXRELDATEN       6675\n",
       "START_YEAR          0\n",
       "CHURN               0\n",
       "Recency            17\n",
       "Frequency          17\n",
       "Total_don          17\n",
       "Avg_don            17\n",
       "PAYTYPECD_E        17\n",
       "PAYTYPECD_O        17\n",
       "PAYTYPECD_X        17\n",
       "LANGUACODE_NL       0\n",
       "LANGUACODE_FR       0\n",
       "Incoming_Ever       0\n",
       "Complaint           0\n",
       "dtype: int64"
      ]
     },
     "execution_count": 71,
     "metadata": {},
     "output_type": "execute_result"
    }
   ],
   "source": [
    "basetable.isnull().sum()"
   ]
  },
  {
   "cell_type": "code",
   "execution_count": 72,
   "metadata": {},
   "outputs": [
    {
     "data": {
      "text/plain": [
       "0.92953627628464"
      ]
     },
     "execution_count": 72,
     "metadata": {},
     "output_type": "execute_result"
    }
   ],
   "source": [
    "basetable['EXRELDATEN'].isnull().mean()"
   ]
  },
  {
   "cell_type": "markdown",
   "metadata": {},
   "source": [
    "attribute values of **EXRELDATEN** is missing more than 50%. we dropping this variable"
   ]
  },
  {
   "cell_type": "markdown",
   "metadata": {},
   "source": [
    "# Missing value Imputation in basetable"
   ]
  },
  {
   "cell_type": "code",
   "execution_count": 73,
   "metadata": {},
   "outputs": [],
   "source": [
    "basetable.drop(['EXRELDATEN'],axis=1,inplace=True)"
   ]
  },
  {
   "cell_type": "code",
   "execution_count": 74,
   "metadata": {},
   "outputs": [
    {
     "data": {
      "text/html": [
       "<div>\n",
       "<style scoped>\n",
       "    .dataframe tbody tr th:only-of-type {\n",
       "        vertical-align: middle;\n",
       "    }\n",
       "\n",
       "    .dataframe tbody tr th {\n",
       "        vertical-align: top;\n",
       "    }\n",
       "\n",
       "    .dataframe thead th {\n",
       "        text-align: right;\n",
       "    }\n",
       "</style>\n",
       "<table border=\"1\" class=\"dataframe\">\n",
       "  <thead>\n",
       "    <tr style=\"text-align: right;\">\n",
       "      <th></th>\n",
       "      <th>EXRELACTCD</th>\n",
       "      <th>EXTRELSTDT</th>\n",
       "      <th>START_YEAR</th>\n",
       "      <th>CHURN</th>\n",
       "      <th>Recency</th>\n",
       "      <th>Frequency</th>\n",
       "      <th>Total_don</th>\n",
       "      <th>Avg_don</th>\n",
       "      <th>PAYTYPECD_E</th>\n",
       "      <th>PAYTYPECD_O</th>\n",
       "      <th>PAYTYPECD_X</th>\n",
       "      <th>LANGUACODE_NL</th>\n",
       "      <th>LANGUACODE_FR</th>\n",
       "      <th>Incoming_Ever</th>\n",
       "      <th>Complaint</th>\n",
       "    </tr>\n",
       "    <tr>\n",
       "      <th>EXTRELNO</th>\n",
       "      <th></th>\n",
       "      <th></th>\n",
       "      <th></th>\n",
       "      <th></th>\n",
       "      <th></th>\n",
       "      <th></th>\n",
       "      <th></th>\n",
       "      <th></th>\n",
       "      <th></th>\n",
       "      <th></th>\n",
       "      <th></th>\n",
       "      <th></th>\n",
       "      <th></th>\n",
       "      <th></th>\n",
       "      <th></th>\n",
       "    </tr>\n",
       "  </thead>\n",
       "  <tbody>\n",
       "    <tr>\n",
       "      <th>0026419</th>\n",
       "      <td>FP</td>\n",
       "      <td>1992-03-01</td>\n",
       "      <td>1992</td>\n",
       "      <td>0</td>\n",
       "      <td>31.0</td>\n",
       "      <td>69.0</td>\n",
       "      <td>3155.05</td>\n",
       "      <td>45.725362</td>\n",
       "      <td>1.0</td>\n",
       "      <td>1.0</td>\n",
       "      <td>1.0</td>\n",
       "      <td>1</td>\n",
       "      <td>0</td>\n",
       "      <td>1.0</td>\n",
       "      <td>0.0</td>\n",
       "    </tr>\n",
       "    <tr>\n",
       "      <th>0026430</th>\n",
       "      <td>FP</td>\n",
       "      <td>1992-03-01</td>\n",
       "      <td>1992</td>\n",
       "      <td>1</td>\n",
       "      <td>472.0</td>\n",
       "      <td>146.0</td>\n",
       "      <td>2786.13</td>\n",
       "      <td>19.083082</td>\n",
       "      <td>0.0</td>\n",
       "      <td>1.0</td>\n",
       "      <td>1.0</td>\n",
       "      <td>1</td>\n",
       "      <td>0</td>\n",
       "      <td>1.0</td>\n",
       "      <td>1.0</td>\n",
       "    </tr>\n",
       "    <tr>\n",
       "      <th>0026431</th>\n",
       "      <td>FP</td>\n",
       "      <td>1992-03-01</td>\n",
       "      <td>1992</td>\n",
       "      <td>0</td>\n",
       "      <td>280.0</td>\n",
       "      <td>21.0</td>\n",
       "      <td>3050.61</td>\n",
       "      <td>145.267143</td>\n",
       "      <td>1.0</td>\n",
       "      <td>1.0</td>\n",
       "      <td>1.0</td>\n",
       "      <td>1</td>\n",
       "      <td>0</td>\n",
       "      <td>0.0</td>\n",
       "      <td>0.0</td>\n",
       "    </tr>\n",
       "    <tr>\n",
       "      <th>0026443</th>\n",
       "      <td>FP</td>\n",
       "      <td>1992-03-01</td>\n",
       "      <td>1992</td>\n",
       "      <td>0</td>\n",
       "      <td>16.0</td>\n",
       "      <td>156.0</td>\n",
       "      <td>3109.62</td>\n",
       "      <td>19.933462</td>\n",
       "      <td>0.0</td>\n",
       "      <td>0.0</td>\n",
       "      <td>1.0</td>\n",
       "      <td>1</td>\n",
       "      <td>0</td>\n",
       "      <td>0.0</td>\n",
       "      <td>0.0</td>\n",
       "    </tr>\n",
       "    <tr>\n",
       "      <th>0026444</th>\n",
       "      <td>FP</td>\n",
       "      <td>1992-03-01</td>\n",
       "      <td>1992</td>\n",
       "      <td>0</td>\n",
       "      <td>16.0</td>\n",
       "      <td>157.0</td>\n",
       "      <td>3092.47</td>\n",
       "      <td>19.697261</td>\n",
       "      <td>0.0</td>\n",
       "      <td>0.0</td>\n",
       "      <td>1.0</td>\n",
       "      <td>1</td>\n",
       "      <td>0</td>\n",
       "      <td>0.0</td>\n",
       "      <td>0.0</td>\n",
       "    </tr>\n",
       "  </tbody>\n",
       "</table>\n",
       "</div>"
      ],
      "text/plain": [
       "         EXRELACTCD EXTRELSTDT START_YEAR  CHURN  Recency  Frequency  \\\n",
       "EXTRELNO                                                               \n",
       "0026419          FP 1992-03-01       1992      0     31.0       69.0   \n",
       "0026430          FP 1992-03-01       1992      1    472.0      146.0   \n",
       "0026431          FP 1992-03-01       1992      0    280.0       21.0   \n",
       "0026443          FP 1992-03-01       1992      0     16.0      156.0   \n",
       "0026444          FP 1992-03-01       1992      0     16.0      157.0   \n",
       "\n",
       "          Total_don     Avg_don  PAYTYPECD_E  PAYTYPECD_O  PAYTYPECD_X  \\\n",
       "EXTRELNO                                                                 \n",
       "0026419     3155.05   45.725362          1.0          1.0          1.0   \n",
       "0026430     2786.13   19.083082          0.0          1.0          1.0   \n",
       "0026431     3050.61  145.267143          1.0          1.0          1.0   \n",
       "0026443     3109.62   19.933462          0.0          0.0          1.0   \n",
       "0026444     3092.47   19.697261          0.0          0.0          1.0   \n",
       "\n",
       "          LANGUACODE_NL  LANGUACODE_FR  Incoming_Ever  Complaint  \n",
       "EXTRELNO                                                          \n",
       "0026419               1              0            1.0        0.0  \n",
       "0026430               1              0            1.0        1.0  \n",
       "0026431               1              0            0.0        0.0  \n",
       "0026443               1              0            0.0        0.0  \n",
       "0026444               1              0            0.0        0.0  "
      ]
     },
     "execution_count": 74,
     "metadata": {},
     "output_type": "execute_result"
    }
   ],
   "source": [
    "basetable.head()"
   ]
  },
  {
   "cell_type": "code",
   "execution_count": 75,
   "metadata": {},
   "outputs": [
    {
     "data": {
      "text/plain": [
       "EXRELACTCD               object\n",
       "EXTRELSTDT       datetime64[ns]\n",
       "START_YEAR        period[A-DEC]\n",
       "CHURN                     int32\n",
       "Recency                 float64\n",
       "Frequency               float64\n",
       "Total_don               float64\n",
       "Avg_don                 float64\n",
       "PAYTYPECD_E             float64\n",
       "PAYTYPECD_O             float64\n",
       "PAYTYPECD_X             float64\n",
       "LANGUACODE_NL             uint8\n",
       "LANGUACODE_FR             uint8\n",
       "Incoming_Ever           float64\n",
       "Complaint               float64\n",
       "dtype: object"
      ]
     },
     "execution_count": 75,
     "metadata": {},
     "output_type": "execute_result"
    }
   ],
   "source": [
    "basetable.dtypes"
   ]
  },
  {
   "cell_type": "code",
   "execution_count": 76,
   "metadata": {},
   "outputs": [],
   "source": [
    "basetable['Recency']=basetable['Recency'].fillna(basetable['Recency'].mean())\n",
    "basetable['Frequency']=basetable['Frequency'].fillna(basetable['Frequency'].mean())\n",
    "basetable['Total_don']=basetable['Total_don'].fillna(basetable['Total_don'].mean())\n",
    "basetable['Avg_don']=basetable['Avg_don'].fillna(basetable['Avg_don'].mean())\n",
    "basetable['PAYTYPECD_E']=basetable['PAYTYPECD_E'].fillna(basetable['PAYTYPECD_E'].mean())\n",
    "basetable['PAYTYPECD_O']=basetable['PAYTYPECD_O'].fillna(basetable['PAYTYPECD_O'].mean())\n",
    "basetable['PAYTYPECD_X']=basetable['PAYTYPECD_X'].fillna(basetable['PAYTYPECD_X'].mean())"
   ]
  },
  {
   "cell_type": "markdown",
   "metadata": {},
   "source": [
    "# Outlier Treatment"
   ]
  },
  {
   "cell_type": "code",
   "execution_count": 77,
   "metadata": {},
   "outputs": [],
   "source": [
    "import matplotlib.pyplot as plt\n",
    "import seaborn as sns\n",
    "%matplotlib inline"
   ]
  },
  {
   "cell_type": "code",
   "execution_count": 78,
   "metadata": {},
   "outputs": [],
   "source": [
    "def outlier(col):\n",
    "    fig,axis=plt.subplots(figsize=(8,4))\n",
    "    sns.boxplot(data=basetable,x='CHURN',y=col)\n",
    "    plt.title(str('Box plot of ')+str(col))\n",
    "    plt.show()"
   ]
  },
  {
   "cell_type": "code",
   "execution_count": 79,
   "metadata": {},
   "outputs": [
    {
     "data": {
      "image/png": "[encoded data removed]",
      "text/plain": [
       "<Figure size 576x288 with 1 Axes>"
      ]
     },
     "metadata": {
      "needs_background": "light"
     },
     "output_type": "display_data"
    },
    {
     "data": {
      "image/png": "[encoded data removed]",
      "text/plain": [
       "<Figure size 576x288 with 1 Axes>"
      ]
     },
     "metadata": {
      "needs_background": "light"
     },
     "output_type": "display_data"
    },
    {
     "data": {
      "image/png": "[encoded data removed]",
      "text/plain": [
       "<Figure size 576x288 with 1 Axes>"
      ]
     },
     "metadata": {
      "needs_background": "light"
     },
     "output_type": "display_data"
    },
    {
     "data": {
      "image/png": "[encoded data removed]",
      "text/plain": [
       "<Figure size 576x288 with 1 Axes>"
      ]
     },
     "metadata": {
      "needs_background": "light"
     },
     "output_type": "display_data"
    },
    {
     "data": {
      "image/png": "[encoded data removed]",
      "text/plain": [
       "<Figure size 576x288 with 1 Axes>"
      ]
     },
     "metadata": {
      "needs_background": "light"
     },
     "output_type": "display_data"
    },
    {
     "data": {
      "image/png": "[encoded data removed]",
      "text/plain": [
       "<Figure size 576x288 with 1 Axes>"
      ]
     },
     "metadata": {
      "needs_background": "light"
     },
     "output_type": "display_data"
    },
    {
     "data": {
      "image/png": "[encoded data removed]",
      "text/plain": [
       "<Figure size 576x288 with 1 Axes>"
      ]
     },
     "metadata": {
      "needs_background": "light"
     },
     "output_type": "display_data"
    },
    {
     "data": {
      "image/png": "[encoded data removed]",
      "text/plain": [
       "<Figure size 576x288 with 1 Axes>"
      ]
     },
     "metadata": {
      "needs_background": "light"
     },
     "output_type": "display_data"
    },
    {
     "data": {
      "image/png": "[encoded data removed]",
      "text/plain": [
       "<Figure size 576x288 with 1 Axes>"
      ]
     },
     "metadata": {
      "needs_background": "light"
     },
     "output_type": "display_data"
    },
    {
     "data": {
      "image/png": "[encoded data removed]",
      "text/plain": [
       "<Figure size 576x288 with 1 Axes>"
      ]
     },
     "metadata": {
      "needs_background": "light"
     },
     "output_type": "display_data"
    },
    {
     "data": {
      "image/png": "[encoded data removed]",
      "text/plain": [
       "<Figure size 576x288 with 1 Axes>"
      ]
     },
     "metadata": {
      "needs_background": "light"
     },
     "output_type": "display_data"
    }
   ],
   "source": [
    "for col in basetable.columns.difference(['CHURN','EXRELACTCD','EXTRELSTDT','START_YEAR']):\n",
    "    outlier(col)"
   ]
  },
  {
   "cell_type": "markdown",
   "metadata": {},
   "source": [
    "variables require outlier treatment are: **Avg_don,Frequency,Recency,Total_don**"
   ]
  },
  {
   "cell_type": "code",
   "execution_count": 80,
   "metadata": {},
   "outputs": [
    {
     "name": "stderr",
     "output_type": "stream",
     "text": [
      "C:\\Users\\A\\Anaconda3\\lib\\site-packages\\ipykernel_launcher.py:1: FutureWarning: clip_upper(threshold) is deprecated, use clip(upper=threshold) instead\n",
      "  \"\"\"Entry point for launching an IPython kernel.\n",
      "C:\\Users\\A\\Anaconda3\\lib\\site-packages\\ipykernel_launcher.py:2: FutureWarning: clip_lower(threshold) is deprecated, use clip(lower=threshold) instead\n",
      "  \n",
      "C:\\Users\\A\\Anaconda3\\lib\\site-packages\\ipykernel_launcher.py:3: FutureWarning: clip_upper(threshold) is deprecated, use clip(upper=threshold) instead\n",
      "  This is separate from the ipykernel package so we can avoid doing imports until\n",
      "C:\\Users\\A\\Anaconda3\\lib\\site-packages\\ipykernel_launcher.py:4: FutureWarning: clip_lower(threshold) is deprecated, use clip(lower=threshold) instead\n",
      "  after removing the cwd from sys.path.\n",
      "C:\\Users\\A\\Anaconda3\\lib\\site-packages\\ipykernel_launcher.py:5: FutureWarning: clip_upper(threshold) is deprecated, use clip(upper=threshold) instead\n",
      "  \"\"\"\n",
      "C:\\Users\\A\\Anaconda3\\lib\\site-packages\\ipykernel_launcher.py:6: FutureWarning: clip_lower(threshold) is deprecated, use clip(lower=threshold) instead\n",
      "  \n",
      "C:\\Users\\A\\Anaconda3\\lib\\site-packages\\ipykernel_launcher.py:7: FutureWarning: clip_upper(threshold) is deprecated, use clip(upper=threshold) instead\n",
      "  import sys\n",
      "C:\\Users\\A\\Anaconda3\\lib\\site-packages\\ipykernel_launcher.py:8: FutureWarning: clip_lower(threshold) is deprecated, use clip(lower=threshold) instead\n",
      "  \n"
     ]
    }
   ],
   "source": [
    "basetable['Recency']=basetable['Recency'].clip_upper(basetable['Recency'].quantile(0.99))\n",
    "basetable['Recency']=basetable['Recency'].clip_lower(basetable['Recency'].quantile(0.01))\n",
    "basetable['Frequency']=basetable['Frequency'].clip_upper(basetable['Frequency'].quantile(0.99))\n",
    "basetable['Frequency']=basetable['Frequency'].clip_lower(basetable['Frequency'].quantile(0.01))\n",
    "basetable['Total_don']=basetable['Total_don'].clip_upper(basetable['Total_don'].quantile(0.99))\n",
    "basetable['Total_don']=basetable['Total_don'].clip_lower(basetable['Total_don'].quantile(0.01))\n",
    "basetable['Avg_don']=basetable['Avg_don'].clip_upper(basetable['Avg_don'].quantile(0.99))\n",
    "basetable['Avg_don']=basetable['Avg_don'].clip_lower(basetable['Avg_don'].quantile(0.01))"
   ]
  },
  {
   "cell_type": "code",
   "execution_count": 81,
   "metadata": {},
   "outputs": [
    {
     "data": {
      "text/plain": [
       "0    6675\n",
       "1     506\n",
       "Name: CHURN, dtype: int64"
      ]
     },
     "execution_count": 81,
     "metadata": {},
     "output_type": "execute_result"
    }
   ],
   "source": [
    "#count of dependent variable\n",
    "basetable.CHURN.value_counts()"
   ]
  },
  {
   "cell_type": "code",
   "execution_count": 82,
   "metadata": {},
   "outputs": [
    {
     "data": {
      "text/plain": [
       "0    92.953628\n",
       "1     7.046372\n",
       "Name: CHURN, dtype: float64"
      ]
     },
     "execution_count": 82,
     "metadata": {},
     "output_type": "execute_result"
    }
   ],
   "source": [
    "#percentage of unique type of dependent variable\n",
    "(basetable.CHURN.value_counts()/basetable.shape[0])*100"
   ]
  },
  {
   "cell_type": "code",
   "execution_count": 83,
   "metadata": {},
   "outputs": [
    {
     "data": {
      "text/plain": [
       "(7181, 15)"
      ]
     },
     "execution_count": 83,
     "metadata": {},
     "output_type": "execute_result"
    }
   ],
   "source": [
    "basetable.shape"
   ]
  },
  {
   "cell_type": "markdown",
   "metadata": {},
   "source": [
    "**Observation**\n",
    "\n",
    "-Total number of customers are 7181 out of which 6675 customers are **Never churn** & remaining 506 customers are **churn**.\n",
    "\n",
    "-Data is highly imbalanced."
   ]
  },
  {
   "cell_type": "code",
   "execution_count": 84,
   "metadata": {},
   "outputs": [
    {
     "data": {
      "text/plain": [
       "EXRELACTCD               object\n",
       "EXTRELSTDT       datetime64[ns]\n",
       "START_YEAR        period[A-DEC]\n",
       "CHURN                     int32\n",
       "Recency                 float64\n",
       "Frequency               float64\n",
       "Total_don               float64\n",
       "Avg_don                 float64\n",
       "PAYTYPECD_E             float64\n",
       "PAYTYPECD_O             float64\n",
       "PAYTYPECD_X             float64\n",
       "LANGUACODE_NL             uint8\n",
       "LANGUACODE_FR             uint8\n",
       "Incoming_Ever           float64\n",
       "Complaint               float64\n",
       "dtype: object"
      ]
     },
     "execution_count": 84,
     "metadata": {},
     "output_type": "execute_result"
    }
   ],
   "source": [
    "basetable.dtypes"
   ]
  },
  {
   "cell_type": "code",
   "execution_count": 85,
   "metadata": {},
   "outputs": [],
   "source": [
    "#Removing irrelevent variable\n",
    "basetable.drop(['EXRELACTCD','EXTRELSTDT'],axis=1,inplace=True)"
   ]
  },
  {
   "cell_type": "code",
   "execution_count": 86,
   "metadata": {},
   "outputs": [
    {
     "data": {
      "text/plain": [
       "267.2486666666664"
      ]
     },
     "execution_count": 86,
     "metadata": {},
     "output_type": "execute_result"
    }
   ],
   "source": [
    "basetable.Avg_don.max()"
   ]
  },
  {
   "cell_type": "code",
   "execution_count": 87,
   "metadata": {},
   "outputs": [
    {
     "data": {
      "text/html": [
       "<div>\n",
       "<style scoped>\n",
       "    .dataframe tbody tr th:only-of-type {\n",
       "        vertical-align: middle;\n",
       "    }\n",
       "\n",
       "    .dataframe tbody tr th {\n",
       "        vertical-align: top;\n",
       "    }\n",
       "\n",
       "    .dataframe thead th {\n",
       "        text-align: right;\n",
       "    }\n",
       "</style>\n",
       "<table border=\"1\" class=\"dataframe\">\n",
       "  <thead>\n",
       "    <tr style=\"text-align: right;\">\n",
       "      <th></th>\n",
       "      <th>START_YEAR</th>\n",
       "      <th>CHURN</th>\n",
       "      <th>Recency</th>\n",
       "      <th>Frequency</th>\n",
       "      <th>Total_don</th>\n",
       "      <th>Avg_don</th>\n",
       "      <th>PAYTYPECD_E</th>\n",
       "      <th>PAYTYPECD_O</th>\n",
       "      <th>PAYTYPECD_X</th>\n",
       "      <th>LANGUACODE_NL</th>\n",
       "      <th>LANGUACODE_FR</th>\n",
       "      <th>Incoming_Ever</th>\n",
       "      <th>Complaint</th>\n",
       "    </tr>\n",
       "    <tr>\n",
       "      <th>EXTRELNO</th>\n",
       "      <th></th>\n",
       "      <th></th>\n",
       "      <th></th>\n",
       "      <th></th>\n",
       "      <th></th>\n",
       "      <th></th>\n",
       "      <th></th>\n",
       "      <th></th>\n",
       "      <th></th>\n",
       "      <th></th>\n",
       "      <th></th>\n",
       "      <th></th>\n",
       "      <th></th>\n",
       "    </tr>\n",
       "  </thead>\n",
       "  <tbody>\n",
       "    <tr>\n",
       "      <th>0026419</th>\n",
       "      <td>1992</td>\n",
       "      <td>0</td>\n",
       "      <td>31.0</td>\n",
       "      <td>69.0</td>\n",
       "      <td>3155.05</td>\n",
       "      <td>45.725362</td>\n",
       "      <td>1.0</td>\n",
       "      <td>1.0</td>\n",
       "      <td>1.0</td>\n",
       "      <td>1</td>\n",
       "      <td>0</td>\n",
       "      <td>1.0</td>\n",
       "      <td>0.0</td>\n",
       "    </tr>\n",
       "    <tr>\n",
       "      <th>0026430</th>\n",
       "      <td>1992</td>\n",
       "      <td>1</td>\n",
       "      <td>472.0</td>\n",
       "      <td>146.0</td>\n",
       "      <td>2786.13</td>\n",
       "      <td>19.083082</td>\n",
       "      <td>0.0</td>\n",
       "      <td>1.0</td>\n",
       "      <td>1.0</td>\n",
       "      <td>1</td>\n",
       "      <td>0</td>\n",
       "      <td>1.0</td>\n",
       "      <td>1.0</td>\n",
       "    </tr>\n",
       "    <tr>\n",
       "      <th>0026431</th>\n",
       "      <td>1992</td>\n",
       "      <td>0</td>\n",
       "      <td>280.0</td>\n",
       "      <td>21.0</td>\n",
       "      <td>3050.61</td>\n",
       "      <td>145.267143</td>\n",
       "      <td>1.0</td>\n",
       "      <td>1.0</td>\n",
       "      <td>1.0</td>\n",
       "      <td>1</td>\n",
       "      <td>0</td>\n",
       "      <td>0.0</td>\n",
       "      <td>0.0</td>\n",
       "    </tr>\n",
       "    <tr>\n",
       "      <th>0026443</th>\n",
       "      <td>1992</td>\n",
       "      <td>0</td>\n",
       "      <td>16.0</td>\n",
       "      <td>156.0</td>\n",
       "      <td>3109.62</td>\n",
       "      <td>19.933462</td>\n",
       "      <td>0.0</td>\n",
       "      <td>0.0</td>\n",
       "      <td>1.0</td>\n",
       "      <td>1</td>\n",
       "      <td>0</td>\n",
       "      <td>0.0</td>\n",
       "      <td>0.0</td>\n",
       "    </tr>\n",
       "    <tr>\n",
       "      <th>0026444</th>\n",
       "      <td>1992</td>\n",
       "      <td>0</td>\n",
       "      <td>16.0</td>\n",
       "      <td>157.0</td>\n",
       "      <td>3092.47</td>\n",
       "      <td>19.697261</td>\n",
       "      <td>0.0</td>\n",
       "      <td>0.0</td>\n",
       "      <td>1.0</td>\n",
       "      <td>1</td>\n",
       "      <td>0</td>\n",
       "      <td>0.0</td>\n",
       "      <td>0.0</td>\n",
       "    </tr>\n",
       "  </tbody>\n",
       "</table>\n",
       "</div>"
      ],
      "text/plain": [
       "         START_YEAR  CHURN  Recency  Frequency  Total_don     Avg_don  \\\n",
       "EXTRELNO                                                                \n",
       "0026419        1992      0     31.0       69.0    3155.05   45.725362   \n",
       "0026430        1992      1    472.0      146.0    2786.13   19.083082   \n",
       "0026431        1992      0    280.0       21.0    3050.61  145.267143   \n",
       "0026443        1992      0     16.0      156.0    3109.62   19.933462   \n",
       "0026444        1992      0     16.0      157.0    3092.47   19.697261   \n",
       "\n",
       "          PAYTYPECD_E  PAYTYPECD_O  PAYTYPECD_X  LANGUACODE_NL  LANGUACODE_FR  \\\n",
       "EXTRELNO                                                                        \n",
       "0026419           1.0          1.0          1.0              1              0   \n",
       "0026430           0.0          1.0          1.0              1              0   \n",
       "0026431           1.0          1.0          1.0              1              0   \n",
       "0026443           0.0          0.0          1.0              1              0   \n",
       "0026444           0.0          0.0          1.0              1              0   \n",
       "\n",
       "          Incoming_Ever  Complaint  \n",
       "EXTRELNO                            \n",
       "0026419             1.0        0.0  \n",
       "0026430             1.0        1.0  \n",
       "0026431             0.0        0.0  \n",
       "0026443             0.0        0.0  \n",
       "0026444             0.0        0.0  "
      ]
     },
     "execution_count": 87,
     "metadata": {},
     "output_type": "execute_result"
    }
   ],
   "source": [
    "basetable.head()"
   ]
  },
  {
   "cell_type": "markdown",
   "metadata": {},
   "source": [
    " 2.1 **Data Exploratory Analysis**\n",
    "    - Bivariate Analysis - Numeric(TTest) and Categorical(Chisquare)"
   ]
  },
  {
   "cell_type": "code",
   "execution_count": 88,
   "metadata": {},
   "outputs": [],
   "source": [
    "import scipy.stats as stats"
   ]
  },
  {
   "cell_type": "code",
   "execution_count": 89,
   "metadata": {},
   "outputs": [
    {
     "name": "stdout",
     "output_type": "stream",
     "text": [
      "    variable name    t_value      p_value\n",
      "0         Avg_don   -1.27695     0.201662\n",
      "1           CHURN        inf            0\n",
      "2       Complaint  0.0495883     0.960452\n",
      "3       Frequency   -4.45143   8.6591e-06\n",
      "4   Incoming_Ever    11.0266  4.77244e-28\n",
      "5   LANGUACODE_FR   0.357395     0.720806\n",
      "6   LANGUACODE_NL  -0.357395     0.720806\n",
      "7     PAYTYPECD_E    4.92062  8.81937e-07\n",
      "8     PAYTYPECD_O    1.06167     0.288422\n",
      "9     PAYTYPECD_X   -2.38427    0.0171387\n",
      "10        Recency    60.3667            0\n",
      "11      Total_don   -7.49233  7.57602e-14\n"
     ]
    }
   ],
   "source": [
    "ttest_df=pd.DataFrame()\n",
    "for col in basetable.columns.difference(['START_YEAR']):\n",
    "    ttest=stats.ttest_ind(basetable[basetable['CHURN']==1][col],basetable[basetable['CHURN']==0][col])\n",
    "    temp=pd.DataFrame([col,ttest[0],ttest[1]]).T\n",
    "    temp.columns=['variable name','t_value','p_value']\n",
    "    ttest_df=pd.concat([ttest_df,temp],axis=0,ignore_index=True)\n",
    "    \n",
    "print(ttest_df)    "
   ]
  },
  {
   "cell_type": "markdown",
   "metadata": {},
   "source": [
    " 2.2 **Data Exploratory Analysis**\n",
    "\n",
    "     -Data Visualization\n",
    "    "
   ]
  },
  {
   "cell_type": "code",
   "execution_count": 90,
   "metadata": {},
   "outputs": [],
   "source": [
    "import matplotlib.pyplot as plt\n",
    "import seaborn as sns\n",
    "%matplotlib inline"
   ]
  },
  {
   "cell_type": "code",
   "execution_count": 91,
   "metadata": {},
   "outputs": [
    {
     "name": "stderr",
     "output_type": "stream",
     "text": [
      "C:\\Users\\A\\Anaconda3\\lib\\site-packages\\scipy\\stats\\stats.py:1713: FutureWarning: Using a non-tuple sequence for multidimensional indexing is deprecated; use `arr[tuple(seq)]` instead of `arr[seq]`. In the future this will be interpreted as an array index, `arr[np.array(seq)]`, which will result either in an error or a different result.\n",
      "  return np.add.reduce(sorted[indexer] * weights, axis=axis) / sumval\n"
     ]
    },
    {
     "data": {
      "image/png": "[encoded data removed]",
      "text/plain": [
       "<Figure size 720x288 with 1 Axes>"
      ]
     },
     "metadata": {
      "needs_background": "light"
     },
     "output_type": "display_data"
    },
    {
     "data": {
      "image/png": "[encoded data removed]",
      "text/plain": [
       "<Figure size 720x288 with 1 Axes>"
      ]
     },
     "metadata": {
      "needs_background": "light"
     },
     "output_type": "display_data"
    },
    {
     "data": {
      "image/png": "[encoded data removed]",
      "text/plain": [
       "<Figure size 720x288 with 1 Axes>"
      ]
     },
     "metadata": {
      "needs_background": "light"
     },
     "output_type": "display_data"
    },
    {
     "data": {
      "image/png": "[encoded data removed]",
      "text/plain": [
       "<Figure size 720x288 with 1 Axes>"
      ]
     },
     "metadata": {
      "needs_background": "light"
     },
     "output_type": "display_data"
    },
    {
     "data": {
      "image/png": "[encoded data removed]",
      "text/plain": [
       "<Figure size 720x288 with 1 Axes>"
      ]
     },
     "metadata": {
      "needs_background": "light"
     },
     "output_type": "display_data"
    },
    {
     "data": {
      "image/png": "[encoded data removed]",
      "text/plain": [
       "<Figure size 720x288 with 1 Axes>"
      ]
     },
     "metadata": {
      "needs_background": "light"
     },
     "output_type": "display_data"
    },
    {
     "data": {
      "image/png": "[encoded data removed]",
      "text/plain": [
       "<Figure size 720x288 with 1 Axes>"
      ]
     },
     "metadata": {
      "needs_background": "light"
     },
     "output_type": "display_data"
    },
    {
     "data": {
      "image/png": "[encoded data removed]",
      "text/plain": [
       "<Figure size 720x288 with 1 Axes>"
      ]
     },
     "metadata": {
      "needs_background": "light"
     },
     "output_type": "display_data"
    },
    {
     "data": {
      "image/png": "[encoded data removed]",
      "text/plain": [
       "<Figure size 720x288 with 1 Axes>"
      ]
     },
     "metadata": {
      "needs_background": "light"
     },
     "output_type": "display_data"
    }
   ],
   "source": [
    "for col in basetable.columns.difference(['CHURN','START_YEAR','LANGUACODE_NL','LANGUACODE_FR']):\n",
    "    fig,axis=plt.subplots(figsize=(10,4))\n",
    "    sns.distplot(basetable[basetable['CHURN']==0][col],color='g',label='Never churn',hist=True)\n",
    "    sns.distplot(basetable[basetable['CHURN']==1][col],color='r',label='churn',hist=True)\n",
    "    plt.xlabel(col)    \n",
    "    plt.ylabel('Density function')\n",
    "    plt.title('Density function of '+col)\n",
    "    plt.legend()\n",
    "    plt.show()"
   ]
  },
  {
   "cell_type": "markdown",
   "metadata": {},
   "source": [
    " 2.3 **Data Exploratory Analysis**\n",
    "\n",
    "      -Variable Reduction: Multicollinearity"
   ]
  },
  {
   "cell_type": "code",
   "execution_count": 92,
   "metadata": {},
   "outputs": [
    {
     "data": {
      "text/html": [
       "<div>\n",
       "<style scoped>\n",
       "    .dataframe tbody tr th:only-of-type {\n",
       "        vertical-align: middle;\n",
       "    }\n",
       "\n",
       "    .dataframe tbody tr th {\n",
       "        vertical-align: top;\n",
       "    }\n",
       "\n",
       "    .dataframe thead th {\n",
       "        text-align: right;\n",
       "    }\n",
       "</style>\n",
       "<table border=\"1\" class=\"dataframe\">\n",
       "  <thead>\n",
       "    <tr style=\"text-align: right;\">\n",
       "      <th></th>\n",
       "      <th>START_YEAR</th>\n",
       "      <th>CHURN</th>\n",
       "      <th>Recency</th>\n",
       "      <th>Frequency</th>\n",
       "      <th>Total_don</th>\n",
       "      <th>Avg_don</th>\n",
       "      <th>PAYTYPECD_E</th>\n",
       "      <th>PAYTYPECD_O</th>\n",
       "      <th>PAYTYPECD_X</th>\n",
       "      <th>LANGUACODE_NL</th>\n",
       "      <th>LANGUACODE_FR</th>\n",
       "      <th>Incoming_Ever</th>\n",
       "      <th>Complaint</th>\n",
       "    </tr>\n",
       "    <tr>\n",
       "      <th>EXTRELNO</th>\n",
       "      <th></th>\n",
       "      <th></th>\n",
       "      <th></th>\n",
       "      <th></th>\n",
       "      <th></th>\n",
       "      <th></th>\n",
       "      <th></th>\n",
       "      <th></th>\n",
       "      <th></th>\n",
       "      <th></th>\n",
       "      <th></th>\n",
       "      <th></th>\n",
       "      <th></th>\n",
       "    </tr>\n",
       "  </thead>\n",
       "  <tbody>\n",
       "    <tr>\n",
       "      <th>0026419</th>\n",
       "      <td>1992</td>\n",
       "      <td>0</td>\n",
       "      <td>31.0</td>\n",
       "      <td>69.0</td>\n",
       "      <td>3155.05</td>\n",
       "      <td>45.725362</td>\n",
       "      <td>1.0</td>\n",
       "      <td>1.0</td>\n",
       "      <td>1.0</td>\n",
       "      <td>1</td>\n",
       "      <td>0</td>\n",
       "      <td>1.0</td>\n",
       "      <td>0.0</td>\n",
       "    </tr>\n",
       "    <tr>\n",
       "      <th>0026430</th>\n",
       "      <td>1992</td>\n",
       "      <td>1</td>\n",
       "      <td>472.0</td>\n",
       "      <td>146.0</td>\n",
       "      <td>2786.13</td>\n",
       "      <td>19.083082</td>\n",
       "      <td>0.0</td>\n",
       "      <td>1.0</td>\n",
       "      <td>1.0</td>\n",
       "      <td>1</td>\n",
       "      <td>0</td>\n",
       "      <td>1.0</td>\n",
       "      <td>1.0</td>\n",
       "    </tr>\n",
       "    <tr>\n",
       "      <th>0026431</th>\n",
       "      <td>1992</td>\n",
       "      <td>0</td>\n",
       "      <td>280.0</td>\n",
       "      <td>21.0</td>\n",
       "      <td>3050.61</td>\n",
       "      <td>145.267143</td>\n",
       "      <td>1.0</td>\n",
       "      <td>1.0</td>\n",
       "      <td>1.0</td>\n",
       "      <td>1</td>\n",
       "      <td>0</td>\n",
       "      <td>0.0</td>\n",
       "      <td>0.0</td>\n",
       "    </tr>\n",
       "    <tr>\n",
       "      <th>0026443</th>\n",
       "      <td>1992</td>\n",
       "      <td>0</td>\n",
       "      <td>16.0</td>\n",
       "      <td>156.0</td>\n",
       "      <td>3109.62</td>\n",
       "      <td>19.933462</td>\n",
       "      <td>0.0</td>\n",
       "      <td>0.0</td>\n",
       "      <td>1.0</td>\n",
       "      <td>1</td>\n",
       "      <td>0</td>\n",
       "      <td>0.0</td>\n",
       "      <td>0.0</td>\n",
       "    </tr>\n",
       "    <tr>\n",
       "      <th>0026444</th>\n",
       "      <td>1992</td>\n",
       "      <td>0</td>\n",
       "      <td>16.0</td>\n",
       "      <td>157.0</td>\n",
       "      <td>3092.47</td>\n",
       "      <td>19.697261</td>\n",
       "      <td>0.0</td>\n",
       "      <td>0.0</td>\n",
       "      <td>1.0</td>\n",
       "      <td>1</td>\n",
       "      <td>0</td>\n",
       "      <td>0.0</td>\n",
       "      <td>0.0</td>\n",
       "    </tr>\n",
       "  </tbody>\n",
       "</table>\n",
       "</div>"
      ],
      "text/plain": [
       "         START_YEAR  CHURN  Recency  Frequency  Total_don     Avg_don  \\\n",
       "EXTRELNO                                                                \n",
       "0026419        1992      0     31.0       69.0    3155.05   45.725362   \n",
       "0026430        1992      1    472.0      146.0    2786.13   19.083082   \n",
       "0026431        1992      0    280.0       21.0    3050.61  145.267143   \n",
       "0026443        1992      0     16.0      156.0    3109.62   19.933462   \n",
       "0026444        1992      0     16.0      157.0    3092.47   19.697261   \n",
       "\n",
       "          PAYTYPECD_E  PAYTYPECD_O  PAYTYPECD_X  LANGUACODE_NL  LANGUACODE_FR  \\\n",
       "EXTRELNO                                                                        \n",
       "0026419           1.0          1.0          1.0              1              0   \n",
       "0026430           0.0          1.0          1.0              1              0   \n",
       "0026431           1.0          1.0          1.0              1              0   \n",
       "0026443           0.0          0.0          1.0              1              0   \n",
       "0026444           0.0          0.0          1.0              1              0   \n",
       "\n",
       "          Incoming_Ever  Complaint  \n",
       "EXTRELNO                            \n",
       "0026419             1.0        0.0  \n",
       "0026430             1.0        1.0  \n",
       "0026431             0.0        0.0  \n",
       "0026443             0.0        0.0  \n",
       "0026444             0.0        0.0  "
      ]
     },
     "execution_count": 92,
     "metadata": {},
     "output_type": "execute_result"
    }
   ],
   "source": [
    "basetable.head()"
   ]
  },
  {
   "cell_type": "code",
   "execution_count": 93,
   "metadata": {},
   "outputs": [
    {
     "data": {
      "text/plain": [
       "<matplotlib.axes._subplots.AxesSubplot at 0x250a81d19e8>"
      ]
     },
     "execution_count": 93,
     "metadata": {},
     "output_type": "execute_result"
    },
    {
     "data": {
      "image/png": "[encoded data removed]",
      "text/plain": [
       "<Figure size 432x288 with 2 Axes>"
      ]
     },
     "metadata": {
      "needs_background": "light"
     },
     "output_type": "display_data"
    }
   ],
   "source": [
    "sns.heatmap(basetable.corr(),annot=True,fmt='0.2f',cmap='coolwarm')"
   ]
  },
  {
   "cell_type": "markdown",
   "metadata": {},
   "source": [
    " 2.4 **Data Exploratory Analysis**\n",
    "\n",
    "      -Variable Reduction using Somers'D Value"
   ]
  },
  {
   "cell_type": "code",
   "execution_count": 94,
   "metadata": {},
   "outputs": [],
   "source": [
    "import statsmodels.formula.api as smf\n",
    "from sklearn import metrics"
   ]
  },
  {
   "cell_type": "code",
   "execution_count": 95,
   "metadata": {},
   "outputs": [
    {
     "name": "stderr",
     "output_type": "stream",
     "text": [
      "C:\\Users\\A\\Anaconda3\\lib\\site-packages\\statsmodels\\compat\\pandas.py:49: FutureWarning: The Panel class is removed from pandas. Accessing it from the top-level namespace will also be removed in the next version\n",
      "  data_klasses = (pandas.Series, pandas.DataFrame, pandas.Panel)\n"
     ]
    },
    {
     "name": "stdout",
     "output_type": "stream",
     "text": [
      "Optimization terminated successfully.\n",
      "         Current function value: 0.254717\n",
      "         Iterations 7\n",
      "Optimization terminated successfully.\n",
      "         Current function value: 0.254837\n",
      "         Iterations 7\n",
      "Optimization terminated successfully.\n",
      "         Current function value: 0.253416\n",
      "         Iterations 7\n",
      "Optimization terminated successfully.\n",
      "         Current function value: 0.244964\n",
      "         Iterations 8\n",
      "Optimization terminated successfully.\n",
      "         Current function value: 0.254828\n",
      "         Iterations 7\n",
      "Optimization terminated successfully.\n",
      "         Current function value: 0.254828\n",
      "         Iterations 6\n",
      "Optimization terminated successfully.\n",
      "         Current function value: 0.253210\n",
      "         Iterations 7\n",
      "Optimization terminated successfully.\n",
      "         Current function value: 0.254758\n",
      "         Iterations 7\n",
      "Optimization terminated successfully.\n",
      "         Current function value: 0.254421\n",
      "         Iterations 7\n",
      "Optimization terminated successfully.\n",
      "         Current function value: 0.162570\n",
      "         Iterations 8\n",
      "Optimization terminated successfully.\n",
      "         Current function value: 0.250851\n",
      "         Iterations 7\n"
     ]
    }
   ],
   "source": [
    "somersd_df=pd.DataFrame()\n",
    "for col in basetable.columns.difference(['CHURN','START_YEAR']):\n",
    "    logreg=smf.logit(str('CHURN~')+str(col),data=basetable)\n",
    "    result=logreg.fit()\n",
    "    y_score=pd.DataFrame(result.predict())\n",
    "    y_score.columns=['Score']\n",
    "    somersd=2*metrics.roc_auc_score(basetable['CHURN'],y_score)-1\n",
    "    temp=pd.DataFrame([col,somersd]).T\n",
    "    temp.columns=['Variable name','SomersD']\n",
    "    somersd_df=pd.concat([somersd_df,temp],axis=0)"
   ]
  },
  {
   "cell_type": "code",
   "execution_count": 96,
   "metadata": {},
   "outputs": [
    {
     "data": {
      "text/html": [
       "<div>\n",
       "<style scoped>\n",
       "    .dataframe tbody tr th:only-of-type {\n",
       "        vertical-align: middle;\n",
       "    }\n",
       "\n",
       "    .dataframe tbody tr th {\n",
       "        vertical-align: top;\n",
       "    }\n",
       "\n",
       "    .dataframe thead th {\n",
       "        text-align: right;\n",
       "    }\n",
       "</style>\n",
       "<table border=\"1\" class=\"dataframe\">\n",
       "  <thead>\n",
       "    <tr style=\"text-align: right;\">\n",
       "      <th></th>\n",
       "      <th>Variable name</th>\n",
       "      <th>SomersD</th>\n",
       "    </tr>\n",
       "  </thead>\n",
       "  <tbody>\n",
       "    <tr>\n",
       "      <th>0</th>\n",
       "      <td>Complaint</td>\n",
       "      <td>0.000635668</td>\n",
       "    </tr>\n",
       "    <tr>\n",
       "      <th>0</th>\n",
       "      <td>LANGUACODE_FR</td>\n",
       "      <td>0.00458824</td>\n",
       "    </tr>\n",
       "    <tr>\n",
       "      <th>0</th>\n",
       "      <td>LANGUACODE_NL</td>\n",
       "      <td>0.00458824</td>\n",
       "    </tr>\n",
       "    <tr>\n",
       "      <th>0</th>\n",
       "      <td>PAYTYPECD_O</td>\n",
       "      <td>0.0205024</td>\n",
       "    </tr>\n",
       "    <tr>\n",
       "      <th>0</th>\n",
       "      <td>PAYTYPECD_X</td>\n",
       "      <td>0.0315785</td>\n",
       "    </tr>\n",
       "    <tr>\n",
       "      <th>0</th>\n",
       "      <td>Avg_don</td>\n",
       "      <td>0.0590236</td>\n",
       "    </tr>\n",
       "    <tr>\n",
       "      <th>0</th>\n",
       "      <td>PAYTYPECD_E</td>\n",
       "      <td>0.115085</td>\n",
       "    </tr>\n",
       "    <tr>\n",
       "      <th>0</th>\n",
       "      <td>Frequency</td>\n",
       "      <td>0.137774</td>\n",
       "    </tr>\n",
       "    <tr>\n",
       "      <th>0</th>\n",
       "      <td>Incoming_Ever</td>\n",
       "      <td>0.237764</td>\n",
       "    </tr>\n",
       "    <tr>\n",
       "      <th>0</th>\n",
       "      <td>Total_don</td>\n",
       "      <td>0.270047</td>\n",
       "    </tr>\n",
       "    <tr>\n",
       "      <th>0</th>\n",
       "      <td>Recency</td>\n",
       "      <td>0.869714</td>\n",
       "    </tr>\n",
       "  </tbody>\n",
       "</table>\n",
       "</div>"
      ],
      "text/plain": [
       "   Variable name      SomersD\n",
       "0      Complaint  0.000635668\n",
       "0  LANGUACODE_FR   0.00458824\n",
       "0  LANGUACODE_NL   0.00458824\n",
       "0    PAYTYPECD_O    0.0205024\n",
       "0    PAYTYPECD_X    0.0315785\n",
       "0        Avg_don    0.0590236\n",
       "0    PAYTYPECD_E     0.115085\n",
       "0      Frequency     0.137774\n",
       "0  Incoming_Ever     0.237764\n",
       "0      Total_don     0.270047\n",
       "0        Recency     0.869714"
      ]
     },
     "execution_count": 96,
     "metadata": {},
     "output_type": "execute_result"
    }
   ],
   "source": [
    "somersd_df.sort_values(by='SomersD',ascending=True,inplace=True)\n",
    "somersd_df"
   ]
  },
  {
   "cell_type": "code",
   "execution_count": 97,
   "metadata": {},
   "outputs": [],
   "source": [
    "from patsy import dmatrices\n",
    "from statsmodels.stats.outliers_influence import variance_inflation_factor"
   ]
  },
  {
   "cell_type": "code",
   "execution_count": 98,
   "metadata": {},
   "outputs": [
    {
     "data": {
      "text/plain": [
       "'Avg_don+Complaint+Frequency+Incoming_Ever+LANGUACODE_FR+LANGUACODE_NL+PAYTYPECD_E+PAYTYPECD_O+PAYTYPECD_X+Recency+Total_don'"
      ]
     },
     "execution_count": 98,
     "metadata": {},
     "output_type": "execute_result"
    }
   ],
   "source": [
    "features='+'.join(basetable.columns.difference(['CHURN','START_YEAR']))\n",
    "features"
   ]
  },
  {
   "cell_type": "code",
   "execution_count": 99,
   "metadata": {},
   "outputs": [
    {
     "name": "stderr",
     "output_type": "stream",
     "text": [
      "C:\\Users\\A\\Anaconda3\\lib\\site-packages\\statsmodels\\regression\\linear_model.py:1543: RuntimeWarning: divide by zero encountered in double_scalars\n",
      "  return 1 - self.ssr/self.centered_tss\n",
      "C:\\Users\\A\\Anaconda3\\lib\\site-packages\\statsmodels\\stats\\outliers_influence.py:181: RuntimeWarning: divide by zero encountered in double_scalars\n",
      "  vif = 1. / (1. - r_squared_i)\n"
     ]
    }
   ],
   "source": [
    "a,b=dmatrices(formula_like='CHURN~'+features,data=basetable,return_type='dataframe')\n",
    "vif=pd.DataFrame()\n",
    "vif['VIF Factor']=[variance_inflation_factor(b.values,i) for i in range(b.shape[1])]\n",
    "vif['Features']=b.columns                "
   ]
  },
  {
   "cell_type": "code",
   "execution_count": 100,
   "metadata": {},
   "outputs": [
    {
     "data": {
      "text/html": [
       "<div>\n",
       "<style scoped>\n",
       "    .dataframe tbody tr th:only-of-type {\n",
       "        vertical-align: middle;\n",
       "    }\n",
       "\n",
       "    .dataframe tbody tr th {\n",
       "        vertical-align: top;\n",
       "    }\n",
       "\n",
       "    .dataframe thead th {\n",
       "        text-align: right;\n",
       "    }\n",
       "</style>\n",
       "<table border=\"1\" class=\"dataframe\">\n",
       "  <thead>\n",
       "    <tr style=\"text-align: right;\">\n",
       "      <th></th>\n",
       "      <th>VIF Factor</th>\n",
       "      <th>Features</th>\n",
       "    </tr>\n",
       "  </thead>\n",
       "  <tbody>\n",
       "    <tr>\n",
       "      <th>0</th>\n",
       "      <td>0.000000</td>\n",
       "      <td>Intercept</td>\n",
       "    </tr>\n",
       "    <tr>\n",
       "      <th>1</th>\n",
       "      <td>2.474980</td>\n",
       "      <td>Avg_don</td>\n",
       "    </tr>\n",
       "    <tr>\n",
       "      <th>2</th>\n",
       "      <td>1.061392</td>\n",
       "      <td>Complaint</td>\n",
       "    </tr>\n",
       "    <tr>\n",
       "      <th>3</th>\n",
       "      <td>4.220414</td>\n",
       "      <td>Frequency</td>\n",
       "    </tr>\n",
       "    <tr>\n",
       "      <th>4</th>\n",
       "      <td>1.121074</td>\n",
       "      <td>Incoming_Ever</td>\n",
       "    </tr>\n",
       "    <tr>\n",
       "      <th>5</th>\n",
       "      <td>inf</td>\n",
       "      <td>LANGUACODE_FR</td>\n",
       "    </tr>\n",
       "    <tr>\n",
       "      <th>6</th>\n",
       "      <td>inf</td>\n",
       "      <td>LANGUACODE_NL</td>\n",
       "    </tr>\n",
       "    <tr>\n",
       "      <th>7</th>\n",
       "      <td>1.293422</td>\n",
       "      <td>PAYTYPECD_E</td>\n",
       "    </tr>\n",
       "    <tr>\n",
       "      <th>8</th>\n",
       "      <td>1.342912</td>\n",
       "      <td>PAYTYPECD_O</td>\n",
       "    </tr>\n",
       "    <tr>\n",
       "      <th>9</th>\n",
       "      <td>1.433008</td>\n",
       "      <td>PAYTYPECD_X</td>\n",
       "    </tr>\n",
       "    <tr>\n",
       "      <th>10</th>\n",
       "      <td>1.357982</td>\n",
       "      <td>Recency</td>\n",
       "    </tr>\n",
       "    <tr>\n",
       "      <th>11</th>\n",
       "      <td>3.446190</td>\n",
       "      <td>Total_don</td>\n",
       "    </tr>\n",
       "  </tbody>\n",
       "</table>\n",
       "</div>"
      ],
      "text/plain": [
       "    VIF Factor       Features\n",
       "0     0.000000      Intercept\n",
       "1     2.474980        Avg_don\n",
       "2     1.061392      Complaint\n",
       "3     4.220414      Frequency\n",
       "4     1.121074  Incoming_Ever\n",
       "5          inf  LANGUACODE_FR\n",
       "6          inf  LANGUACODE_NL\n",
       "7     1.293422    PAYTYPECD_E\n",
       "8     1.342912    PAYTYPECD_O\n",
       "9     1.433008    PAYTYPECD_X\n",
       "10    1.357982        Recency\n",
       "11    3.446190      Total_don"
      ]
     },
     "execution_count": 100,
     "metadata": {},
     "output_type": "execute_result"
    }
   ],
   "source": [
    "vif"
   ]
  },
  {
   "cell_type": "code",
   "execution_count": 101,
   "metadata": {},
   "outputs": [],
   "source": [
    "#dropping multicollinear variable\n",
    "basetable.drop(['LANGUACODE_FR','PAYTYPECD_O','Total_don'],axis=1,inplace=True)"
   ]
  },
  {
   "cell_type": "code",
   "execution_count": 102,
   "metadata": {},
   "outputs": [
    {
     "data": {
      "text/plain": [
       "'Avg_don+Complaint+Frequency+Incoming_Ever+LANGUACODE_NL+PAYTYPECD_E+PAYTYPECD_X+Recency'"
      ]
     },
     "execution_count": 102,
     "metadata": {},
     "output_type": "execute_result"
    }
   ],
   "source": [
    "#calculating vif after dropping multicollinear variable\n",
    "features='+'.join(basetable.columns.difference(['CHURN','START_YEAR']))\n",
    "features"
   ]
  },
  {
   "cell_type": "code",
   "execution_count": 103,
   "metadata": {},
   "outputs": [],
   "source": [
    "a,b=dmatrices(formula_like='CHURN~'+features,data=basetable,return_type='dataframe')\n",
    "vif=pd.DataFrame()\n",
    "vif['VIF Factor']=[variance_inflation_factor(b.values,i) for i in range(b.shape[1])]\n",
    "vif['Features']=b.columns                "
   ]
  },
  {
   "cell_type": "code",
   "execution_count": 104,
   "metadata": {},
   "outputs": [
    {
     "data": {
      "text/html": [
       "<div>\n",
       "<style scoped>\n",
       "    .dataframe tbody tr th:only-of-type {\n",
       "        vertical-align: middle;\n",
       "    }\n",
       "\n",
       "    .dataframe tbody tr th {\n",
       "        vertical-align: top;\n",
       "    }\n",
       "\n",
       "    .dataframe thead th {\n",
       "        text-align: right;\n",
       "    }\n",
       "</style>\n",
       "<table border=\"1\" class=\"dataframe\">\n",
       "  <thead>\n",
       "    <tr style=\"text-align: right;\">\n",
       "      <th></th>\n",
       "      <th>VIF Factor</th>\n",
       "      <th>Features</th>\n",
       "    </tr>\n",
       "  </thead>\n",
       "  <tbody>\n",
       "    <tr>\n",
       "      <th>0</th>\n",
       "      <td>20.866182</td>\n",
       "      <td>Intercept</td>\n",
       "    </tr>\n",
       "    <tr>\n",
       "      <th>1</th>\n",
       "      <td>1.656503</td>\n",
       "      <td>Avg_don</td>\n",
       "    </tr>\n",
       "    <tr>\n",
       "      <th>2</th>\n",
       "      <td>1.049803</td>\n",
       "      <td>Complaint</td>\n",
       "    </tr>\n",
       "    <tr>\n",
       "      <th>3</th>\n",
       "      <td>1.758062</td>\n",
       "      <td>Frequency</td>\n",
       "    </tr>\n",
       "    <tr>\n",
       "      <th>4</th>\n",
       "      <td>1.105755</td>\n",
       "      <td>Incoming_Ever</td>\n",
       "    </tr>\n",
       "    <tr>\n",
       "      <th>5</th>\n",
       "      <td>1.054866</td>\n",
       "      <td>LANGUACODE_NL</td>\n",
       "    </tr>\n",
       "    <tr>\n",
       "      <th>6</th>\n",
       "      <td>1.049460</td>\n",
       "      <td>PAYTYPECD_E</td>\n",
       "    </tr>\n",
       "    <tr>\n",
       "      <th>7</th>\n",
       "      <td>1.235725</td>\n",
       "      <td>PAYTYPECD_X</td>\n",
       "    </tr>\n",
       "    <tr>\n",
       "      <th>8</th>\n",
       "      <td>1.355701</td>\n",
       "      <td>Recency</td>\n",
       "    </tr>\n",
       "  </tbody>\n",
       "</table>\n",
       "</div>"
      ],
      "text/plain": [
       "   VIF Factor       Features\n",
       "0   20.866182      Intercept\n",
       "1    1.656503        Avg_don\n",
       "2    1.049803      Complaint\n",
       "3    1.758062      Frequency\n",
       "4    1.105755  Incoming_Ever\n",
       "5    1.054866  LANGUACODE_NL\n",
       "6    1.049460    PAYTYPECD_E\n",
       "7    1.235725    PAYTYPECD_X\n",
       "8    1.355701        Recency"
      ]
     },
     "execution_count": 104,
     "metadata": {},
     "output_type": "execute_result"
    }
   ],
   "source": [
    "vif"
   ]
  },
  {
   "cell_type": "code",
   "execution_count": 105,
   "metadata": {},
   "outputs": [
    {
     "data": {
      "text/html": [
       "<div>\n",
       "<style scoped>\n",
       "    .dataframe tbody tr th:only-of-type {\n",
       "        vertical-align: middle;\n",
       "    }\n",
       "\n",
       "    .dataframe tbody tr th {\n",
       "        vertical-align: top;\n",
       "    }\n",
       "\n",
       "    .dataframe thead th {\n",
       "        text-align: right;\n",
       "    }\n",
       "</style>\n",
       "<table border=\"1\" class=\"dataframe\">\n",
       "  <thead>\n",
       "    <tr style=\"text-align: right;\">\n",
       "      <th></th>\n",
       "      <th>CHURN</th>\n",
       "      <th>Recency</th>\n",
       "      <th>Frequency</th>\n",
       "      <th>Avg_don</th>\n",
       "      <th>PAYTYPECD_E</th>\n",
       "      <th>PAYTYPECD_X</th>\n",
       "      <th>LANGUACODE_NL</th>\n",
       "      <th>Incoming_Ever</th>\n",
       "      <th>Complaint</th>\n",
       "    </tr>\n",
       "  </thead>\n",
       "  <tbody>\n",
       "    <tr>\n",
       "      <th>CHURN</th>\n",
       "      <td>1.000000</td>\n",
       "      <td>0.580258</td>\n",
       "      <td>-0.052465</td>\n",
       "      <td>-0.015069</td>\n",
       "      <td>0.057977</td>\n",
       "      <td>-0.028129</td>\n",
       "      <td>-0.004218</td>\n",
       "      <td>0.129051</td>\n",
       "      <td>0.000585</td>\n",
       "    </tr>\n",
       "    <tr>\n",
       "      <th>Recency</th>\n",
       "      <td>0.580258</td>\n",
       "      <td>1.000000</td>\n",
       "      <td>-0.312570</td>\n",
       "      <td>0.471329</td>\n",
       "      <td>0.164761</td>\n",
       "      <td>0.006449</td>\n",
       "      <td>-0.007224</td>\n",
       "      <td>0.090104</td>\n",
       "      <td>0.003393</td>\n",
       "    </tr>\n",
       "    <tr>\n",
       "      <th>Frequency</th>\n",
       "      <td>-0.052465</td>\n",
       "      <td>-0.312570</td>\n",
       "      <td>1.000000</td>\n",
       "      <td>-0.510810</td>\n",
       "      <td>-0.116596</td>\n",
       "      <td>0.370400</td>\n",
       "      <td>0.073851</td>\n",
       "      <td>0.125066</td>\n",
       "      <td>0.131111</td>\n",
       "    </tr>\n",
       "    <tr>\n",
       "      <th>Avg_don</th>\n",
       "      <td>-0.015069</td>\n",
       "      <td>0.471329</td>\n",
       "      <td>-0.510810</td>\n",
       "      <td>1.000000</td>\n",
       "      <td>0.036606</td>\n",
       "      <td>-0.016977</td>\n",
       "      <td>0.020618</td>\n",
       "      <td>-0.016011</td>\n",
       "      <td>-0.001729</td>\n",
       "    </tr>\n",
       "    <tr>\n",
       "      <th>PAYTYPECD_E</th>\n",
       "      <td>0.057977</td>\n",
       "      <td>0.164761</td>\n",
       "      <td>-0.116596</td>\n",
       "      <td>0.036606</td>\n",
       "      <td>1.000000</td>\n",
       "      <td>-0.068956</td>\n",
       "      <td>-0.070489</td>\n",
       "      <td>0.074534</td>\n",
       "      <td>0.006844</td>\n",
       "    </tr>\n",
       "    <tr>\n",
       "      <th>PAYTYPECD_X</th>\n",
       "      <td>-0.028129</td>\n",
       "      <td>0.006449</td>\n",
       "      <td>0.370400</td>\n",
       "      <td>-0.016977</td>\n",
       "      <td>-0.068956</td>\n",
       "      <td>1.000000</td>\n",
       "      <td>0.116504</td>\n",
       "      <td>-0.008435</td>\n",
       "      <td>0.069319</td>\n",
       "    </tr>\n",
       "    <tr>\n",
       "      <th>LANGUACODE_NL</th>\n",
       "      <td>-0.004218</td>\n",
       "      <td>-0.007224</td>\n",
       "      <td>0.073851</td>\n",
       "      <td>0.020618</td>\n",
       "      <td>-0.070489</td>\n",
       "      <td>0.116504</td>\n",
       "      <td>1.000000</td>\n",
       "      <td>-0.165353</td>\n",
       "      <td>0.038346</td>\n",
       "    </tr>\n",
       "    <tr>\n",
       "      <th>Incoming_Ever</th>\n",
       "      <td>0.129051</td>\n",
       "      <td>0.090104</td>\n",
       "      <td>0.125066</td>\n",
       "      <td>-0.016011</td>\n",
       "      <td>0.074534</td>\n",
       "      <td>-0.008435</td>\n",
       "      <td>-0.165353</td>\n",
       "      <td>1.000000</td>\n",
       "      <td>0.165954</td>\n",
       "    </tr>\n",
       "    <tr>\n",
       "      <th>Complaint</th>\n",
       "      <td>0.000585</td>\n",
       "      <td>0.003393</td>\n",
       "      <td>0.131111</td>\n",
       "      <td>-0.001729</td>\n",
       "      <td>0.006844</td>\n",
       "      <td>0.069319</td>\n",
       "      <td>0.038346</td>\n",
       "      <td>0.165954</td>\n",
       "      <td>1.000000</td>\n",
       "    </tr>\n",
       "  </tbody>\n",
       "</table>\n",
       "</div>"
      ],
      "text/plain": [
       "                  CHURN   Recency  Frequency   Avg_don  PAYTYPECD_E  \\\n",
       "CHURN          1.000000  0.580258  -0.052465 -0.015069     0.057977   \n",
       "Recency        0.580258  1.000000  -0.312570  0.471329     0.164761   \n",
       "Frequency     -0.052465 -0.312570   1.000000 -0.510810    -0.116596   \n",
       "Avg_don       -0.015069  0.471329  -0.510810  1.000000     0.036606   \n",
       "PAYTYPECD_E    0.057977  0.164761  -0.116596  0.036606     1.000000   \n",
       "PAYTYPECD_X   -0.028129  0.006449   0.370400 -0.016977    -0.068956   \n",
       "LANGUACODE_NL -0.004218 -0.007224   0.073851  0.020618    -0.070489   \n",
       "Incoming_Ever  0.129051  0.090104   0.125066 -0.016011     0.074534   \n",
       "Complaint      0.000585  0.003393   0.131111 -0.001729     0.006844   \n",
       "\n",
       "               PAYTYPECD_X  LANGUACODE_NL  Incoming_Ever  Complaint  \n",
       "CHURN            -0.028129      -0.004218       0.129051   0.000585  \n",
       "Recency           0.006449      -0.007224       0.090104   0.003393  \n",
       "Frequency         0.370400       0.073851       0.125066   0.131111  \n",
       "Avg_don          -0.016977       0.020618      -0.016011  -0.001729  \n",
       "PAYTYPECD_E      -0.068956      -0.070489       0.074534   0.006844  \n",
       "PAYTYPECD_X       1.000000       0.116504      -0.008435   0.069319  \n",
       "LANGUACODE_NL     0.116504       1.000000      -0.165353   0.038346  \n",
       "Incoming_Ever    -0.008435      -0.165353       1.000000   0.165954  \n",
       "Complaint         0.069319       0.038346       0.165954   1.000000  "
      ]
     },
     "execution_count": 105,
     "metadata": {},
     "output_type": "execute_result"
    }
   ],
   "source": [
    "basetable.corr()"
   ]
  },
  {
   "cell_type": "code",
   "execution_count": 106,
   "metadata": {},
   "outputs": [
    {
     "data": {
      "text/plain": [
       "START_YEAR       period[A-DEC]\n",
       "CHURN                    int32\n",
       "Recency                float64\n",
       "Frequency              float64\n",
       "Avg_don                float64\n",
       "PAYTYPECD_E            float64\n",
       "PAYTYPECD_X            float64\n",
       "LANGUACODE_NL            uint8\n",
       "Incoming_Ever          float64\n",
       "Complaint              float64\n",
       "dtype: object"
      ]
     },
     "execution_count": 106,
     "metadata": {},
     "output_type": "execute_result"
    }
   ],
   "source": [
    "basetable.dtypes"
   ]
  },
  {
   "cell_type": "markdown",
   "metadata": {},
   "source": [
    "**Performing Log Transformation to reduce the effect of extreme values**"
   ]
  },
  {
   "cell_type": "code",
   "execution_count": 107,
   "metadata": {},
   "outputs": [],
   "source": [
    "basetable['Recency']=np.log(basetable['Recency'])\n",
    "basetable['Frequency']=np.log(basetable['Frequency'])\n",
    "#basetable['Total_don']=np.log(basetable['Total_don'])\n",
    "basetable['Avg_don']=np.log(basetable['Avg_don'])"
   ]
  },
  {
   "cell_type": "markdown",
   "metadata": {},
   "source": [
    "# Splitting data into Train & Test "
   ]
  },
  {
   "cell_type": "markdown",
   "metadata": {},
   "source": [
    "**Divide your data into different time windows**\n",
    "      For example: If you have data for 5 years,  \n",
    "      • Use the first 3 years to train models \n",
    "      • validate on the 4th year and pick your best model \n",
    "      • The 5th year’s data will be your hold-out sample for determining out-of-         sample accuracy "
   ]
  },
  {
   "cell_type": "code",
   "execution_count": 110,
   "metadata": {},
   "outputs": [],
   "source": [
    "train=basetable[basetable['START_YEAR']<2003]\n",
    "validate=basetable[basetable['START_YEAR']==2003]\n",
    "test=basetable[basetable['START_YEAR']>2003]"
   ]
  },
  {
   "cell_type": "code",
   "execution_count": 111,
   "metadata": {},
   "outputs": [],
   "source": [
    "train_y=train['CHURN']\n",
    "validate_y=validate['CHURN']\n",
    "test_y=test['CHURN']"
   ]
  },
  {
   "cell_type": "code",
   "execution_count": 112,
   "metadata": {},
   "outputs": [],
   "source": [
    "train_X = train.drop(['CHURN','START_YEAR'],axis=1)\n",
    "validate_X = validate.drop(['CHURN','START_YEAR'],axis = 1)\n",
    "test_X = test.drop(['CHURN','START_YEAR'],axis=1)"
   ]
  },
  {
   "cell_type": "markdown",
   "metadata": {},
   "source": [
    "# Building Model"
   ]
  },
  {
   "cell_type": "markdown",
   "metadata": {},
   "source": [
    "# Logistic Regression"
   ]
  },
  {
   "cell_type": "code",
   "execution_count": 113,
   "metadata": {},
   "outputs": [
    {
     "name": "stdout",
     "output_type": "stream",
     "text": [
      "(5828,)\n",
      "(304,)\n",
      "(1049,)\n"
     ]
    }
   ],
   "source": [
    "print(train_y.shape);print(validate_y.shape);print(test_y.shape)"
   ]
  },
  {
   "cell_type": "code",
   "execution_count": 114,
   "metadata": {},
   "outputs": [
    {
     "name": "stdout",
     "output_type": "stream",
     "text": [
      "(5828, 8)\n",
      "(304, 8)\n",
      "(1049, 8)\n"
     ]
    }
   ],
   "source": [
    "print(train_X.shape);print(validate_X.shape);print(test_X.shape)"
   ]
  },
  {
   "cell_type": "code",
   "execution_count": 115,
   "metadata": {},
   "outputs": [],
   "source": [
    "from sklearn.linear_model import LogisticRegression"
   ]
  },
  {
   "cell_type": "code",
   "execution_count": 116,
   "metadata": {},
   "outputs": [
    {
     "data": {
      "text/plain": [
       "LogisticRegression(C=1.0, class_weight=None, dual=False, fit_intercept=True,\n",
       "          intercept_scaling=1, max_iter=100, multi_class='ovr', n_jobs=1,\n",
       "          penalty='l2', random_state=None, solver='liblinear', tol=0.0001,\n",
       "          verbose=0, warm_start=False)"
      ]
     },
     "execution_count": 116,
     "metadata": {},
     "output_type": "execute_result"
    }
   ],
   "source": [
    "logreg=LogisticRegression()\n",
    "logreg.fit(train_X,train_y)"
   ]
  },
  {
   "cell_type": "code",
   "execution_count": 117,
   "metadata": {},
   "outputs": [
    {
     "data": {
      "text/html": [
       "<div>\n",
       "<style scoped>\n",
       "    .dataframe tbody tr th:only-of-type {\n",
       "        vertical-align: middle;\n",
       "    }\n",
       "\n",
       "    .dataframe tbody tr th {\n",
       "        vertical-align: top;\n",
       "    }\n",
       "\n",
       "    .dataframe thead th {\n",
       "        text-align: right;\n",
       "    }\n",
       "</style>\n",
       "<table border=\"1\" class=\"dataframe\">\n",
       "  <thead>\n",
       "    <tr style=\"text-align: right;\">\n",
       "      <th></th>\n",
       "      <th>0</th>\n",
       "    </tr>\n",
       "  </thead>\n",
       "  <tbody>\n",
       "    <tr>\n",
       "      <th>Recency</th>\n",
       "      <td>2.893175</td>\n",
       "    </tr>\n",
       "    <tr>\n",
       "      <th>Frequency</th>\n",
       "      <td>-0.616211</td>\n",
       "    </tr>\n",
       "    <tr>\n",
       "      <th>Avg_don</th>\n",
       "      <td>-3.310189</td>\n",
       "    </tr>\n",
       "    <tr>\n",
       "      <th>PAYTYPECD_E</th>\n",
       "      <td>-1.389982</td>\n",
       "    </tr>\n",
       "    <tr>\n",
       "      <th>PAYTYPECD_X</th>\n",
       "      <td>-0.213297</td>\n",
       "    </tr>\n",
       "    <tr>\n",
       "      <th>LANGUACODE_NL</th>\n",
       "      <td>0.476954</td>\n",
       "    </tr>\n",
       "    <tr>\n",
       "      <th>Incoming_Ever</th>\n",
       "      <td>1.478963</td>\n",
       "    </tr>\n",
       "    <tr>\n",
       "      <th>Complaint</th>\n",
       "      <td>-0.080564</td>\n",
       "    </tr>\n",
       "  </tbody>\n",
       "</table>\n",
       "</div>"
      ],
      "text/plain": [
       "                      0\n",
       "Recency        2.893175\n",
       "Frequency     -0.616211\n",
       "Avg_don       -3.310189\n",
       "PAYTYPECD_E   -1.389982\n",
       "PAYTYPECD_X   -0.213297\n",
       "LANGUACODE_NL  0.476954\n",
       "Incoming_Ever  1.478963\n",
       "Complaint     -0.080564"
      ]
     },
     "execution_count": 117,
     "metadata": {},
     "output_type": "execute_result"
    }
   ],
   "source": [
    "pd.DataFrame(logreg.coef_[0],train_X.columns)"
   ]
  },
  {
   "cell_type": "code",
   "execution_count": 118,
   "metadata": {},
   "outputs": [
    {
     "data": {
      "text/plain": [
       "array([-1.60615992])"
      ]
     },
     "execution_count": 118,
     "metadata": {},
     "output_type": "execute_result"
    }
   ],
   "source": [
    "logreg.intercept_"
   ]
  },
  {
   "cell_type": "code",
   "execution_count": 119,
   "metadata": {},
   "outputs": [],
   "source": [
    "## Intuition behind ROC curve - predicted probability as a tool for separating the '1's and '0's\n",
    "train_predicted_prob=pd.DataFrame({'actual':train_y,\n",
    "                                  'predicted':logreg.predict(train_X)})"
   ]
  },
  {
   "cell_type": "code",
   "execution_count": 120,
   "metadata": {},
   "outputs": [
    {
     "data": {
      "text/html": [
       "<div>\n",
       "<style scoped>\n",
       "    .dataframe tbody tr th:only-of-type {\n",
       "        vertical-align: middle;\n",
       "    }\n",
       "\n",
       "    .dataframe tbody tr th {\n",
       "        vertical-align: top;\n",
       "    }\n",
       "\n",
       "    .dataframe thead th {\n",
       "        text-align: right;\n",
       "    }\n",
       "</style>\n",
       "<table border=\"1\" class=\"dataframe\">\n",
       "  <thead>\n",
       "    <tr style=\"text-align: right;\">\n",
       "      <th></th>\n",
       "      <th>EXTRELNO</th>\n",
       "      <th>actual</th>\n",
       "      <th>predicted</th>\n",
       "    </tr>\n",
       "  </thead>\n",
       "  <tbody>\n",
       "    <tr>\n",
       "      <th>0</th>\n",
       "      <td>0026419</td>\n",
       "      <td>0</td>\n",
       "      <td>0</td>\n",
       "    </tr>\n",
       "    <tr>\n",
       "      <th>1</th>\n",
       "      <td>0026430</td>\n",
       "      <td>1</td>\n",
       "      <td>1</td>\n",
       "    </tr>\n",
       "    <tr>\n",
       "      <th>2</th>\n",
       "      <td>0026431</td>\n",
       "      <td>0</td>\n",
       "      <td>0</td>\n",
       "    </tr>\n",
       "    <tr>\n",
       "      <th>3</th>\n",
       "      <td>0026443</td>\n",
       "      <td>0</td>\n",
       "      <td>0</td>\n",
       "    </tr>\n",
       "    <tr>\n",
       "      <th>4</th>\n",
       "      <td>0026444</td>\n",
       "      <td>0</td>\n",
       "      <td>0</td>\n",
       "    </tr>\n",
       "  </tbody>\n",
       "</table>\n",
       "</div>"
      ],
      "text/plain": [
       "  EXTRELNO  actual  predicted\n",
       "0  0026419       0          0\n",
       "1  0026430       1          1\n",
       "2  0026431       0          0\n",
       "3  0026443       0          0\n",
       "4  0026444       0          0"
      ]
     },
     "execution_count": 120,
     "metadata": {},
     "output_type": "execute_result"
    }
   ],
   "source": [
    "#Comparing the predictions with actual train data\n",
    "train_predicted_prob=train_predicted_prob.reset_index()\n",
    "train_predicted_prob.head() "
   ]
  },
  {
   "cell_type": "code",
   "execution_count": 121,
   "metadata": {},
   "outputs": [],
   "source": [
    "# predicting the test case\n",
    "validate_predicted_prob=pd.DataFrame({'actual':validate_y,\n",
    "                                 'predicted':logreg.predict(validate_X)})"
   ]
  },
  {
   "cell_type": "code",
   "execution_count": 122,
   "metadata": {},
   "outputs": [
    {
     "data": {
      "text/html": [
       "<div>\n",
       "<style scoped>\n",
       "    .dataframe tbody tr th:only-of-type {\n",
       "        vertical-align: middle;\n",
       "    }\n",
       "\n",
       "    .dataframe tbody tr th {\n",
       "        vertical-align: top;\n",
       "    }\n",
       "\n",
       "    .dataframe thead th {\n",
       "        text-align: right;\n",
       "    }\n",
       "</style>\n",
       "<table border=\"1\" class=\"dataframe\">\n",
       "  <thead>\n",
       "    <tr style=\"text-align: right;\">\n",
       "      <th></th>\n",
       "      <th>EXTRELNO</th>\n",
       "      <th>actual</th>\n",
       "      <th>predicted</th>\n",
       "    </tr>\n",
       "  </thead>\n",
       "  <tbody>\n",
       "    <tr>\n",
       "      <th>0</th>\n",
       "      <td>0029468</td>\n",
       "      <td>0</td>\n",
       "      <td>0</td>\n",
       "    </tr>\n",
       "    <tr>\n",
       "      <th>1</th>\n",
       "      <td>0033178</td>\n",
       "      <td>1</td>\n",
       "      <td>0</td>\n",
       "    </tr>\n",
       "    <tr>\n",
       "      <th>2</th>\n",
       "      <td>0037328</td>\n",
       "      <td>1</td>\n",
       "      <td>1</td>\n",
       "    </tr>\n",
       "    <tr>\n",
       "      <th>3</th>\n",
       "      <td>0178831</td>\n",
       "      <td>0</td>\n",
       "      <td>0</td>\n",
       "    </tr>\n",
       "    <tr>\n",
       "      <th>4</th>\n",
       "      <td>0181108</td>\n",
       "      <td>0</td>\n",
       "      <td>0</td>\n",
       "    </tr>\n",
       "  </tbody>\n",
       "</table>\n",
       "</div>"
      ],
      "text/plain": [
       "  EXTRELNO  actual  predicted\n",
       "0  0029468       0          0\n",
       "1  0033178       1          0\n",
       "2  0037328       1          1\n",
       "3  0178831       0          0\n",
       "4  0181108       0          0"
      ]
     },
     "execution_count": 122,
     "metadata": {},
     "output_type": "execute_result"
    }
   ],
   "source": [
    "#Comparing the predictions with actual validate data\n",
    "validate_predicted_prob=validate_predicted_prob.reset_index()\n",
    "validate_predicted_prob.head()"
   ]
  },
  {
   "cell_type": "code",
   "execution_count": 123,
   "metadata": {},
   "outputs": [],
   "source": [
    "# predicting the test case\n",
    "test_predicted_prob=pd.DataFrame({'actual':test_y,\n",
    "                                 'predicted':logreg.predict(test_X)})"
   ]
  },
  {
   "cell_type": "code",
   "execution_count": 124,
   "metadata": {},
   "outputs": [
    {
     "data": {
      "text/html": [
       "<div>\n",
       "<style scoped>\n",
       "    .dataframe tbody tr th:only-of-type {\n",
       "        vertical-align: middle;\n",
       "    }\n",
       "\n",
       "    .dataframe tbody tr th {\n",
       "        vertical-align: top;\n",
       "    }\n",
       "\n",
       "    .dataframe thead th {\n",
       "        text-align: right;\n",
       "    }\n",
       "</style>\n",
       "<table border=\"1\" class=\"dataframe\">\n",
       "  <thead>\n",
       "    <tr style=\"text-align: right;\">\n",
       "      <th></th>\n",
       "      <th>EXTRELNO</th>\n",
       "      <th>actual</th>\n",
       "      <th>predicted</th>\n",
       "    </tr>\n",
       "  </thead>\n",
       "  <tbody>\n",
       "    <tr>\n",
       "      <th>0</th>\n",
       "      <td>0027029</td>\n",
       "      <td>0</td>\n",
       "      <td>0</td>\n",
       "    </tr>\n",
       "    <tr>\n",
       "      <th>1</th>\n",
       "      <td>0030559</td>\n",
       "      <td>1</td>\n",
       "      <td>1</td>\n",
       "    </tr>\n",
       "    <tr>\n",
       "      <th>2</th>\n",
       "      <td>0032313</td>\n",
       "      <td>0</td>\n",
       "      <td>0</td>\n",
       "    </tr>\n",
       "    <tr>\n",
       "      <th>3</th>\n",
       "      <td>0034186</td>\n",
       "      <td>0</td>\n",
       "      <td>0</td>\n",
       "    </tr>\n",
       "    <tr>\n",
       "      <th>4</th>\n",
       "      <td>0150970</td>\n",
       "      <td>0</td>\n",
       "      <td>0</td>\n",
       "    </tr>\n",
       "  </tbody>\n",
       "</table>\n",
       "</div>"
      ],
      "text/plain": [
       "  EXTRELNO  actual  predicted\n",
       "0  0027029       0          0\n",
       "1  0030559       1          1\n",
       "2  0032313       0          0\n",
       "3  0034186       0          0\n",
       "4  0150970       0          0"
      ]
     },
     "execution_count": 124,
     "metadata": {},
     "output_type": "execute_result"
    }
   ],
   "source": [
    "#Comparing the predictions with actual test data\n",
    "test_predicted_prob=test_predicted_prob.reset_index()\n",
    "test_predicted_prob.head()"
   ]
  },
  {
   "cell_type": "code",
   "execution_count": 125,
   "metadata": {},
   "outputs": [
    {
     "data": {
      "text/plain": [
       "array([[ 252,  121],\n",
       "       [  43, 5412]], dtype=int64)"
      ]
     },
     "execution_count": 125,
     "metadata": {},
     "output_type": "execute_result"
    }
   ],
   "source": [
    "# Confusion Matrix\n",
    "from sklearn import metrics\n",
    "cm=metrics.confusion_matrix(train_predicted_prob.actual,\n",
    "                           train_predicted_prob.predicted,[1,0])\n",
    "cm"
   ]
  },
  {
   "cell_type": "code",
   "execution_count": 126,
   "metadata": {},
   "outputs": [
    {
     "data": {
      "text/plain": [
       "array([[ 23,  11],\n",
       "       [  2, 268]], dtype=int64)"
      ]
     },
     "execution_count": 126,
     "metadata": {},
     "output_type": "execute_result"
    }
   ],
   "source": [
    "# Confusion Matrix\n",
    "cm1=metrics.confusion_matrix(validate_predicted_prob.actual,\n",
    "                           validate_predicted_prob.predicted,[1,0])\n",
    "cm1"
   ]
  },
  {
   "cell_type": "code",
   "execution_count": 127,
   "metadata": {},
   "outputs": [
    {
     "data": {
      "text/plain": [
       "array([[ 68,  31],\n",
       "       [  5, 945]], dtype=int64)"
      ]
     },
     "execution_count": 127,
     "metadata": {},
     "output_type": "execute_result"
    }
   ],
   "source": [
    "#Confusion Matrix\n",
    "cm2=metrics.confusion_matrix(test_predicted_prob.actual,\n",
    "                           test_predicted_prob.predicted,[1,0])\n",
    "cm2"
   ]
  },
  {
   "cell_type": "code",
   "execution_count": 128,
   "metadata": {},
   "outputs": [
    {
     "data": {
      "text/plain": [
       "0.9718599862731641"
      ]
     },
     "execution_count": 128,
     "metadata": {},
     "output_type": "execute_result"
    }
   ],
   "source": [
    "metrics.accuracy_score(train_predicted_prob.actual,train_predicted_prob.predicted)"
   ]
  },
  {
   "cell_type": "code",
   "execution_count": 129,
   "metadata": {},
   "outputs": [
    {
     "data": {
      "text/plain": [
       "0.9572368421052632"
      ]
     },
     "execution_count": 129,
     "metadata": {},
     "output_type": "execute_result"
    }
   ],
   "source": [
    "metrics.accuracy_score(validate_predicted_prob.actual,validate_predicted_prob.predicted)"
   ]
  },
  {
   "cell_type": "code",
   "execution_count": 130,
   "metadata": {},
   "outputs": [
    {
     "data": {
      "text/plain": [
       "0.9656816015252622"
      ]
     },
     "execution_count": 130,
     "metadata": {},
     "output_type": "execute_result"
    }
   ],
   "source": [
    "metrics.accuracy_score(test_predicted_prob.actual,test_predicted_prob.predicted)"
   ]
  },
  {
   "cell_type": "code",
   "execution_count": 131,
   "metadata": {},
   "outputs": [
    {
     "data": {
      "text/html": [
       "<div>\n",
       "<style scoped>\n",
       "    .dataframe tbody tr th:only-of-type {\n",
       "        vertical-align: middle;\n",
       "    }\n",
       "\n",
       "    .dataframe tbody tr th {\n",
       "        vertical-align: top;\n",
       "    }\n",
       "\n",
       "    .dataframe thead th {\n",
       "        text-align: right;\n",
       "    }\n",
       "</style>\n",
       "<table border=\"1\" class=\"dataframe\">\n",
       "  <thead>\n",
       "    <tr style=\"text-align: right;\">\n",
       "      <th></th>\n",
       "      <th>0</th>\n",
       "      <th>1</th>\n",
       "    </tr>\n",
       "  </thead>\n",
       "  <tbody>\n",
       "    <tr>\n",
       "      <th>0</th>\n",
       "      <td>0.998616</td>\n",
       "      <td>0.001384</td>\n",
       "    </tr>\n",
       "    <tr>\n",
       "      <th>1</th>\n",
       "      <td>0.006451</td>\n",
       "      <td>0.993549</td>\n",
       "    </tr>\n",
       "    <tr>\n",
       "      <th>2</th>\n",
       "      <td>0.991724</td>\n",
       "      <td>0.008276</td>\n",
       "    </tr>\n",
       "    <tr>\n",
       "      <th>3</th>\n",
       "      <td>0.998235</td>\n",
       "      <td>0.001765</td>\n",
       "    </tr>\n",
       "    <tr>\n",
       "      <th>4</th>\n",
       "      <td>0.998172</td>\n",
       "      <td>0.001828</td>\n",
       "    </tr>\n",
       "  </tbody>\n",
       "</table>\n",
       "</div>"
      ],
      "text/plain": [
       "          0         1\n",
       "0  0.998616  0.001384\n",
       "1  0.006451  0.993549\n",
       "2  0.991724  0.008276\n",
       "3  0.998235  0.001765\n",
       "4  0.998172  0.001828"
      ]
     },
     "execution_count": 131,
     "metadata": {},
     "output_type": "execute_result"
    }
   ],
   "source": [
    "#How good model is \n",
    "predict_prob_df=pd.DataFrame(logreg.predict_proba(train_X))\n",
    "predict_prob_df.head()"
   ]
  },
  {
   "cell_type": "code",
   "execution_count": 132,
   "metadata": {},
   "outputs": [
    {
     "data": {
      "text/html": [
       "<div>\n",
       "<style scoped>\n",
       "    .dataframe tbody tr th:only-of-type {\n",
       "        vertical-align: middle;\n",
       "    }\n",
       "\n",
       "    .dataframe tbody tr th {\n",
       "        vertical-align: top;\n",
       "    }\n",
       "\n",
       "    .dataframe thead th {\n",
       "        text-align: right;\n",
       "    }\n",
       "</style>\n",
       "<table border=\"1\" class=\"dataframe\">\n",
       "  <thead>\n",
       "    <tr style=\"text-align: right;\">\n",
       "      <th></th>\n",
       "      <th>0</th>\n",
       "      <th>1</th>\n",
       "    </tr>\n",
       "  </thead>\n",
       "  <tbody>\n",
       "    <tr>\n",
       "      <th>0</th>\n",
       "      <td>0.998156</td>\n",
       "      <td>0.001844</td>\n",
       "    </tr>\n",
       "    <tr>\n",
       "      <th>1</th>\n",
       "      <td>0.596337</td>\n",
       "      <td>0.403663</td>\n",
       "    </tr>\n",
       "    <tr>\n",
       "      <th>2</th>\n",
       "      <td>0.022336</td>\n",
       "      <td>0.977664</td>\n",
       "    </tr>\n",
       "    <tr>\n",
       "      <th>3</th>\n",
       "      <td>0.981499</td>\n",
       "      <td>0.018501</td>\n",
       "    </tr>\n",
       "    <tr>\n",
       "      <th>4</th>\n",
       "      <td>0.977928</td>\n",
       "      <td>0.022072</td>\n",
       "    </tr>\n",
       "  </tbody>\n",
       "</table>\n",
       "</div>"
      ],
      "text/plain": [
       "          0         1\n",
       "0  0.998156  0.001844\n",
       "1  0.596337  0.403663\n",
       "2  0.022336  0.977664\n",
       "3  0.981499  0.018501\n",
       "4  0.977928  0.022072"
      ]
     },
     "execution_count": 132,
     "metadata": {},
     "output_type": "execute_result"
    }
   ],
   "source": [
    "#How good model is \n",
    "predict_prob_df1=pd.DataFrame(logreg.predict_proba(validate_X))\n",
    "predict_prob_df1.head()"
   ]
  },
  {
   "cell_type": "code",
   "execution_count": 133,
   "metadata": {},
   "outputs": [
    {
     "data": {
      "text/html": [
       "<div>\n",
       "<style scoped>\n",
       "    .dataframe tbody tr th:only-of-type {\n",
       "        vertical-align: middle;\n",
       "    }\n",
       "\n",
       "    .dataframe tbody tr th {\n",
       "        vertical-align: top;\n",
       "    }\n",
       "\n",
       "    .dataframe thead th {\n",
       "        text-align: right;\n",
       "    }\n",
       "</style>\n",
       "<table border=\"1\" class=\"dataframe\">\n",
       "  <thead>\n",
       "    <tr style=\"text-align: right;\">\n",
       "      <th></th>\n",
       "      <th>0</th>\n",
       "      <th>1</th>\n",
       "    </tr>\n",
       "  </thead>\n",
       "  <tbody>\n",
       "    <tr>\n",
       "      <th>0</th>\n",
       "      <td>0.717967</td>\n",
       "      <td>0.282033</td>\n",
       "    </tr>\n",
       "    <tr>\n",
       "      <th>1</th>\n",
       "      <td>0.012284</td>\n",
       "      <td>0.987716</td>\n",
       "    </tr>\n",
       "    <tr>\n",
       "      <th>2</th>\n",
       "      <td>0.981889</td>\n",
       "      <td>0.018111</td>\n",
       "    </tr>\n",
       "    <tr>\n",
       "      <th>3</th>\n",
       "      <td>0.996872</td>\n",
       "      <td>0.003128</td>\n",
       "    </tr>\n",
       "    <tr>\n",
       "      <th>4</th>\n",
       "      <td>0.968571</td>\n",
       "      <td>0.031429</td>\n",
       "    </tr>\n",
       "  </tbody>\n",
       "</table>\n",
       "</div>"
      ],
      "text/plain": [
       "          0         1\n",
       "0  0.717967  0.282033\n",
       "1  0.012284  0.987716\n",
       "2  0.981889  0.018111\n",
       "3  0.996872  0.003128\n",
       "4  0.968571  0.031429"
      ]
     },
     "execution_count": 133,
     "metadata": {},
     "output_type": "execute_result"
    }
   ],
   "source": [
    "#How good model is \n",
    "predict_prob_df2=pd.DataFrame(logreg.predict_proba(test_X))\n",
    "predict_prob_df2.head()"
   ]
  },
  {
   "cell_type": "code",
   "execution_count": 134,
   "metadata": {},
   "outputs": [
    {
     "data": {
      "text/html": [
       "<div>\n",
       "<style scoped>\n",
       "    .dataframe tbody tr th:only-of-type {\n",
       "        vertical-align: middle;\n",
       "    }\n",
       "\n",
       "    .dataframe tbody tr th {\n",
       "        vertical-align: top;\n",
       "    }\n",
       "\n",
       "    .dataframe thead th {\n",
       "        text-align: right;\n",
       "    }\n",
       "</style>\n",
       "<table border=\"1\" class=\"dataframe\">\n",
       "  <thead>\n",
       "    <tr style=\"text-align: right;\">\n",
       "      <th></th>\n",
       "      <th>index</th>\n",
       "      <th>actual</th>\n",
       "      <th>predicted</th>\n",
       "      <th>churn_0</th>\n",
       "      <th>churn_1</th>\n",
       "    </tr>\n",
       "  </thead>\n",
       "  <tbody>\n",
       "    <tr>\n",
       "      <th>0</th>\n",
       "      <td>0026419</td>\n",
       "      <td>0</td>\n",
       "      <td>0</td>\n",
       "      <td>0.998616</td>\n",
       "      <td>0.001384</td>\n",
       "    </tr>\n",
       "    <tr>\n",
       "      <th>1</th>\n",
       "      <td>0026430</td>\n",
       "      <td>1</td>\n",
       "      <td>1</td>\n",
       "      <td>0.006451</td>\n",
       "      <td>0.993549</td>\n",
       "    </tr>\n",
       "    <tr>\n",
       "      <th>2</th>\n",
       "      <td>0026431</td>\n",
       "      <td>0</td>\n",
       "      <td>0</td>\n",
       "      <td>0.991724</td>\n",
       "      <td>0.008276</td>\n",
       "    </tr>\n",
       "    <tr>\n",
       "      <th>3</th>\n",
       "      <td>0026443</td>\n",
       "      <td>0</td>\n",
       "      <td>0</td>\n",
       "      <td>0.998235</td>\n",
       "      <td>0.001765</td>\n",
       "    </tr>\n",
       "    <tr>\n",
       "      <th>4</th>\n",
       "      <td>0026444</td>\n",
       "      <td>0</td>\n",
       "      <td>0</td>\n",
       "      <td>0.998172</td>\n",
       "      <td>0.001828</td>\n",
       "    </tr>\n",
       "  </tbody>\n",
       "</table>\n",
       "</div>"
      ],
      "text/plain": [
       "     index  actual  predicted   churn_0   churn_1\n",
       "0  0026419       0          0  0.998616  0.001384\n",
       "1  0026430       1          1  0.006451  0.993549\n",
       "2  0026431       0          0  0.991724  0.008276\n",
       "3  0026443       0          0  0.998235  0.001765\n",
       "4  0026444       0          0  0.998172  0.001828"
      ]
     },
     "execution_count": 134,
     "metadata": {},
     "output_type": "execute_result"
    }
   ],
   "source": [
    "train_pred=pd.concat([train_predicted_prob,predict_prob_df],axis=1)\n",
    "train_pred.columns=['index','actual','predicted','churn_0','churn_1']\n",
    "train_pred.head()"
   ]
  },
  {
   "cell_type": "code",
   "execution_count": 135,
   "metadata": {},
   "outputs": [
    {
     "data": {
      "text/html": [
       "<div>\n",
       "<style scoped>\n",
       "    .dataframe tbody tr th:only-of-type {\n",
       "        vertical-align: middle;\n",
       "    }\n",
       "\n",
       "    .dataframe tbody tr th {\n",
       "        vertical-align: top;\n",
       "    }\n",
       "\n",
       "    .dataframe thead th {\n",
       "        text-align: right;\n",
       "    }\n",
       "</style>\n",
       "<table border=\"1\" class=\"dataframe\">\n",
       "  <thead>\n",
       "    <tr style=\"text-align: right;\">\n",
       "      <th></th>\n",
       "      <th>index</th>\n",
       "      <th>actual</th>\n",
       "      <th>predicted</th>\n",
       "      <th>churn_0</th>\n",
       "      <th>churn_1</th>\n",
       "    </tr>\n",
       "  </thead>\n",
       "  <tbody>\n",
       "    <tr>\n",
       "      <th>0</th>\n",
       "      <td>0029468</td>\n",
       "      <td>0</td>\n",
       "      <td>0</td>\n",
       "      <td>0.998156</td>\n",
       "      <td>0.001844</td>\n",
       "    </tr>\n",
       "    <tr>\n",
       "      <th>1</th>\n",
       "      <td>0033178</td>\n",
       "      <td>1</td>\n",
       "      <td>0</td>\n",
       "      <td>0.596337</td>\n",
       "      <td>0.403663</td>\n",
       "    </tr>\n",
       "    <tr>\n",
       "      <th>2</th>\n",
       "      <td>0037328</td>\n",
       "      <td>1</td>\n",
       "      <td>1</td>\n",
       "      <td>0.022336</td>\n",
       "      <td>0.977664</td>\n",
       "    </tr>\n",
       "    <tr>\n",
       "      <th>3</th>\n",
       "      <td>0178831</td>\n",
       "      <td>0</td>\n",
       "      <td>0</td>\n",
       "      <td>0.981499</td>\n",
       "      <td>0.018501</td>\n",
       "    </tr>\n",
       "    <tr>\n",
       "      <th>4</th>\n",
       "      <td>0181108</td>\n",
       "      <td>0</td>\n",
       "      <td>0</td>\n",
       "      <td>0.977928</td>\n",
       "      <td>0.022072</td>\n",
       "    </tr>\n",
       "  </tbody>\n",
       "</table>\n",
       "</div>"
      ],
      "text/plain": [
       "     index  actual  predicted   churn_0   churn_1\n",
       "0  0029468       0          0  0.998156  0.001844\n",
       "1  0033178       1          0  0.596337  0.403663\n",
       "2  0037328       1          1  0.022336  0.977664\n",
       "3  0178831       0          0  0.981499  0.018501\n",
       "4  0181108       0          0  0.977928  0.022072"
      ]
     },
     "execution_count": 135,
     "metadata": {},
     "output_type": "execute_result"
    }
   ],
   "source": [
    "validate_pred=pd.concat([validate_predicted_prob,predict_prob_df1],axis=1)\n",
    "validate_pred.columns=['index','actual','predicted','churn_0','churn_1']\n",
    "validate_pred.head()"
   ]
  },
  {
   "cell_type": "code",
   "execution_count": 136,
   "metadata": {},
   "outputs": [
    {
     "data": {
      "text/html": [
       "<div>\n",
       "<style scoped>\n",
       "    .dataframe tbody tr th:only-of-type {\n",
       "        vertical-align: middle;\n",
       "    }\n",
       "\n",
       "    .dataframe tbody tr th {\n",
       "        vertical-align: top;\n",
       "    }\n",
       "\n",
       "    .dataframe thead th {\n",
       "        text-align: right;\n",
       "    }\n",
       "</style>\n",
       "<table border=\"1\" class=\"dataframe\">\n",
       "  <thead>\n",
       "    <tr style=\"text-align: right;\">\n",
       "      <th></th>\n",
       "      <th>index</th>\n",
       "      <th>actual</th>\n",
       "      <th>predicted</th>\n",
       "      <th>churn_0</th>\n",
       "      <th>churn_1</th>\n",
       "    </tr>\n",
       "  </thead>\n",
       "  <tbody>\n",
       "    <tr>\n",
       "      <th>0</th>\n",
       "      <td>0027029</td>\n",
       "      <td>0</td>\n",
       "      <td>0</td>\n",
       "      <td>0.717967</td>\n",
       "      <td>0.282033</td>\n",
       "    </tr>\n",
       "    <tr>\n",
       "      <th>1</th>\n",
       "      <td>0030559</td>\n",
       "      <td>1</td>\n",
       "      <td>1</td>\n",
       "      <td>0.012284</td>\n",
       "      <td>0.987716</td>\n",
       "    </tr>\n",
       "    <tr>\n",
       "      <th>2</th>\n",
       "      <td>0032313</td>\n",
       "      <td>0</td>\n",
       "      <td>0</td>\n",
       "      <td>0.981889</td>\n",
       "      <td>0.018111</td>\n",
       "    </tr>\n",
       "    <tr>\n",
       "      <th>3</th>\n",
       "      <td>0034186</td>\n",
       "      <td>0</td>\n",
       "      <td>0</td>\n",
       "      <td>0.996872</td>\n",
       "      <td>0.003128</td>\n",
       "    </tr>\n",
       "    <tr>\n",
       "      <th>4</th>\n",
       "      <td>0150970</td>\n",
       "      <td>0</td>\n",
       "      <td>0</td>\n",
       "      <td>0.968571</td>\n",
       "      <td>0.031429</td>\n",
       "    </tr>\n",
       "  </tbody>\n",
       "</table>\n",
       "</div>"
      ],
      "text/plain": [
       "     index  actual  predicted   churn_0   churn_1\n",
       "0  0027029       0          0  0.717967  0.282033\n",
       "1  0030559       1          1  0.012284  0.987716\n",
       "2  0032313       0          0  0.981889  0.018111\n",
       "3  0034186       0          0  0.996872  0.003128\n",
       "4  0150970       0          0  0.968571  0.031429"
      ]
     },
     "execution_count": 136,
     "metadata": {},
     "output_type": "execute_result"
    }
   ],
   "source": [
    "test_pred=pd.concat([test_predicted_prob,predict_prob_df2],axis=1)\n",
    "test_pred.columns=['index','actual','predicted','churn_0','churn_1']\n",
    "test_pred.head()"
   ]
  },
  {
   "cell_type": "code",
   "execution_count": 137,
   "metadata": {},
   "outputs": [
    {
     "data": {
      "text/plain": [
       "0.97"
      ]
     },
     "execution_count": 137,
     "metadata": {},
     "output_type": "execute_result"
    }
   ],
   "source": [
    "# How good our model to differentiate b/w 0 & 1\n",
    "auc_score = metrics.roc_auc_score(train_pred.actual,train_pred.churn_1)\n",
    "round(auc_score,2)"
   ]
  },
  {
   "cell_type": "code",
   "execution_count": 138,
   "metadata": {},
   "outputs": [
    {
     "data": {
      "text/plain": [
       "0.97"
      ]
     },
     "execution_count": 138,
     "metadata": {},
     "output_type": "execute_result"
    }
   ],
   "source": [
    "# How good our model to differentiate b/w 0 & 1\n",
    "auc_score = metrics.roc_auc_score(validate_pred.actual,validate_pred.churn_1)\n",
    "round(auc_score,2)"
   ]
  },
  {
   "cell_type": "code",
   "execution_count": 139,
   "metadata": {},
   "outputs": [
    {
     "data": {
      "text/plain": [
       "0.96"
      ]
     },
     "execution_count": 139,
     "metadata": {},
     "output_type": "execute_result"
    }
   ],
   "source": [
    "# How good our model to differentiate b/w 0 & 1\n",
    "auc_score = metrics.roc_auc_score(test_pred.actual,test_pred.churn_1)\n",
    "round(auc_score,2)"
   ]
  },
  {
   "cell_type": "code",
   "execution_count": 140,
   "metadata": {},
   "outputs": [],
   "source": [
    "# finding the optimal cutoff probability for Train Data\n",
    "fpr,tpr,thresholds=metrics.roc_curve(train_pred.actual,\n",
    "                                  train_pred.churn_1,drop_intermediate=True)"
   ]
  },
  {
   "cell_type": "code",
   "execution_count": 141,
   "metadata": {},
   "outputs": [],
   "source": [
    "# finding the optimal cutoff probability for validate Data\n",
    "fpr1,tpr1,thresholds1=metrics.roc_curve(validate_pred.actual,\n",
    "                                  validate_pred.churn_1,drop_intermediate=True)"
   ]
  },
  {
   "cell_type": "code",
   "execution_count": 142,
   "metadata": {},
   "outputs": [],
   "source": [
    "# finding the optimal cutoff probability for Test Data\n",
    "fpr2,tpr2,thresholds2=metrics.roc_curve(test_pred.actual,\n",
    "                                  test_pred.churn_1,drop_intermediate=True)"
   ]
  },
  {
   "cell_type": "code",
   "execution_count": 143,
   "metadata": {},
   "outputs": [
    {
     "data": {
      "text/html": [
       "<div>\n",
       "<style scoped>\n",
       "    .dataframe tbody tr th:only-of-type {\n",
       "        vertical-align: middle;\n",
       "    }\n",
       "\n",
       "    .dataframe tbody tr th {\n",
       "        vertical-align: top;\n",
       "    }\n",
       "\n",
       "    .dataframe thead th {\n",
       "        text-align: right;\n",
       "    }\n",
       "</style>\n",
       "<table border=\"1\" class=\"dataframe\">\n",
       "  <thead>\n",
       "    <tr style=\"text-align: right;\">\n",
       "      <th></th>\n",
       "      <th>spectifity</th>\n",
       "      <th>senstivity</th>\n",
       "      <th>falsepositiverate</th>\n",
       "      <th>cutoff</th>\n",
       "    </tr>\n",
       "  </thead>\n",
       "  <tbody>\n",
       "    <tr>\n",
       "      <th>0</th>\n",
       "      <td>0.000000</td>\n",
       "      <td>1.000000</td>\n",
       "      <td>0.000000</td>\n",
       "      <td>1.999719</td>\n",
       "    </tr>\n",
       "    <tr>\n",
       "      <th>1</th>\n",
       "      <td>0.000000</td>\n",
       "      <td>0.999817</td>\n",
       "      <td>0.000183</td>\n",
       "      <td>0.999719</td>\n",
       "    </tr>\n",
       "    <tr>\n",
       "      <th>2</th>\n",
       "      <td>0.000000</td>\n",
       "      <td>0.999450</td>\n",
       "      <td>0.000550</td>\n",
       "      <td>0.998603</td>\n",
       "    </tr>\n",
       "    <tr>\n",
       "      <th>3</th>\n",
       "      <td>0.005362</td>\n",
       "      <td>0.999450</td>\n",
       "      <td>0.000550</td>\n",
       "      <td>0.997128</td>\n",
       "    </tr>\n",
       "    <tr>\n",
       "      <th>4</th>\n",
       "      <td>0.005362</td>\n",
       "      <td>0.999267</td>\n",
       "      <td>0.000733</td>\n",
       "      <td>0.997052</td>\n",
       "    </tr>\n",
       "  </tbody>\n",
       "</table>\n",
       "</div>"
      ],
      "text/plain": [
       "   spectifity  senstivity  falsepositiverate    cutoff\n",
       "0    0.000000    1.000000           0.000000  1.999719\n",
       "1    0.000000    0.999817           0.000183  0.999719\n",
       "2    0.000000    0.999450           0.000550  0.998603\n",
       "3    0.005362    0.999450           0.000550  0.997128\n",
       "4    0.005362    0.999267           0.000733  0.997052"
      ]
     },
     "execution_count": 143,
     "metadata": {},
     "output_type": "execute_result"
    }
   ],
   "source": [
    "#for Train Data\n",
    "df=pd.DataFrame({'spectifity':tpr,'senstivity':1-fpr,'falsepositiverate':fpr,'cutoff':thresholds})\n",
    "df.head()"
   ]
  },
  {
   "cell_type": "code",
   "execution_count": 144,
   "metadata": {},
   "outputs": [
    {
     "data": {
      "text/html": [
       "<div>\n",
       "<style scoped>\n",
       "    .dataframe tbody tr th:only-of-type {\n",
       "        vertical-align: middle;\n",
       "    }\n",
       "\n",
       "    .dataframe tbody tr th {\n",
       "        vertical-align: top;\n",
       "    }\n",
       "\n",
       "    .dataframe thead th {\n",
       "        text-align: right;\n",
       "    }\n",
       "</style>\n",
       "<table border=\"1\" class=\"dataframe\">\n",
       "  <thead>\n",
       "    <tr style=\"text-align: right;\">\n",
       "      <th></th>\n",
       "      <th>spectifity</th>\n",
       "      <th>senstivity</th>\n",
       "      <th>falsepositiverate</th>\n",
       "      <th>cutoff</th>\n",
       "    </tr>\n",
       "  </thead>\n",
       "  <tbody>\n",
       "    <tr>\n",
       "      <th>0</th>\n",
       "      <td>0.029412</td>\n",
       "      <td>1.000000</td>\n",
       "      <td>0.000000</td>\n",
       "      <td>0.992837</td>\n",
       "    </tr>\n",
       "    <tr>\n",
       "      <th>1</th>\n",
       "      <td>0.352941</td>\n",
       "      <td>1.000000</td>\n",
       "      <td>0.000000</td>\n",
       "      <td>0.939441</td>\n",
       "    </tr>\n",
       "    <tr>\n",
       "      <th>2</th>\n",
       "      <td>0.382353</td>\n",
       "      <td>0.996296</td>\n",
       "      <td>0.003704</td>\n",
       "      <td>0.933403</td>\n",
       "    </tr>\n",
       "    <tr>\n",
       "      <th>3</th>\n",
       "      <td>0.441176</td>\n",
       "      <td>0.996296</td>\n",
       "      <td>0.003704</td>\n",
       "      <td>0.916118</td>\n",
       "    </tr>\n",
       "    <tr>\n",
       "      <th>4</th>\n",
       "      <td>0.441176</td>\n",
       "      <td>0.992593</td>\n",
       "      <td>0.007407</td>\n",
       "      <td>0.912080</td>\n",
       "    </tr>\n",
       "  </tbody>\n",
       "</table>\n",
       "</div>"
      ],
      "text/plain": [
       "   spectifity  senstivity  falsepositiverate    cutoff\n",
       "0    0.029412    1.000000           0.000000  0.992837\n",
       "1    0.352941    1.000000           0.000000  0.939441\n",
       "2    0.382353    0.996296           0.003704  0.933403\n",
       "3    0.441176    0.996296           0.003704  0.916118\n",
       "4    0.441176    0.992593           0.007407  0.912080"
      ]
     },
     "execution_count": 144,
     "metadata": {},
     "output_type": "execute_result"
    }
   ],
   "source": [
    "#for validate Data\n",
    "df1=pd.DataFrame({'spectifity':tpr1,'senstivity':1-fpr1,'falsepositiverate':fpr1,'cutoff':thresholds1})\n",
    "df1.head()"
   ]
  },
  {
   "cell_type": "code",
   "execution_count": 145,
   "metadata": {},
   "outputs": [
    {
     "data": {
      "text/html": [
       "<div>\n",
       "<style scoped>\n",
       "    .dataframe tbody tr th:only-of-type {\n",
       "        vertical-align: middle;\n",
       "    }\n",
       "\n",
       "    .dataframe tbody tr th {\n",
       "        vertical-align: top;\n",
       "    }\n",
       "\n",
       "    .dataframe thead th {\n",
       "        text-align: right;\n",
       "    }\n",
       "</style>\n",
       "<table border=\"1\" class=\"dataframe\">\n",
       "  <thead>\n",
       "    <tr style=\"text-align: right;\">\n",
       "      <th></th>\n",
       "      <th>spectifity</th>\n",
       "      <th>senstivity</th>\n",
       "      <th>falsepositiverate</th>\n",
       "      <th>cutoff</th>\n",
       "    </tr>\n",
       "  </thead>\n",
       "  <tbody>\n",
       "    <tr>\n",
       "      <th>0</th>\n",
       "      <td>0.000000</td>\n",
       "      <td>1.000000</td>\n",
       "      <td>0.000000</td>\n",
       "      <td>1.998589</td>\n",
       "    </tr>\n",
       "    <tr>\n",
       "      <th>1</th>\n",
       "      <td>0.000000</td>\n",
       "      <td>0.998947</td>\n",
       "      <td>0.001053</td>\n",
       "      <td>0.998589</td>\n",
       "    </tr>\n",
       "    <tr>\n",
       "      <th>2</th>\n",
       "      <td>0.333333</td>\n",
       "      <td>0.998947</td>\n",
       "      <td>0.001053</td>\n",
       "      <td>0.958234</td>\n",
       "    </tr>\n",
       "    <tr>\n",
       "      <th>3</th>\n",
       "      <td>0.333333</td>\n",
       "      <td>0.997895</td>\n",
       "      <td>0.002105</td>\n",
       "      <td>0.954202</td>\n",
       "    </tr>\n",
       "    <tr>\n",
       "      <th>4</th>\n",
       "      <td>0.535354</td>\n",
       "      <td>0.997895</td>\n",
       "      <td>0.002105</td>\n",
       "      <td>0.843246</td>\n",
       "    </tr>\n",
       "  </tbody>\n",
       "</table>\n",
       "</div>"
      ],
      "text/plain": [
       "   spectifity  senstivity  falsepositiverate    cutoff\n",
       "0    0.000000    1.000000           0.000000  1.998589\n",
       "1    0.000000    0.998947           0.001053  0.998589\n",
       "2    0.333333    0.998947           0.001053  0.958234\n",
       "3    0.333333    0.997895           0.002105  0.954202\n",
       "4    0.535354    0.997895           0.002105  0.843246"
      ]
     },
     "execution_count": 145,
     "metadata": {},
     "output_type": "execute_result"
    }
   ],
   "source": [
    "#for Test Data\n",
    "df2=pd.DataFrame({'spectifity':tpr2,'senstivity':1-fpr2,'falsepositiverate':fpr2,'cutoff':thresholds2})\n",
    "df2.head()"
   ]
  },
  {
   "cell_type": "code",
   "execution_count": 146,
   "metadata": {},
   "outputs": [],
   "source": [
    "df['total']=df['spectifity']+df['senstivity']\n",
    "df1['total']=df1['spectifity']+df1['senstivity']\n",
    "df2['total']=df2['spectifity']+df2['senstivity']"
   ]
  },
  {
   "cell_type": "code",
   "execution_count": 147,
   "metadata": {},
   "outputs": [
    {
     "data": {
      "text/html": [
       "<div>\n",
       "<style scoped>\n",
       "    .dataframe tbody tr th:only-of-type {\n",
       "        vertical-align: middle;\n",
       "    }\n",
       "\n",
       "    .dataframe tbody tr th {\n",
       "        vertical-align: top;\n",
       "    }\n",
       "\n",
       "    .dataframe thead th {\n",
       "        text-align: right;\n",
       "    }\n",
       "</style>\n",
       "<table border=\"1\" class=\"dataframe\">\n",
       "  <thead>\n",
       "    <tr style=\"text-align: right;\">\n",
       "      <th></th>\n",
       "      <th>spectifity</th>\n",
       "      <th>senstivity</th>\n",
       "      <th>falsepositiverate</th>\n",
       "      <th>cutoff</th>\n",
       "      <th>total</th>\n",
       "    </tr>\n",
       "  </thead>\n",
       "  <tbody>\n",
       "    <tr>\n",
       "      <th>183</th>\n",
       "      <td>0.938338</td>\n",
       "      <td>0.95637</td>\n",
       "      <td>0.04363</td>\n",
       "      <td>0.085334</td>\n",
       "      <td>1.894708</td>\n",
       "    </tr>\n",
       "  </tbody>\n",
       "</table>\n",
       "</div>"
      ],
      "text/plain": [
       "     spectifity  senstivity  falsepositiverate    cutoff     total\n",
       "183    0.938338     0.95637            0.04363  0.085334  1.894708"
      ]
     },
     "execution_count": 147,
     "metadata": {},
     "output_type": "execute_result"
    }
   ],
   "source": [
    "df[df['total']==df['total'].max()]"
   ]
  },
  {
   "cell_type": "code",
   "execution_count": 148,
   "metadata": {},
   "outputs": [
    {
     "data": {
      "text/html": [
       "<div>\n",
       "<style scoped>\n",
       "    .dataframe tbody tr th:only-of-type {\n",
       "        vertical-align: middle;\n",
       "    }\n",
       "\n",
       "    .dataframe tbody tr th {\n",
       "        vertical-align: top;\n",
       "    }\n",
       "\n",
       "    .dataframe thead th {\n",
       "        text-align: right;\n",
       "    }\n",
       "</style>\n",
       "<table border=\"1\" class=\"dataframe\">\n",
       "  <thead>\n",
       "    <tr style=\"text-align: right;\">\n",
       "      <th></th>\n",
       "      <th>spectifity</th>\n",
       "      <th>senstivity</th>\n",
       "      <th>falsepositiverate</th>\n",
       "      <th>cutoff</th>\n",
       "      <th>total</th>\n",
       "    </tr>\n",
       "  </thead>\n",
       "  <tbody>\n",
       "    <tr>\n",
       "      <th>12</th>\n",
       "      <td>0.970588</td>\n",
       "      <td>0.955556</td>\n",
       "      <td>0.044444</td>\n",
       "      <td>0.043642</td>\n",
       "      <td>1.926144</td>\n",
       "    </tr>\n",
       "  </tbody>\n",
       "</table>\n",
       "</div>"
      ],
      "text/plain": [
       "    spectifity  senstivity  falsepositiverate    cutoff     total\n",
       "12    0.970588    0.955556           0.044444  0.043642  1.926144"
      ]
     },
     "execution_count": 148,
     "metadata": {},
     "output_type": "execute_result"
    }
   ],
   "source": [
    "df1[df1['total']==df1['total'].max()]"
   ]
  },
  {
   "cell_type": "code",
   "execution_count": 149,
   "metadata": {},
   "outputs": [
    {
     "data": {
      "text/html": [
       "<div>\n",
       "<style scoped>\n",
       "    .dataframe tbody tr th:only-of-type {\n",
       "        vertical-align: middle;\n",
       "    }\n",
       "\n",
       "    .dataframe tbody tr th {\n",
       "        vertical-align: top;\n",
       "    }\n",
       "\n",
       "    .dataframe thead th {\n",
       "        text-align: right;\n",
       "    }\n",
       "</style>\n",
       "<table border=\"1\" class=\"dataframe\">\n",
       "  <thead>\n",
       "    <tr style=\"text-align: right;\">\n",
       "      <th></th>\n",
       "      <th>spectifity</th>\n",
       "      <th>senstivity</th>\n",
       "      <th>falsepositiverate</th>\n",
       "      <th>cutoff</th>\n",
       "      <th>total</th>\n",
       "    </tr>\n",
       "  </thead>\n",
       "  <tbody>\n",
       "    <tr>\n",
       "      <th>29</th>\n",
       "      <td>0.89899</td>\n",
       "      <td>0.922105</td>\n",
       "      <td>0.077895</td>\n",
       "      <td>0.037167</td>\n",
       "      <td>1.821095</td>\n",
       "    </tr>\n",
       "  </tbody>\n",
       "</table>\n",
       "</div>"
      ],
      "text/plain": [
       "    spectifity  senstivity  falsepositiverate    cutoff     total\n",
       "29     0.89899    0.922105           0.077895  0.037167  1.821095"
      ]
     },
     "execution_count": 149,
     "metadata": {},
     "output_type": "execute_result"
    }
   ],
   "source": [
    "df2[df2['total']==df2['total'].max()]"
   ]
  },
  {
   "cell_type": "code",
   "execution_count": 150,
   "metadata": {},
   "outputs": [],
   "source": [
    "#Predicting with new cut-off probability for train data\n",
    "train_pred['new_labels'] = train_pred['churn_1'].map( lambda x: 1 if x >= 0.112361 else 0 )"
   ]
  },
  {
   "cell_type": "code",
   "execution_count": 151,
   "metadata": {},
   "outputs": [],
   "source": [
    "#Predicting with new cut-off probability for validate data\n",
    "validate_pred['new_labels'] = validate_pred['churn_1'].map( lambda x: 1 if x >= 0.112361 else 0 )"
   ]
  },
  {
   "cell_type": "code",
   "execution_count": 152,
   "metadata": {},
   "outputs": [],
   "source": [
    "#Predicting with new cut-off probability for train data\n",
    "test_pred['new_labels'] = test_pred['churn_1'].map( lambda x: 1 if x >= 0.352587 else 0 )"
   ]
  },
  {
   "cell_type": "code",
   "execution_count": 153,
   "metadata": {},
   "outputs": [
    {
     "data": {
      "text/html": [
       "<div>\n",
       "<style scoped>\n",
       "    .dataframe tbody tr th:only-of-type {\n",
       "        vertical-align: middle;\n",
       "    }\n",
       "\n",
       "    .dataframe tbody tr th {\n",
       "        vertical-align: top;\n",
       "    }\n",
       "\n",
       "    .dataframe thead th {\n",
       "        text-align: right;\n",
       "    }\n",
       "</style>\n",
       "<table border=\"1\" class=\"dataframe\">\n",
       "  <thead>\n",
       "    <tr style=\"text-align: right;\">\n",
       "      <th></th>\n",
       "      <th>index</th>\n",
       "      <th>actual</th>\n",
       "      <th>predicted</th>\n",
       "      <th>churn_0</th>\n",
       "      <th>churn_1</th>\n",
       "      <th>new_labels</th>\n",
       "    </tr>\n",
       "  </thead>\n",
       "  <tbody>\n",
       "    <tr>\n",
       "      <th>0</th>\n",
       "      <td>0026419</td>\n",
       "      <td>0</td>\n",
       "      <td>0</td>\n",
       "      <td>0.998616</td>\n",
       "      <td>0.001384</td>\n",
       "      <td>0</td>\n",
       "    </tr>\n",
       "    <tr>\n",
       "      <th>1</th>\n",
       "      <td>0026430</td>\n",
       "      <td>1</td>\n",
       "      <td>1</td>\n",
       "      <td>0.006451</td>\n",
       "      <td>0.993549</td>\n",
       "      <td>1</td>\n",
       "    </tr>\n",
       "    <tr>\n",
       "      <th>2</th>\n",
       "      <td>0026431</td>\n",
       "      <td>0</td>\n",
       "      <td>0</td>\n",
       "      <td>0.991724</td>\n",
       "      <td>0.008276</td>\n",
       "      <td>0</td>\n",
       "    </tr>\n",
       "    <tr>\n",
       "      <th>3</th>\n",
       "      <td>0026443</td>\n",
       "      <td>0</td>\n",
       "      <td>0</td>\n",
       "      <td>0.998235</td>\n",
       "      <td>0.001765</td>\n",
       "      <td>0</td>\n",
       "    </tr>\n",
       "    <tr>\n",
       "      <th>4</th>\n",
       "      <td>0026444</td>\n",
       "      <td>0</td>\n",
       "      <td>0</td>\n",
       "      <td>0.998172</td>\n",
       "      <td>0.001828</td>\n",
       "      <td>0</td>\n",
       "    </tr>\n",
       "  </tbody>\n",
       "</table>\n",
       "</div>"
      ],
      "text/plain": [
       "     index  actual  predicted   churn_0   churn_1  new_labels\n",
       "0  0026419       0          0  0.998616  0.001384           0\n",
       "1  0026430       1          1  0.006451  0.993549           1\n",
       "2  0026431       0          0  0.991724  0.008276           0\n",
       "3  0026443       0          0  0.998235  0.001765           0\n",
       "4  0026444       0          0  0.998172  0.001828           0"
      ]
     },
     "execution_count": 153,
     "metadata": {},
     "output_type": "execute_result"
    }
   ],
   "source": [
    "train_pred.head()"
   ]
  },
  {
   "cell_type": "code",
   "execution_count": 154,
   "metadata": {},
   "outputs": [
    {
     "data": {
      "text/html": [
       "<div>\n",
       "<style scoped>\n",
       "    .dataframe tbody tr th:only-of-type {\n",
       "        vertical-align: middle;\n",
       "    }\n",
       "\n",
       "    .dataframe tbody tr th {\n",
       "        vertical-align: top;\n",
       "    }\n",
       "\n",
       "    .dataframe thead th {\n",
       "        text-align: right;\n",
       "    }\n",
       "</style>\n",
       "<table border=\"1\" class=\"dataframe\">\n",
       "  <thead>\n",
       "    <tr style=\"text-align: right;\">\n",
       "      <th></th>\n",
       "      <th>index</th>\n",
       "      <th>actual</th>\n",
       "      <th>predicted</th>\n",
       "      <th>churn_0</th>\n",
       "      <th>churn_1</th>\n",
       "      <th>new_labels</th>\n",
       "    </tr>\n",
       "  </thead>\n",
       "  <tbody>\n",
       "    <tr>\n",
       "      <th>0</th>\n",
       "      <td>0029468</td>\n",
       "      <td>0</td>\n",
       "      <td>0</td>\n",
       "      <td>0.998156</td>\n",
       "      <td>0.001844</td>\n",
       "      <td>0</td>\n",
       "    </tr>\n",
       "    <tr>\n",
       "      <th>1</th>\n",
       "      <td>0033178</td>\n",
       "      <td>1</td>\n",
       "      <td>0</td>\n",
       "      <td>0.596337</td>\n",
       "      <td>0.403663</td>\n",
       "      <td>1</td>\n",
       "    </tr>\n",
       "    <tr>\n",
       "      <th>2</th>\n",
       "      <td>0037328</td>\n",
       "      <td>1</td>\n",
       "      <td>1</td>\n",
       "      <td>0.022336</td>\n",
       "      <td>0.977664</td>\n",
       "      <td>1</td>\n",
       "    </tr>\n",
       "    <tr>\n",
       "      <th>3</th>\n",
       "      <td>0178831</td>\n",
       "      <td>0</td>\n",
       "      <td>0</td>\n",
       "      <td>0.981499</td>\n",
       "      <td>0.018501</td>\n",
       "      <td>0</td>\n",
       "    </tr>\n",
       "    <tr>\n",
       "      <th>4</th>\n",
       "      <td>0181108</td>\n",
       "      <td>0</td>\n",
       "      <td>0</td>\n",
       "      <td>0.977928</td>\n",
       "      <td>0.022072</td>\n",
       "      <td>0</td>\n",
       "    </tr>\n",
       "  </tbody>\n",
       "</table>\n",
       "</div>"
      ],
      "text/plain": [
       "     index  actual  predicted   churn_0   churn_1  new_labels\n",
       "0  0029468       0          0  0.998156  0.001844           0\n",
       "1  0033178       1          0  0.596337  0.403663           1\n",
       "2  0037328       1          1  0.022336  0.977664           1\n",
       "3  0178831       0          0  0.981499  0.018501           0\n",
       "4  0181108       0          0  0.977928  0.022072           0"
      ]
     },
     "execution_count": 154,
     "metadata": {},
     "output_type": "execute_result"
    }
   ],
   "source": [
    "validate_pred.head()"
   ]
  },
  {
   "cell_type": "code",
   "execution_count": 155,
   "metadata": {},
   "outputs": [
    {
     "data": {
      "text/html": [
       "<div>\n",
       "<style scoped>\n",
       "    .dataframe tbody tr th:only-of-type {\n",
       "        vertical-align: middle;\n",
       "    }\n",
       "\n",
       "    .dataframe tbody tr th {\n",
       "        vertical-align: top;\n",
       "    }\n",
       "\n",
       "    .dataframe thead th {\n",
       "        text-align: right;\n",
       "    }\n",
       "</style>\n",
       "<table border=\"1\" class=\"dataframe\">\n",
       "  <thead>\n",
       "    <tr style=\"text-align: right;\">\n",
       "      <th></th>\n",
       "      <th>index</th>\n",
       "      <th>actual</th>\n",
       "      <th>predicted</th>\n",
       "      <th>churn_0</th>\n",
       "      <th>churn_1</th>\n",
       "      <th>new_labels</th>\n",
       "    </tr>\n",
       "  </thead>\n",
       "  <tbody>\n",
       "    <tr>\n",
       "      <th>0</th>\n",
       "      <td>0027029</td>\n",
       "      <td>0</td>\n",
       "      <td>0</td>\n",
       "      <td>0.717967</td>\n",
       "      <td>0.282033</td>\n",
       "      <td>0</td>\n",
       "    </tr>\n",
       "    <tr>\n",
       "      <th>1</th>\n",
       "      <td>0030559</td>\n",
       "      <td>1</td>\n",
       "      <td>1</td>\n",
       "      <td>0.012284</td>\n",
       "      <td>0.987716</td>\n",
       "      <td>1</td>\n",
       "    </tr>\n",
       "    <tr>\n",
       "      <th>2</th>\n",
       "      <td>0032313</td>\n",
       "      <td>0</td>\n",
       "      <td>0</td>\n",
       "      <td>0.981889</td>\n",
       "      <td>0.018111</td>\n",
       "      <td>0</td>\n",
       "    </tr>\n",
       "    <tr>\n",
       "      <th>3</th>\n",
       "      <td>0034186</td>\n",
       "      <td>0</td>\n",
       "      <td>0</td>\n",
       "      <td>0.996872</td>\n",
       "      <td>0.003128</td>\n",
       "      <td>0</td>\n",
       "    </tr>\n",
       "    <tr>\n",
       "      <th>4</th>\n",
       "      <td>0150970</td>\n",
       "      <td>0</td>\n",
       "      <td>0</td>\n",
       "      <td>0.968571</td>\n",
       "      <td>0.031429</td>\n",
       "      <td>0</td>\n",
       "    </tr>\n",
       "  </tbody>\n",
       "</table>\n",
       "</div>"
      ],
      "text/plain": [
       "     index  actual  predicted   churn_0   churn_1  new_labels\n",
       "0  0027029       0          0  0.717967  0.282033           0\n",
       "1  0030559       1          1  0.012284  0.987716           1\n",
       "2  0032313       0          0  0.981889  0.018111           0\n",
       "3  0034186       0          0  0.996872  0.003128           0\n",
       "4  0150970       0          0  0.968571  0.031429           0"
      ]
     },
     "execution_count": 155,
     "metadata": {},
     "output_type": "execute_result"
    }
   ],
   "source": [
    "test_pred.head()"
   ]
  },
  {
   "cell_type": "code",
   "execution_count": 156,
   "metadata": {},
   "outputs": [
    {
     "data": {
      "text/plain": [
       "array([[ 341,   32],\n",
       "       [ 187, 5268]], dtype=int64)"
      ]
     },
     "execution_count": 156,
     "metadata": {},
     "output_type": "execute_result"
    }
   ],
   "source": [
    "# creating confusion matirx for train data\n",
    "cm_new=metrics.confusion_matrix(train_pred.actual,\n",
    "                           train_pred.new_labels,[1,0])\n",
    "cm_new"
   ]
  },
  {
   "cell_type": "code",
   "execution_count": 157,
   "metadata": {},
   "outputs": [
    {
     "data": {
      "text/plain": [
       "array([[ 30,   4],\n",
       "       [  5, 265]], dtype=int64)"
      ]
     },
     "execution_count": 157,
     "metadata": {},
     "output_type": "execute_result"
    }
   ],
   "source": [
    "# creating confusion matirx for validate data\n",
    "cm_new1=metrics.confusion_matrix(validate_pred.actual,\n",
    "                           validate_pred.new_labels,[1,0])\n",
    "cm_new1"
   ]
  },
  {
   "cell_type": "code",
   "execution_count": 158,
   "metadata": {},
   "outputs": [
    {
     "data": {
      "text/plain": [
       "array([[ 79,  20],\n",
       "       [  9, 941]], dtype=int64)"
      ]
     },
     "execution_count": 158,
     "metadata": {},
     "output_type": "execute_result"
    }
   ],
   "source": [
    "# creating confusion matirx for test data\n",
    "cm_new2=metrics.confusion_matrix(test_pred.actual,\n",
    "                           test_pred.new_labels,[1,0])\n",
    "cm_new2"
   ]
  },
  {
   "cell_type": "code",
   "execution_count": 159,
   "metadata": {},
   "outputs": [
    {
     "name": "stdout",
     "output_type": "stream",
     "text": [
      "             precision    recall  f1-score   support\n",
      "\n",
      "          0       0.99      0.97      0.98      5455\n",
      "          1       0.65      0.91      0.76       373\n",
      "\n",
      "avg / total       0.97      0.96      0.97      5828\n",
      "\n"
     ]
    }
   ],
   "source": [
    "# classification Report for train data\n",
    "print(metrics.classification_report(train_pred.actual,train_pred.new_labels))"
   ]
  },
  {
   "cell_type": "code",
   "execution_count": 160,
   "metadata": {},
   "outputs": [
    {
     "name": "stdout",
     "output_type": "stream",
     "text": [
      "             precision    recall  f1-score   support\n",
      "\n",
      "          0       0.99      0.98      0.98       270\n",
      "          1       0.86      0.88      0.87        34\n",
      "\n",
      "avg / total       0.97      0.97      0.97       304\n",
      "\n"
     ]
    }
   ],
   "source": [
    "# classification Report for train data\n",
    "print(metrics.classification_report(validate_pred.actual,validate_pred.new_labels))"
   ]
  },
  {
   "cell_type": "code",
   "execution_count": 161,
   "metadata": {},
   "outputs": [
    {
     "name": "stdout",
     "output_type": "stream",
     "text": [
      "             precision    recall  f1-score   support\n",
      "\n",
      "          0       0.98      0.99      0.98       950\n",
      "          1       0.90      0.80      0.84        99\n",
      "\n",
      "avg / total       0.97      0.97      0.97      1049\n",
      "\n"
     ]
    }
   ],
   "source": [
    "# classification Report for train data\n",
    "print(metrics.classification_report(test_pred.actual,test_pred.new_labels))"
   ]
  },
  {
   "cell_type": "code",
   "execution_count": 162,
   "metadata": {},
   "outputs": [
    {
     "data": {
      "text/plain": [
       "0.91"
      ]
     },
     "execution_count": 162,
     "metadata": {},
     "output_type": "execute_result"
    }
   ],
   "source": [
    "# classifier has ability to find all positive sample for train data\n",
    "recall_score = metrics.recall_score(train_pred.actual, train_pred.new_labels)\n",
    "round(recall_score,2)"
   ]
  },
  {
   "cell_type": "code",
   "execution_count": 163,
   "metadata": {},
   "outputs": [
    {
     "data": {
      "text/plain": [
       "0.88"
      ]
     },
     "execution_count": 163,
     "metadata": {},
     "output_type": "execute_result"
    }
   ],
   "source": [
    "# classifier has ability to find all positive sample for validate data\n",
    "recall_score1 = metrics.recall_score(validate_pred.actual, validate_pred.new_labels)\n",
    "round(recall_score1,2)"
   ]
  },
  {
   "cell_type": "code",
   "execution_count": 164,
   "metadata": {},
   "outputs": [
    {
     "data": {
      "text/plain": [
       "0.8"
      ]
     },
     "execution_count": 164,
     "metadata": {},
     "output_type": "execute_result"
    }
   ],
   "source": [
    "# classifier has ability to find all positive sample for test data\n",
    "recall_score2 = metrics.recall_score(test_pred.actual, test_pred.new_labels)\n",
    "round(recall_score2,2)"
   ]
  },
  {
   "cell_type": "code",
   "execution_count": 165,
   "metadata": {},
   "outputs": [
    {
     "name": "stdout",
     "output_type": "stream",
     "text": [
      "The accuracy score of Train Data is :  0.9624227865477007\n",
      "The accuracy score of Validate Data is :  0.9703947368421053\n",
      "The accuracy score of Test Data is :  0.9723546234509056\n"
     ]
    }
   ],
   "source": [
    "# find over all accuracy\n",
    "print('The accuracy score of Train Data is : ',metrics.accuracy_score(train_pred.actual,train_pred.new_labels))\n",
    "print('The accuracy score of Validate Data is : ',metrics.accuracy_score(validate_pred.actual,validate_pred.new_labels))\n",
    "print('The accuracy score of Test Data is : ',metrics.accuracy_score(test_pred.actual,test_pred.new_labels))"
   ]
  },
  {
   "cell_type": "code",
   "execution_count": 166,
   "metadata": {},
   "outputs": [
    {
     "data": {
      "text/plain": [
       "0.94"
      ]
     },
     "execution_count": 166,
     "metadata": {},
     "output_type": "execute_result"
    }
   ],
   "source": [
    "# How good our model to differentiate b/w 0 & 1\n",
    "auc_score = metrics.roc_auc_score(train_pred.actual,train_pred.new_labels)\n",
    "round(auc_score,2)"
   ]
  },
  {
   "cell_type": "code",
   "execution_count": 167,
   "metadata": {},
   "outputs": [
    {
     "data": {
      "text/plain": [
       "0.93"
      ]
     },
     "execution_count": 167,
     "metadata": {},
     "output_type": "execute_result"
    }
   ],
   "source": [
    "# How good our model to differentiate b/w 0 & 1\n",
    "auc_score1 = metrics.roc_auc_score(validate_pred.actual,validate_pred.new_labels)\n",
    "round(auc_score1,2)"
   ]
  },
  {
   "cell_type": "code",
   "execution_count": 168,
   "metadata": {},
   "outputs": [
    {
     "data": {
      "text/plain": [
       "0.89"
      ]
     },
     "execution_count": 168,
     "metadata": {},
     "output_type": "execute_result"
    }
   ],
   "source": [
    "# How good our model to differentiate b/w 0 & 1\n",
    "auc_score2 = metrics.roc_auc_score(test_pred.actual,test_pred.new_labels)\n",
    "round(auc_score2,2)"
   ]
  },
  {
   "cell_type": "code",
   "execution_count": 169,
   "metadata": {},
   "outputs": [
    {
     "data": {
      "text/plain": [
       "0    90.940288\n",
       "1     9.059712\n",
       "Name: new_labels, dtype: float64"
      ]
     },
     "execution_count": 169,
     "metadata": {},
     "output_type": "execute_result"
    }
   ],
   "source": [
    "(train_pred['new_labels'].value_counts()/train_pred.shape[0])*100"
   ]
  },
  {
   "cell_type": "code",
   "execution_count": 170,
   "metadata": {},
   "outputs": [
    {
     "data": {
      "text/plain": [
       "0    93.599863\n",
       "1     6.400137\n",
       "Name: actual, dtype: float64"
      ]
     },
     "execution_count": 170,
     "metadata": {},
     "output_type": "execute_result"
    }
   ],
   "source": [
    "(train_pred['actual'].value_counts()/train_pred.shape[0])*100"
   ]
  },
  {
   "cell_type": "code",
   "execution_count": 171,
   "metadata": {},
   "outputs": [
    {
     "data": {
      "text/plain": [
       "0    88.486842\n",
       "1    11.513158\n",
       "Name: new_labels, dtype: float64"
      ]
     },
     "execution_count": 171,
     "metadata": {},
     "output_type": "execute_result"
    }
   ],
   "source": [
    "(validate_pred['new_labels'].value_counts()/validate_pred.shape[0])*100"
   ]
  },
  {
   "cell_type": "code",
   "execution_count": 172,
   "metadata": {},
   "outputs": [
    {
     "data": {
      "text/plain": [
       "0    88.815789\n",
       "1    11.184211\n",
       "Name: actual, dtype: float64"
      ]
     },
     "execution_count": 172,
     "metadata": {},
     "output_type": "execute_result"
    }
   ],
   "source": [
    "(validate_pred['actual'].value_counts()/validate_pred.shape[0])*100"
   ]
  },
  {
   "cell_type": "code",
   "execution_count": 173,
   "metadata": {},
   "outputs": [
    {
     "data": {
      "text/plain": [
       "0    91.611058\n",
       "1     8.388942\n",
       "Name: new_labels, dtype: float64"
      ]
     },
     "execution_count": 173,
     "metadata": {},
     "output_type": "execute_result"
    }
   ],
   "source": [
    "(test_pred['new_labels'].value_counts()/test_pred.shape[0])*100"
   ]
  },
  {
   "cell_type": "code",
   "execution_count": 174,
   "metadata": {},
   "outputs": [
    {
     "data": {
      "text/plain": [
       "0    90.56244\n",
       "1     9.43756\n",
       "Name: actual, dtype: float64"
      ]
     },
     "execution_count": 174,
     "metadata": {},
     "output_type": "execute_result"
    }
   ],
   "source": [
    "(test_pred['actual'].value_counts()/test_pred.shape[0])*100"
   ]
  },
  {
   "cell_type": "code",
   "execution_count": 175,
   "metadata": {},
   "outputs": [
    {
     "name": "stdout",
     "output_type": "stream",
     "text": [
      "The f1 score of Train Data is :  0.7569367369589345\n",
      "The f1 score of Validate Data is :  0.8695652173913043\n",
      "The f1 score of Test Data is :  0.8449197860962567\n"
     ]
    }
   ],
   "source": [
    "#f1-score\n",
    "# find over all accuracy\n",
    "print('The f1 score of Train Data is : ',metrics.f1_score(train_pred.actual,train_pred.new_labels))\n",
    "print('The f1 score of Validate Data is : ',metrics.f1_score(validate_pred.actual,validate_pred.new_labels))\n",
    "print('The f1 score of Test Data is : ',metrics.f1_score(test_pred.actual,test_pred.new_labels))"
   ]
  },
  {
   "cell_type": "markdown",
   "metadata": {},
   "source": [
    "# Decision Tree Classifier"
   ]
  },
  {
   "cell_type": "code",
   "execution_count": 177,
   "metadata": {},
   "outputs": [],
   "source": [
    "import sklearn.tree as dt"
   ]
  },
  {
   "cell_type": "code",
   "execution_count": 178,
   "metadata": {},
   "outputs": [
    {
     "name": "stderr",
     "output_type": "stream",
     "text": [
      "C:\\Users\\A\\Anaconda3\\lib\\site-packages\\sklearn\\cross_validation.py:41: DeprecationWarning: This module was deprecated in version 0.18 in favor of the model_selection module into which all the refactored classes and functions are moved. Also note that the interface of the new CV iterators are different from that of this module. This module will be removed in 0.20.\n",
      "  \"This module will be removed in 0.20.\", DeprecationWarning)\n",
      "C:\\Users\\A\\Anaconda3\\lib\\site-packages\\sklearn\\grid_search.py:42: DeprecationWarning: This module was deprecated in version 0.18 in favor of the model_selection module into which all the refactored classes and functions are moved. This module will be removed in 0.20.\n",
      "  DeprecationWarning)\n"
     ]
    }
   ],
   "source": [
    "from sklearn.tree import DecisionTreeClassifier\n",
    "from sklearn.grid_search import GridSearchCV"
   ]
  },
  {
   "cell_type": "code",
   "execution_count": 179,
   "metadata": {},
   "outputs": [],
   "source": [
    "from sklearn.model_selection import cross_validate"
   ]
  },
  {
   "cell_type": "code",
   "execution_count": 180,
   "metadata": {},
   "outputs": [
    {
     "data": {
      "text/plain": [
       "DecisionTreeClassifier(class_weight=None, criterion='gini', max_depth=None,\n",
       "            max_features=None, max_leaf_nodes=None,\n",
       "            min_impurity_decrease=0.0, min_impurity_split=None,\n",
       "            min_samples_leaf=1, min_samples_split=2,\n",
       "            min_weight_fraction_leaf=0.0, presort=False, random_state=None,\n",
       "            splitter='best')"
      ]
     },
     "execution_count": 180,
     "metadata": {},
     "output_type": "execute_result"
    }
   ],
   "source": [
    "clf_tree=DecisionTreeClassifier()\n",
    "clf_tree.fit(train_X,train_y)"
   ]
  },
  {
   "cell_type": "markdown",
   "metadata": {},
   "source": [
    "**cross-validation & hyperparameter tuning**"
   ]
  },
  {
   "cell_type": "code",
   "execution_count": 181,
   "metadata": {},
   "outputs": [
    {
     "data": {
      "text/plain": [
       "dict_keys(['class_weight', 'criterion', 'max_depth', 'max_features', 'max_leaf_nodes', 'min_impurity_decrease', 'min_impurity_split', 'min_samples_leaf', 'min_samples_split', 'min_weight_fraction_leaf', 'presort', 'random_state', 'splitter'])"
      ]
     },
     "execution_count": 181,
     "metadata": {},
     "output_type": "execute_result"
    }
   ],
   "source": [
    "#list of tunable hyperparameters for decision tree \n",
    "clf_tree.get_params().keys()"
   ]
  },
  {
   "cell_type": "code",
   "execution_count": 182,
   "metadata": {},
   "outputs": [],
   "source": [
    "param_grid={'max_depth':np.arange(1,5),\n",
    "                             'max_features':np.arange(1,5),\n",
    "                             'min_samples_split':np.arange(2,8),\n",
    "                             'min_samples_leaf':np.arange(1,6)}"
   ]
  },
  {
   "cell_type": "markdown",
   "metadata": {},
   "source": [
    "**Fit & tune the model with cross-validation**"
   ]
  },
  {
   "cell_type": "code",
   "execution_count": 183,
   "metadata": {},
   "outputs": [],
   "source": [
    "tree=GridSearchCV(DecisionTreeClassifier(),param_grid,cv=5)"
   ]
  },
  {
   "cell_type": "code",
   "execution_count": 184,
   "metadata": {},
   "outputs": [
    {
     "data": {
      "text/plain": [
       "(5828, 8)"
      ]
     },
     "execution_count": 184,
     "metadata": {},
     "output_type": "execute_result"
    }
   ],
   "source": [
    "train_X.shape"
   ]
  },
  {
   "cell_type": "code",
   "execution_count": 185,
   "metadata": {},
   "outputs": [
    {
     "data": {
      "text/plain": [
       "GridSearchCV(cv=5, error_score='raise',\n",
       "       estimator=DecisionTreeClassifier(class_weight=None, criterion='gini', max_depth=None,\n",
       "            max_features=None, max_leaf_nodes=None,\n",
       "            min_impurity_decrease=0.0, min_impurity_split=None,\n",
       "            min_samples_leaf=1, min_samples_split=2,\n",
       "            min_weight_fraction_leaf=0.0, presort=False, random_state=None,\n",
       "            splitter='best'),\n",
       "       fit_params={}, iid=True, n_jobs=1,\n",
       "       param_grid={'max_depth': array([1, 2, 3, 4]), 'max_features': array([1, 2, 3, 4]), 'min_samples_split': array([2, 3, 4, 5, 6, 7]), 'min_samples_leaf': array([1, 2, 3, 4, 5])},\n",
       "       pre_dispatch='2*n_jobs', refit=True, scoring=None, verbose=0)"
      ]
     },
     "execution_count": 185,
     "metadata": {},
     "output_type": "execute_result"
    }
   ],
   "source": [
    "# fit the model\n",
    "tree.fit(train_X,train_y)"
   ]
  },
  {
   "cell_type": "code",
   "execution_count": 186,
   "metadata": {},
   "outputs": [
    {
     "data": {
      "text/plain": [
       "{'max_depth': 4,\n",
       " 'max_features': 3,\n",
       " 'min_samples_leaf': 5,\n",
       " 'min_samples_split': 4}"
      ]
     },
     "execution_count": 186,
     "metadata": {},
     "output_type": "execute_result"
    }
   ],
   "source": [
    "# best parameters for decision tree model\n",
    "tree.best_params_"
   ]
  },
  {
   "cell_type": "code",
   "execution_count": 187,
   "metadata": {},
   "outputs": [
    {
     "data": {
      "text/plain": [
       "0.9687714481811942"
      ]
     },
     "execution_count": 187,
     "metadata": {},
     "output_type": "execute_result"
    }
   ],
   "source": [
    "# best score for the model\n",
    "tree.best_score_"
   ]
  },
  {
   "cell_type": "code",
   "execution_count": 209,
   "metadata": {},
   "outputs": [
    {
     "data": {
      "text/plain": [
       "DecisionTreeClassifier(class_weight=None, criterion='gini', max_depth=4,\n",
       "            max_features=3, max_leaf_nodes=None, min_impurity_decrease=0.0,\n",
       "            min_impurity_split=None, min_samples_leaf=5,\n",
       "            min_samples_split=4, min_weight_fraction_leaf=0.0,\n",
       "            presort=False, random_state=None, splitter='best')"
      ]
     },
     "execution_count": 209,
     "metadata": {},
     "output_type": "execute_result"
    }
   ],
   "source": [
    "# Building final decision tree model\n",
    "clf_tree1=DecisionTreeClassifier(max_depth=4,max_features=3,min_samples_leaf=5,min_samples_split=4)\n",
    "clf_tree1.fit(train_X,train_y)"
   ]
  },
  {
   "cell_type": "markdown",
   "metadata": {},
   "source": [
    "# Model Performance Evaluation"
   ]
  },
  {
   "cell_type": "markdown",
   "metadata": {},
   "source": [
    "**On Test & Validate Data**"
   ]
  },
  {
   "cell_type": "code",
   "execution_count": 189,
   "metadata": {},
   "outputs": [
    {
     "data": {
      "text/html": [
       "<div>\n",
       "<style scoped>\n",
       "    .dataframe tbody tr th:only-of-type {\n",
       "        vertical-align: middle;\n",
       "    }\n",
       "\n",
       "    .dataframe tbody tr th {\n",
       "        vertical-align: top;\n",
       "    }\n",
       "\n",
       "    .dataframe thead th {\n",
       "        text-align: right;\n",
       "    }\n",
       "</style>\n",
       "<table border=\"1\" class=\"dataframe\">\n",
       "  <thead>\n",
       "    <tr style=\"text-align: right;\">\n",
       "      <th></th>\n",
       "      <th>EXTRELNO</th>\n",
       "      <th>actual</th>\n",
       "      <th>predicted</th>\n",
       "    </tr>\n",
       "  </thead>\n",
       "  <tbody>\n",
       "    <tr>\n",
       "      <th>0</th>\n",
       "      <td>0029468</td>\n",
       "      <td>0</td>\n",
       "      <td>0</td>\n",
       "    </tr>\n",
       "    <tr>\n",
       "      <th>1</th>\n",
       "      <td>0033178</td>\n",
       "      <td>1</td>\n",
       "      <td>1</td>\n",
       "    </tr>\n",
       "    <tr>\n",
       "      <th>2</th>\n",
       "      <td>0037328</td>\n",
       "      <td>1</td>\n",
       "      <td>1</td>\n",
       "    </tr>\n",
       "    <tr>\n",
       "      <th>3</th>\n",
       "      <td>0178831</td>\n",
       "      <td>0</td>\n",
       "      <td>0</td>\n",
       "    </tr>\n",
       "    <tr>\n",
       "      <th>4</th>\n",
       "      <td>0181108</td>\n",
       "      <td>0</td>\n",
       "      <td>0</td>\n",
       "    </tr>\n",
       "  </tbody>\n",
       "</table>\n",
       "</div>"
      ],
      "text/plain": [
       "  EXTRELNO  actual  predicted\n",
       "0  0029468       0          0\n",
       "1  0033178       1          1\n",
       "2  0037328       1          1\n",
       "3  0178831       0          0\n",
       "4  0181108       0          0"
      ]
     },
     "execution_count": 189,
     "metadata": {},
     "output_type": "execute_result"
    }
   ],
   "source": [
    "# predict 0 & 1 for validate data\n",
    "validate=pd.DataFrame({'actual':validate_y,'predicted':clf_tree1.predict(validate_X)})\n",
    "validate=validate.reset_index()\n",
    "validate.head()"
   ]
  },
  {
   "cell_type": "code",
   "execution_count": 190,
   "metadata": {},
   "outputs": [
    {
     "data": {
      "text/html": [
       "<div>\n",
       "<style scoped>\n",
       "    .dataframe tbody tr th:only-of-type {\n",
       "        vertical-align: middle;\n",
       "    }\n",
       "\n",
       "    .dataframe tbody tr th {\n",
       "        vertical-align: top;\n",
       "    }\n",
       "\n",
       "    .dataframe thead th {\n",
       "        text-align: right;\n",
       "    }\n",
       "</style>\n",
       "<table border=\"1\" class=\"dataframe\">\n",
       "  <thead>\n",
       "    <tr style=\"text-align: right;\">\n",
       "      <th></th>\n",
       "      <th>EXTRELNO</th>\n",
       "      <th>actual</th>\n",
       "      <th>predicted</th>\n",
       "    </tr>\n",
       "  </thead>\n",
       "  <tbody>\n",
       "    <tr>\n",
       "      <th>0</th>\n",
       "      <td>0027029</td>\n",
       "      <td>0</td>\n",
       "      <td>0</td>\n",
       "    </tr>\n",
       "    <tr>\n",
       "      <th>1</th>\n",
       "      <td>0030559</td>\n",
       "      <td>1</td>\n",
       "      <td>0</td>\n",
       "    </tr>\n",
       "    <tr>\n",
       "      <th>2</th>\n",
       "      <td>0032313</td>\n",
       "      <td>0</td>\n",
       "      <td>1</td>\n",
       "    </tr>\n",
       "    <tr>\n",
       "      <th>3</th>\n",
       "      <td>0034186</td>\n",
       "      <td>0</td>\n",
       "      <td>1</td>\n",
       "    </tr>\n",
       "    <tr>\n",
       "      <th>4</th>\n",
       "      <td>0150970</td>\n",
       "      <td>0</td>\n",
       "      <td>0</td>\n",
       "    </tr>\n",
       "  </tbody>\n",
       "</table>\n",
       "</div>"
      ],
      "text/plain": [
       "  EXTRELNO  actual  predicted\n",
       "0  0027029       0          0\n",
       "1  0030559       1          0\n",
       "2  0032313       0          1\n",
       "3  0034186       0          1\n",
       "4  0150970       0          0"
      ]
     },
     "execution_count": 190,
     "metadata": {},
     "output_type": "execute_result"
    }
   ],
   "source": [
    "# predict 0 & 1 for test data\n",
    "test=pd.DataFrame({'actual':test_y,'predicted':clf_tree1.predict(test_X)})\n",
    "test=test.reset_index()\n",
    "test.head()"
   ]
  },
  {
   "cell_type": "code",
   "execution_count": 191,
   "metadata": {},
   "outputs": [
    {
     "data": {
      "text/plain": [
       "array([[ 28,   6],\n",
       "       [  7, 263]], dtype=int64)"
      ]
     },
     "execution_count": 191,
     "metadata": {},
     "output_type": "execute_result"
    }
   ],
   "source": [
    "#confusion matrix for validate data\n",
    "cm_validate=metrics.confusion_matrix(validate.actual,validate.predicted,[1,0])\n",
    "cm_validate"
   ]
  },
  {
   "cell_type": "code",
   "execution_count": 192,
   "metadata": {},
   "outputs": [
    {
     "data": {
      "text/plain": [
       "array([[ 64,  35],\n",
       "       [ 22, 928]], dtype=int64)"
      ]
     },
     "execution_count": 192,
     "metadata": {},
     "output_type": "execute_result"
    }
   ],
   "source": [
    "#confusion matrix for test data\n",
    "cm_test=metrics.confusion_matrix(test.actual,test.predicted,[1,0])\n",
    "cm_test"
   ]
  },
  {
   "cell_type": "code",
   "execution_count": 193,
   "metadata": {},
   "outputs": [
    {
     "name": "stdout",
     "output_type": "stream",
     "text": [
      "             precision    recall  f1-score   support\n",
      "\n",
      "          0       0.98      0.97      0.98       270\n",
      "          1       0.80      0.82      0.81        34\n",
      "\n",
      "avg / total       0.96      0.96      0.96       304\n",
      "\n"
     ]
    }
   ],
   "source": [
    "# classification report for validate data\n",
    "print(metrics.classification_report(validate.actual,validate.predicted))"
   ]
  },
  {
   "cell_type": "code",
   "execution_count": 194,
   "metadata": {},
   "outputs": [
    {
     "name": "stdout",
     "output_type": "stream",
     "text": [
      "             precision    recall  f1-score   support\n",
      "\n",
      "          0       0.96      0.98      0.97       950\n",
      "          1       0.74      0.65      0.69        99\n",
      "\n",
      "avg / total       0.94      0.95      0.94      1049\n",
      "\n"
     ]
    }
   ],
   "source": [
    "# classification report for test data\n",
    "print(metrics.classification_report(test.actual,test.predicted))"
   ]
  },
  {
   "cell_type": "code",
   "execution_count": 195,
   "metadata": {},
   "outputs": [
    {
     "name": "stdout",
     "output_type": "stream",
     "text": [
      "Precision score of validate : 0.8\n"
     ]
    }
   ],
   "source": [
    "#precision score\n",
    "precision_score=metrics.precision_score(validate.actual,validate.predicted)\n",
    "print('Precision score of validate :',round(precision_score,2))"
   ]
  },
  {
   "cell_type": "code",
   "execution_count": 196,
   "metadata": {},
   "outputs": [
    {
     "name": "stdout",
     "output_type": "stream",
     "text": [
      "Precision score of test : 0.74\n"
     ]
    }
   ],
   "source": [
    "#precision score\n",
    "precision_score=metrics.precision_score(test.actual,test.predicted)\n",
    "print('Precision score of test :',round(precision_score,2))"
   ]
  },
  {
   "cell_type": "code",
   "execution_count": 197,
   "metadata": {},
   "outputs": [
    {
     "name": "stdout",
     "output_type": "stream",
     "text": [
      "Accuracy score of validate : 0.96\n"
     ]
    }
   ],
   "source": [
    "#overall accuracy score\n",
    "accuracy_score=metrics.accuracy_score(validate.actual,validate.predicted)\n",
    "print('Accuracy score of validate :',round(accuracy_score,2))"
   ]
  },
  {
   "cell_type": "code",
   "execution_count": 198,
   "metadata": {},
   "outputs": [
    {
     "name": "stdout",
     "output_type": "stream",
     "text": [
      "Accuracy score of test : 0.95\n"
     ]
    }
   ],
   "source": [
    "#overall accuracy score\n",
    "accuracy_score=metrics.accuracy_score(test.actual,test.predicted)\n",
    "print('Accuracy score of test :',round(accuracy_score,2))"
   ]
  },
  {
   "cell_type": "code",
   "execution_count": 199,
   "metadata": {},
   "outputs": [
    {
     "name": "stdout",
     "output_type": "stream",
     "text": [
      "AUC score of validate : 0.9\n"
     ]
    }
   ],
   "source": [
    "#AUC score (Area under the curve)\n",
    "auc_score=metrics.roc_auc_score(validate.actual,validate.predicted)\n",
    "print('AUC score of validate :',round(auc_score,2))"
   ]
  },
  {
   "cell_type": "code",
   "execution_count": 200,
   "metadata": {},
   "outputs": [
    {
     "name": "stdout",
     "output_type": "stream",
     "text": [
      "AUC score of test : 0.81\n"
     ]
    }
   ],
   "source": [
    "#AUC score (Area under the curve)\n",
    "auc_score=metrics.roc_auc_score(test.actual,test.predicted)\n",
    "print('AUC score of test :',round(auc_score,2))"
   ]
  },
  {
   "cell_type": "code",
   "execution_count": 201,
   "metadata": {},
   "outputs": [
    {
     "name": "stdout",
     "output_type": "stream",
     "text": [
      "f1 score of validate : 0.81\n"
     ]
    }
   ],
   "source": [
    "#f1 score\n",
    "f1_score=metrics.f1_score(validate.actual,validate.predicted)\n",
    "print('f1 score of validate :',round(f1_score,2))"
   ]
  },
  {
   "cell_type": "code",
   "execution_count": 202,
   "metadata": {},
   "outputs": [
    {
     "name": "stdout",
     "output_type": "stream",
     "text": [
      "f1 score of test : 0.69\n"
     ]
    }
   ],
   "source": [
    "#f1 score\n",
    "f1_score=metrics.f1_score(test.actual,test.predicted)\n",
    "print('f1 score of test :',round(f1_score,2))"
   ]
  },
  {
   "cell_type": "markdown",
   "metadata": {},
   "source": [
    "# Random Forest Classifier"
   ]
  },
  {
   "cell_type": "code",
   "execution_count": 203,
   "metadata": {},
   "outputs": [
    {
     "name": "stderr",
     "output_type": "stream",
     "text": [
      "C:\\Users\\A\\Anaconda3\\lib\\site-packages\\sklearn\\ensemble\\weight_boosting.py:29: DeprecationWarning: numpy.core.umath_tests is an internal NumPy module and should not be imported. It will be removed in a future NumPy release.\n",
      "  from numpy.core.umath_tests import inner1d\n"
     ]
    }
   ],
   "source": [
    "from sklearn.ensemble import RandomForestClassifier"
   ]
  },
  {
   "cell_type": "code",
   "execution_count": 205,
   "metadata": {},
   "outputs": [],
   "source": [
    "rfc = RandomForestClassifier().fit(train_X, train_y)"
   ]
  },
  {
   "cell_type": "code",
   "execution_count": 206,
   "metadata": {},
   "outputs": [],
   "source": [
    "# tuning parameters\n",
    "param_grid1={'max_depth':np.arange(3,10),'n_estimators':[200,400,600,800]}"
   ]
  },
  {
   "cell_type": "code",
   "execution_count": 207,
   "metadata": {},
   "outputs": [],
   "source": [
    "rfc1=GridSearchCV(RandomForestClassifier(),param_grid1,cv=5)"
   ]
  },
  {
   "cell_type": "code",
   "execution_count": 208,
   "metadata": {},
   "outputs": [
    {
     "data": {
      "text/plain": [
       "GridSearchCV(cv=5, error_score='raise',\n",
       "       estimator=RandomForestClassifier(bootstrap=True, class_weight=None, criterion='gini',\n",
       "            max_depth=None, max_features='auto', max_leaf_nodes=None,\n",
       "            min_impurity_decrease=0.0, min_impurity_split=None,\n",
       "            min_samples_leaf=1, min_samples_split=2,\n",
       "            min_weight_fraction_leaf=0.0, n_estimators=10, n_jobs=1,\n",
       "            oob_score=False, random_state=None, verbose=0,\n",
       "            warm_start=False),\n",
       "       fit_params={}, iid=True, n_jobs=1,\n",
       "       param_grid={'max_depth': array([3, 4, 5, 6, 7, 8, 9]), 'n_estimators': [200, 400, 600, 800]},\n",
       "       pre_dispatch='2*n_jobs', refit=True, scoring=None, verbose=0)"
      ]
     },
     "execution_count": 208,
     "metadata": {},
     "output_type": "execute_result"
    }
   ],
   "source": [
    "# fit the model\n",
    "rfc1.fit(train_X,train_y)"
   ]
  },
  {
   "cell_type": "code",
   "execution_count": 210,
   "metadata": {},
   "outputs": [
    {
     "data": {
      "text/plain": [
       "{'max_depth': 8, 'n_estimators': 800}"
      ]
     },
     "execution_count": 210,
     "metadata": {},
     "output_type": "execute_result"
    }
   ],
   "source": [
    "rfc1.best_params_"
   ]
  },
  {
   "cell_type": "code",
   "execution_count": 211,
   "metadata": {},
   "outputs": [
    {
     "data": {
      "text/plain": [
       "0.967741935483871"
      ]
     },
     "execution_count": 211,
     "metadata": {},
     "output_type": "execute_result"
    }
   ],
   "source": [
    "rfc1.best_score_"
   ]
  },
  {
   "cell_type": "code",
   "execution_count": 213,
   "metadata": {},
   "outputs": [
    {
     "data": {
      "text/plain": [
       "RandomForestClassifier(bootstrap=True, class_weight=None, criterion='gini',\n",
       "            max_depth=8, max_features='auto', max_leaf_nodes=None,\n",
       "            min_impurity_decrease=0.0, min_impurity_split=None,\n",
       "            min_samples_leaf=1, min_samples_split=2,\n",
       "            min_weight_fraction_leaf=0.0, n_estimators=800, n_jobs=1,\n",
       "            oob_score=True, random_state=None, verbose=0, warm_start=False)"
      ]
     },
     "execution_count": 213,
     "metadata": {},
     "output_type": "execute_result"
    }
   ],
   "source": [
    "# Building final regression model\n",
    "rfc_1=RandomForestClassifier(oob_score=True,max_depth=8,n_estimators=800)\n",
    "rfc_1.fit(train_X,train_y)"
   ]
  },
  {
   "cell_type": "markdown",
   "metadata": {},
   "source": [
    "# Model Performance Evaluation"
   ]
  },
  {
   "cell_type": "code",
   "execution_count": 256,
   "metadata": {},
   "outputs": [
    {
     "name": "stdout",
     "output_type": "stream",
     "text": [
      "Train score: [[ 275    6]\n",
      " [  98 5449]]\n",
      "Validation score: [[ 16   1]\n",
      " [ 18 269]]\n",
      "Test score: [[ 41   5]\n",
      " [ 58 945]]\n"
     ]
    }
   ],
   "source": [
    "print('Train score:' , metrics.confusion_matrix(rfc_1.predict(train_X), train_y,[1,0]))\n",
    "\n",
    "print('Validation score:' , metrics.confusion_matrix(rfc_1.predict(validate_X), validate_y,[1,0]))\n",
    "\n",
    "print('Test score:' , metrics.confusion_matrix(rfc_1.predict(test_X), test_y,[1,0]))"
   ]
  },
  {
   "cell_type": "code",
   "execution_count": 251,
   "metadata": {},
   "outputs": [
    {
     "name": "stdout",
     "output_type": "stream",
     "text": [
      "Train score: 0.9821551132463967\n",
      "Validation score: 0.9375\n",
      "Test score: 0.9399428026692088\n"
     ]
    }
   ],
   "source": [
    "print('Train score:' , metrics.accuracy_score(rfc_1.predict(train_X), train_y))\n",
    "\n",
    "print('Validation score:' , metrics.accuracy_score(rfc_1.predict(validate_X), validate_y))\n",
    "\n",
    "print('Test score:' , metrics.accuracy_score(rfc_1.predict(test_X), test_y))"
   ]
  },
  {
   "cell_type": "code",
   "execution_count": 252,
   "metadata": {},
   "outputs": [
    {
     "name": "stdout",
     "output_type": "stream",
     "text": [
      "Train score: 0.9804902396665953\n",
      "Validation score: 0.939229350276696\n",
      "Test score: 0.9167389136937015\n"
     ]
    }
   ],
   "source": [
    "print('Train score:' , metrics.roc_auc_score(rfc_1.predict(train_X), train_y))\n",
    "\n",
    "print('Validation score:' , metrics.roc_auc_score(rfc_1.predict(validate_X), validate_y))\n",
    "\n",
    "print('Test score:' , metrics.roc_auc_score(rfc_1.predict(test_X), test_y))"
   ]
  },
  {
   "cell_type": "code",
   "execution_count": 253,
   "metadata": {},
   "outputs": [
    {
     "name": "stdout",
     "output_type": "stream",
     "text": [
      "Train score: 0.8409785932721712\n",
      "Validation score: 0.627450980392157\n",
      "Test score: 0.5655172413793104\n"
     ]
    }
   ],
   "source": [
    "print('Train score:' , metrics.f1_score(rfc_1.predict(train_X), train_y))\n",
    "\n",
    "print('Validation score:' , metrics.f1_score(rfc_1.predict(validate_X), validate_y))\n",
    "\n",
    "print('Test score:' , metrics.f1_score(rfc_1.predict(test_X), test_y))"
   ]
  },
  {
   "cell_type": "markdown",
   "metadata": {},
   "source": [
    "**Importance Variables**"
   ]
  },
  {
   "cell_type": "code",
   "execution_count": 259,
   "metadata": {},
   "outputs": [
    {
     "data": {
      "text/html": [
       "<div>\n",
       "<style scoped>\n",
       "    .dataframe tbody tr th:only-of-type {\n",
       "        vertical-align: middle;\n",
       "    }\n",
       "\n",
       "    .dataframe tbody tr th {\n",
       "        vertical-align: top;\n",
       "    }\n",
       "\n",
       "    .dataframe thead th {\n",
       "        text-align: right;\n",
       "    }\n",
       "</style>\n",
       "<table border=\"1\" class=\"dataframe\">\n",
       "  <thead>\n",
       "    <tr style=\"text-align: right;\">\n",
       "      <th></th>\n",
       "      <th>Coefficients</th>\n",
       "    </tr>\n",
       "  </thead>\n",
       "  <tbody>\n",
       "    <tr>\n",
       "      <th>Recency</th>\n",
       "      <td>0.577171</td>\n",
       "    </tr>\n",
       "    <tr>\n",
       "      <th>Avg_don</th>\n",
       "      <td>0.213481</td>\n",
       "    </tr>\n",
       "    <tr>\n",
       "      <th>Frequency</th>\n",
       "      <td>0.156855</td>\n",
       "    </tr>\n",
       "    <tr>\n",
       "      <th>Incoming_Ever</th>\n",
       "      <td>0.020456</td>\n",
       "    </tr>\n",
       "    <tr>\n",
       "      <th>PAYTYPECD_E</th>\n",
       "      <td>0.012736</td>\n",
       "    </tr>\n",
       "    <tr>\n",
       "      <th>PAYTYPECD_X</th>\n",
       "      <td>0.009921</td>\n",
       "    </tr>\n",
       "    <tr>\n",
       "      <th>LANGUACODE_NL</th>\n",
       "      <td>0.004991</td>\n",
       "    </tr>\n",
       "    <tr>\n",
       "      <th>Complaint</th>\n",
       "      <td>0.004388</td>\n",
       "    </tr>\n",
       "  </tbody>\n",
       "</table>\n",
       "</div>"
      ],
      "text/plain": [
       "               Coefficients\n",
       "Recency            0.577171\n",
       "Avg_don            0.213481\n",
       "Frequency          0.156855\n",
       "Incoming_Ever      0.020456\n",
       "PAYTYPECD_E        0.012736\n",
       "PAYTYPECD_X        0.009921\n",
       "LANGUACODE_NL      0.004991\n",
       "Complaint          0.004388"
      ]
     },
     "execution_count": 259,
     "metadata": {},
     "output_type": "execute_result"
    }
   ],
   "source": [
    "var1= pd.DataFrame(rfc_1.feature_importances_,train_X.columns)\n",
    "var1.columns=['Coefficients']\n",
    "temp1 =var.nlargest(10, 'Coefficients')\n",
    "temp1"
   ]
  },
  {
   "cell_type": "code",
   "execution_count": 260,
   "metadata": {},
   "outputs": [
    {
     "data": {
      "text/plain": [
       "<matplotlib.axes._subplots.AxesSubplot at 0x250a83f83c8>"
      ]
     },
     "execution_count": 260,
     "metadata": {},
     "output_type": "execute_result"
    },
    {
     "data": {
      "image/png": "[encoded data removed]",
      "text/plain": [
       "<Figure size 1440x216 with 1 Axes>"
      ]
     },
     "metadata": {
      "needs_background": "light"
     },
     "output_type": "display_data"
    }
   ],
   "source": [
    "temp1.plot(figsize=(20,3),grid=True,title='Variable importance plot',marker='o', xticks=[0,1,2,3,4,5,6,7,8,9])"
   ]
  },
  {
   "cell_type": "markdown",
   "metadata": {},
   "source": [
    "# AdaBoost Classifier"
   ]
  },
  {
   "cell_type": "code",
   "execution_count": 237,
   "metadata": {},
   "outputs": [
    {
     "data": {
      "text/plain": [
       "AdaBoostClassifier(algorithm='SAMME.R', base_estimator=None,\n",
       "          learning_rate=1.0, n_estimators=50, random_state=None)"
      ]
     },
     "execution_count": 237,
     "metadata": {},
     "output_type": "execute_result"
    }
   ],
   "source": [
    "from sklearn.ensemble import AdaBoostClassifier\n",
    "model = AdaBoostClassifier()\n",
    "model.fit(train_X, train_y)"
   ]
  },
  {
   "cell_type": "code",
   "execution_count": 241,
   "metadata": {},
   "outputs": [],
   "source": [
    "param_grid = {'learning_rate': [0.1,0.2,0.5,0.75,0.90,1],'n_estimators':[100,150,200,300]}"
   ]
  },
  {
   "cell_type": "markdown",
   "metadata": {},
   "source": [
    "**Paramter tuning to find best parameters**"
   ]
  },
  {
   "cell_type": "code",
   "execution_count": 242,
   "metadata": {},
   "outputs": [
    {
     "data": {
      "text/plain": [
       "GridSearchCV(cv=5, error_score='raise',\n",
       "       estimator=AdaBoostClassifier(algorithm='SAMME.R', base_estimator=None,\n",
       "          learning_rate=1.0, n_estimators=50, random_state=None),\n",
       "       fit_params={}, iid=True, n_jobs=1,\n",
       "       param_grid={'learning_rate': [0.1, 0.2, 0.5, 0.75, 0.9, 1], 'n_estimators': [100, 150, 200, 300]},\n",
       "       pre_dispatch='2*n_jobs', refit=True, scoring=None, verbose=0)"
      ]
     },
     "execution_count": 242,
     "metadata": {},
     "output_type": "execute_result"
    }
   ],
   "source": [
    "tree2 = GridSearchCV(AdaBoostClassifier(), param_grid, cv = 5)\n",
    "tree2.fit(train_X,train_y )"
   ]
  },
  {
   "cell_type": "code",
   "execution_count": 243,
   "metadata": {},
   "outputs": [
    {
     "name": "stdout",
     "output_type": "stream",
     "text": [
      "0.9644818119423473\n",
      "{'learning_rate': 0.1, 'n_estimators': 150}\n"
     ]
    }
   ],
   "source": [
    "print(tree2.best_score_)\n",
    "print(tree2.best_params_)"
   ]
  },
  {
   "cell_type": "markdown",
   "metadata": {},
   "source": [
    "**Building model based on best parameters**"
   ]
  },
  {
   "cell_type": "code",
   "execution_count": 244,
   "metadata": {},
   "outputs": [
    {
     "data": {
      "text/plain": [
       "AdaBoostClassifier(algorithm='SAMME.R', base_estimator=None,\n",
       "          learning_rate=0.1, n_estimators=150, random_state=None)"
      ]
     },
     "execution_count": 244,
     "metadata": {},
     "output_type": "execute_result"
    }
   ],
   "source": [
    "model = AdaBoostClassifier( learning_rate =0.1, n_estimators=150 )\n",
    "model.fit(train_X,train_y)"
   ]
  },
  {
   "cell_type": "code",
   "execution_count": 245,
   "metadata": {},
   "outputs": [
    {
     "name": "stdout",
     "output_type": "stream",
     "text": [
      "Train score: 0.9682566918325326\n",
      "Validation score: 0.9375\n",
      "Test score: 0.9466158245948523\n"
     ]
    }
   ],
   "source": [
    "print('Train score:' , metrics.accuracy_score(model.predict(train_X), train_y))\n",
    "\n",
    "print('Validation score:' , metrics.accuracy_score(model.predict(validate_X), validate_y))\n",
    "\n",
    "print('Test score:' , metrics.accuracy_score(model.predict(test_X), test_y))"
   ]
  },
  {
   "cell_type": "code",
   "execution_count": 246,
   "metadata": {},
   "outputs": [
    {
     "name": "stdout",
     "output_type": "stream",
     "text": [
      "Confusion matrix for Train: \n",
      " [[5416  146]\n",
      " [  39  227]]\n",
      "Confusion matrix for Validation: \n",
      " [[270  19]\n",
      " [  0  15]]\n",
      "Confusion matrix for Test: \n",
      " [[947  53]\n",
      " [  3  46]]\n"
     ]
    }
   ],
   "source": [
    "print('Confusion matrix for Train: \\n' , metrics.confusion_matrix(model.predict(train_X), train_y))\n",
    "\n",
    "print('Confusion matrix for Validation: \\n' , metrics.confusion_matrix(model.predict(validate_X), validate_y))\n",
    "\n",
    "print('Confusion matrix for Test: \\n' , metrics.confusion_matrix(model.predict(test_X), test_y))"
   ]
  },
  {
   "cell_type": "code",
   "execution_count": 247,
   "metadata": {},
   "outputs": [
    {
     "name": "stdout",
     "output_type": "stream",
     "text": [
      "Train score: 0.7104851330203443\n",
      "Validation score: 0.6122448979591837\n",
      "Test score: 0.6216216216216216\n"
     ]
    }
   ],
   "source": [
    "print('Train score:' , metrics.f1_score(model.predict(train_X), train_y))\n",
    "\n",
    "print('Validation score:' , metrics.f1_score(model.predict(validate_X), validate_y))\n",
    "\n",
    "print('Test score:' , metrics.f1_score(model.predict(test_X), test_y))"
   ]
  },
  {
   "cell_type": "code",
   "execution_count": 248,
   "metadata": {},
   "outputs": [
    {
     "name": "stdout",
     "output_type": "stream",
     "text": [
      "Train score: 0.6085790884718498\n",
      "Validation score: 0.4411764705882353\n",
      "Test score: 0.46464646464646464\n"
     ]
    }
   ],
   "source": [
    "print('Train score:' , metrics.precision_score(model.predict(train_X), train_y))\n",
    "\n",
    "print('Validation score:' , metrics.precision_score(model.predict(validate_X), validate_y))\n",
    "\n",
    "print('Test score:' , metrics.precision_score(model.predict(test_X), test_y))"
   ]
  },
  {
   "cell_type": "markdown",
   "metadata": {},
   "source": [
    "**Importance Variables**"
   ]
  },
  {
   "cell_type": "code",
   "execution_count": 249,
   "metadata": {},
   "outputs": [
    {
     "data": {
      "text/html": [
       "<div>\n",
       "<style scoped>\n",
       "    .dataframe tbody tr th:only-of-type {\n",
       "        vertical-align: middle;\n",
       "    }\n",
       "\n",
       "    .dataframe tbody tr th {\n",
       "        vertical-align: top;\n",
       "    }\n",
       "\n",
       "    .dataframe thead th {\n",
       "        text-align: right;\n",
       "    }\n",
       "</style>\n",
       "<table border=\"1\" class=\"dataframe\">\n",
       "  <thead>\n",
       "    <tr style=\"text-align: right;\">\n",
       "      <th></th>\n",
       "      <th>Coefficients</th>\n",
       "    </tr>\n",
       "  </thead>\n",
       "  <tbody>\n",
       "    <tr>\n",
       "      <th>Recency</th>\n",
       "      <td>0.446667</td>\n",
       "    </tr>\n",
       "    <tr>\n",
       "      <th>Avg_don</th>\n",
       "      <td>0.333333</td>\n",
       "    </tr>\n",
       "    <tr>\n",
       "      <th>Incoming_Ever</th>\n",
       "      <td>0.113333</td>\n",
       "    </tr>\n",
       "    <tr>\n",
       "      <th>Frequency</th>\n",
       "      <td>0.106667</td>\n",
       "    </tr>\n",
       "    <tr>\n",
       "      <th>PAYTYPECD_E</th>\n",
       "      <td>0.000000</td>\n",
       "    </tr>\n",
       "    <tr>\n",
       "      <th>PAYTYPECD_X</th>\n",
       "      <td>0.000000</td>\n",
       "    </tr>\n",
       "    <tr>\n",
       "      <th>LANGUACODE_NL</th>\n",
       "      <td>0.000000</td>\n",
       "    </tr>\n",
       "    <tr>\n",
       "      <th>Complaint</th>\n",
       "      <td>0.000000</td>\n",
       "    </tr>\n",
       "  </tbody>\n",
       "</table>\n",
       "</div>"
      ],
      "text/plain": [
       "               Coefficients\n",
       "Recency            0.446667\n",
       "Avg_don            0.333333\n",
       "Incoming_Ever      0.113333\n",
       "Frequency          0.106667\n",
       "PAYTYPECD_E        0.000000\n",
       "PAYTYPECD_X        0.000000\n",
       "LANGUACODE_NL      0.000000\n",
       "Complaint          0.000000"
      ]
     },
     "execution_count": 249,
     "metadata": {},
     "output_type": "execute_result"
    }
   ],
   "source": [
    "var= pd.DataFrame(model.feature_importances_,train_X.columns)\n",
    "var.columns=['Coefficients']\n",
    "temp =var.nlargest(10, 'Coefficients')\n",
    "temp"
   ]
  },
  {
   "cell_type": "code",
   "execution_count": 250,
   "metadata": {},
   "outputs": [
    {
     "data": {
      "text/plain": [
       "<matplotlib.axes._subplots.AxesSubplot at 0x250a88fd860>"
      ]
     },
     "execution_count": 250,
     "metadata": {},
     "output_type": "execute_result"
    },
    {
     "data": {
      "image/png": "[encoded data removed]",
      "text/plain": [
       "<Figure size 1440x216 with 1 Axes>"
      ]
     },
     "metadata": {
      "needs_background": "light"
     },
     "output_type": "display_data"
    }
   ],
   "source": [
    "temp.plot(figsize=(20,3),grid=True,title='Variable importance plot',marker='o', xticks=[0,1,2,3,4,5,6,7,8,9])"
   ]
  },
  {
   "cell_type": "markdown",
   "metadata": {},
   "source": [
    "_Logistic Regression gives the good results_"
   ]
  },
  {
   "cell_type": "code",
   "execution_count": null,
   "metadata": {},
   "outputs": [],
   "source": []
  }
 ],
 "metadata": {
  "kernelspec": {
   "display_name": "Python 3",
   "language": "python",
   "name": "python3"
  },
  "language_info": {
   "codemirror_mode": {
    "name": "ipython",
    "version": 3
   },
   "file_extension": ".py",
   "mimetype": "text/x-python",
   "name": "python",
   "nbconvert_exporter": "python",
   "pygments_lexer": "ipython3",
   "version": "3.7.0"
  }
 },
 "nbformat": 4,
 "nbformat_minor": 2
}
